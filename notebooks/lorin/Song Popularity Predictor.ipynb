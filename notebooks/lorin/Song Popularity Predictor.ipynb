{
 "cells": [
  {
   "cell_type": "code",
   "execution_count": 1,
   "metadata": {},
   "outputs": [
    {
     "data": {
      "text/html": [
       "<div>\n",
       "<style scoped>\n",
       "    .dataframe tbody tr th:only-of-type {\n",
       "        vertical-align: middle;\n",
       "    }\n",
       "\n",
       "    .dataframe tbody tr th {\n",
       "        vertical-align: top;\n",
       "    }\n",
       "\n",
       "    .dataframe thead th {\n",
       "        text-align: right;\n",
       "    }\n",
       "</style>\n",
       "<table border=\"1\" class=\"dataframe\">\n",
       "  <thead>\n",
       "    <tr style=\"text-align: right;\">\n",
       "      <th></th>\n",
       "      <th>id</th>\n",
       "      <th>name</th>\n",
       "      <th>popularity</th>\n",
       "      <th>duration_ms</th>\n",
       "      <th>explicit</th>\n",
       "      <th>artists</th>\n",
       "      <th>id_artists</th>\n",
       "      <th>release_date</th>\n",
       "      <th>danceability</th>\n",
       "      <th>energy</th>\n",
       "      <th>key</th>\n",
       "      <th>loudness</th>\n",
       "      <th>mode</th>\n",
       "      <th>speechiness</th>\n",
       "      <th>acousticness</th>\n",
       "      <th>instrumentalness</th>\n",
       "      <th>liveness</th>\n",
       "      <th>valence</th>\n",
       "      <th>tempo</th>\n",
       "      <th>time_signature</th>\n",
       "    </tr>\n",
       "  </thead>\n",
       "  <tbody>\n",
       "    <tr>\n",
       "      <th>0</th>\n",
       "      <td>35iwgR4jXetI318WEWsa1Q</td>\n",
       "      <td>Carve</td>\n",
       "      <td>6</td>\n",
       "      <td>126903</td>\n",
       "      <td>0</td>\n",
       "      <td>['Uli']</td>\n",
       "      <td>['45tIt06XoI0Iio4LBEVpls']</td>\n",
       "      <td>1922-02-22</td>\n",
       "      <td>0.645</td>\n",
       "      <td>0.4450</td>\n",
       "      <td>0</td>\n",
       "      <td>-13.338</td>\n",
       "      <td>1</td>\n",
       "      <td>0.4510</td>\n",
       "      <td>0.674</td>\n",
       "      <td>0.744000</td>\n",
       "      <td>0.1510</td>\n",
       "      <td>0.1270</td>\n",
       "      <td>104.851</td>\n",
       "      <td>3</td>\n",
       "    </tr>\n",
       "    <tr>\n",
       "      <th>1</th>\n",
       "      <td>021ht4sdgPcrDgSk7JTbKY</td>\n",
       "      <td>Capítulo 2.16 - Banquero Anarquista</td>\n",
       "      <td>0</td>\n",
       "      <td>98200</td>\n",
       "      <td>0</td>\n",
       "      <td>['Fernando Pessoa']</td>\n",
       "      <td>['14jtPCOoNZwquk5wd9DxrY']</td>\n",
       "      <td>1922-06-01</td>\n",
       "      <td>0.695</td>\n",
       "      <td>0.2630</td>\n",
       "      <td>0</td>\n",
       "      <td>-22.136</td>\n",
       "      <td>1</td>\n",
       "      <td>0.9570</td>\n",
       "      <td>0.797</td>\n",
       "      <td>0.000000</td>\n",
       "      <td>0.1480</td>\n",
       "      <td>0.6550</td>\n",
       "      <td>102.009</td>\n",
       "      <td>1</td>\n",
       "    </tr>\n",
       "    <tr>\n",
       "      <th>2</th>\n",
       "      <td>07A5yehtSnoedViJAZkNnc</td>\n",
       "      <td>Vivo para Quererte - Remasterizado</td>\n",
       "      <td>0</td>\n",
       "      <td>181640</td>\n",
       "      <td>0</td>\n",
       "      <td>['Ignacio Corsini']</td>\n",
       "      <td>['5LiOoJbxVSAMkBS2fUm3X2']</td>\n",
       "      <td>1922-03-21</td>\n",
       "      <td>0.434</td>\n",
       "      <td>0.1770</td>\n",
       "      <td>1</td>\n",
       "      <td>-21.180</td>\n",
       "      <td>1</td>\n",
       "      <td>0.0512</td>\n",
       "      <td>0.994</td>\n",
       "      <td>0.021800</td>\n",
       "      <td>0.2120</td>\n",
       "      <td>0.4570</td>\n",
       "      <td>130.418</td>\n",
       "      <td>5</td>\n",
       "    </tr>\n",
       "    <tr>\n",
       "      <th>3</th>\n",
       "      <td>08FmqUhxtyLTn6pAh6bk45</td>\n",
       "      <td>El Prisionero - Remasterizado</td>\n",
       "      <td>0</td>\n",
       "      <td>176907</td>\n",
       "      <td>0</td>\n",
       "      <td>['Ignacio Corsini']</td>\n",
       "      <td>['5LiOoJbxVSAMkBS2fUm3X2']</td>\n",
       "      <td>1922-03-21</td>\n",
       "      <td>0.321</td>\n",
       "      <td>0.0946</td>\n",
       "      <td>7</td>\n",
       "      <td>-27.961</td>\n",
       "      <td>1</td>\n",
       "      <td>0.0504</td>\n",
       "      <td>0.995</td>\n",
       "      <td>0.918000</td>\n",
       "      <td>0.1040</td>\n",
       "      <td>0.3970</td>\n",
       "      <td>169.980</td>\n",
       "      <td>3</td>\n",
       "    </tr>\n",
       "    <tr>\n",
       "      <th>4</th>\n",
       "      <td>08y9GfoqCWfOGsKdwojr5e</td>\n",
       "      <td>Lady of the Evening</td>\n",
       "      <td>0</td>\n",
       "      <td>163080</td>\n",
       "      <td>0</td>\n",
       "      <td>['Dick Haymes']</td>\n",
       "      <td>['3BiJGZsyX9sJchTqcSA7Su']</td>\n",
       "      <td>1922</td>\n",
       "      <td>0.402</td>\n",
       "      <td>0.1580</td>\n",
       "      <td>3</td>\n",
       "      <td>-16.900</td>\n",
       "      <td>0</td>\n",
       "      <td>0.0390</td>\n",
       "      <td>0.989</td>\n",
       "      <td>0.130000</td>\n",
       "      <td>0.3110</td>\n",
       "      <td>0.1960</td>\n",
       "      <td>103.220</td>\n",
       "      <td>4</td>\n",
       "    </tr>\n",
       "    <tr>\n",
       "      <th>...</th>\n",
       "      <td>...</td>\n",
       "      <td>...</td>\n",
       "      <td>...</td>\n",
       "      <td>...</td>\n",
       "      <td>...</td>\n",
       "      <td>...</td>\n",
       "      <td>...</td>\n",
       "      <td>...</td>\n",
       "      <td>...</td>\n",
       "      <td>...</td>\n",
       "      <td>...</td>\n",
       "      <td>...</td>\n",
       "      <td>...</td>\n",
       "      <td>...</td>\n",
       "      <td>...</td>\n",
       "      <td>...</td>\n",
       "      <td>...</td>\n",
       "      <td>...</td>\n",
       "      <td>...</td>\n",
       "      <td>...</td>\n",
       "    </tr>\n",
       "    <tr>\n",
       "      <th>586667</th>\n",
       "      <td>5rgu12WBIHQtvej2MdHSH0</td>\n",
       "      <td>云与海</td>\n",
       "      <td>50</td>\n",
       "      <td>258267</td>\n",
       "      <td>0</td>\n",
       "      <td>['阿YueYue']</td>\n",
       "      <td>['1QLBXKM5GCpyQQSVMNZqrZ']</td>\n",
       "      <td>2020-09-26</td>\n",
       "      <td>0.560</td>\n",
       "      <td>0.5180</td>\n",
       "      <td>0</td>\n",
       "      <td>-7.471</td>\n",
       "      <td>0</td>\n",
       "      <td>0.0292</td>\n",
       "      <td>0.785</td>\n",
       "      <td>0.000000</td>\n",
       "      <td>0.0648</td>\n",
       "      <td>0.2110</td>\n",
       "      <td>131.896</td>\n",
       "      <td>4</td>\n",
       "    </tr>\n",
       "    <tr>\n",
       "      <th>586668</th>\n",
       "      <td>0NuWgxEp51CutD2pJoF4OM</td>\n",
       "      <td>blind</td>\n",
       "      <td>72</td>\n",
       "      <td>153293</td>\n",
       "      <td>0</td>\n",
       "      <td>['ROLE MODEL']</td>\n",
       "      <td>['1dy5WNgIKQU6ezkpZs4y8z']</td>\n",
       "      <td>2020-10-21</td>\n",
       "      <td>0.765</td>\n",
       "      <td>0.6630</td>\n",
       "      <td>0</td>\n",
       "      <td>-5.223</td>\n",
       "      <td>1</td>\n",
       "      <td>0.0652</td>\n",
       "      <td>0.141</td>\n",
       "      <td>0.000297</td>\n",
       "      <td>0.0924</td>\n",
       "      <td>0.6860</td>\n",
       "      <td>150.091</td>\n",
       "      <td>4</td>\n",
       "    </tr>\n",
       "    <tr>\n",
       "      <th>586669</th>\n",
       "      <td>27Y1N4Q4U3EfDU5Ubw8ws2</td>\n",
       "      <td>What They'll Say About Us</td>\n",
       "      <td>70</td>\n",
       "      <td>187601</td>\n",
       "      <td>0</td>\n",
       "      <td>['FINNEAS']</td>\n",
       "      <td>['37M5pPGs6V1fchFJSgCguX']</td>\n",
       "      <td>2020-09-02</td>\n",
       "      <td>0.535</td>\n",
       "      <td>0.3140</td>\n",
       "      <td>7</td>\n",
       "      <td>-12.823</td>\n",
       "      <td>0</td>\n",
       "      <td>0.0408</td>\n",
       "      <td>0.895</td>\n",
       "      <td>0.000150</td>\n",
       "      <td>0.0874</td>\n",
       "      <td>0.0663</td>\n",
       "      <td>145.095</td>\n",
       "      <td>4</td>\n",
       "    </tr>\n",
       "    <tr>\n",
       "      <th>586670</th>\n",
       "      <td>45XJsGpFTyzbzeWK8VzR8S</td>\n",
       "      <td>A Day At A Time</td>\n",
       "      <td>58</td>\n",
       "      <td>142003</td>\n",
       "      <td>0</td>\n",
       "      <td>['Gentle Bones', 'Clara Benin']</td>\n",
       "      <td>['4jGPdu95icCKVF31CcFKbS', '5ebPSE9YI5aLeZ1Z2g...</td>\n",
       "      <td>2021-03-05</td>\n",
       "      <td>0.696</td>\n",
       "      <td>0.6150</td>\n",
       "      <td>10</td>\n",
       "      <td>-6.212</td>\n",
       "      <td>1</td>\n",
       "      <td>0.0345</td>\n",
       "      <td>0.206</td>\n",
       "      <td>0.000003</td>\n",
       "      <td>0.3050</td>\n",
       "      <td>0.4380</td>\n",
       "      <td>90.029</td>\n",
       "      <td>4</td>\n",
       "    </tr>\n",
       "    <tr>\n",
       "      <th>586671</th>\n",
       "      <td>5Ocn6dZ3BJFPWh4ylwFXtn</td>\n",
       "      <td>Mar de Emociones</td>\n",
       "      <td>38</td>\n",
       "      <td>214360</td>\n",
       "      <td>0</td>\n",
       "      <td>['Afrosound']</td>\n",
       "      <td>['0i4Qda0k4nf7jnNHmSNpYv']</td>\n",
       "      <td>2015-07-01</td>\n",
       "      <td>0.686</td>\n",
       "      <td>0.7230</td>\n",
       "      <td>6</td>\n",
       "      <td>-7.067</td>\n",
       "      <td>1</td>\n",
       "      <td>0.0363</td>\n",
       "      <td>0.105</td>\n",
       "      <td>0.000000</td>\n",
       "      <td>0.2640</td>\n",
       "      <td>0.9750</td>\n",
       "      <td>112.204</td>\n",
       "      <td>4</td>\n",
       "    </tr>\n",
       "  </tbody>\n",
       "</table>\n",
       "<p>586672 rows × 20 columns</p>\n",
       "</div>"
      ],
      "text/plain": [
       "                            id                                 name  \\\n",
       "0       35iwgR4jXetI318WEWsa1Q                                Carve   \n",
       "1       021ht4sdgPcrDgSk7JTbKY  Capítulo 2.16 - Banquero Anarquista   \n",
       "2       07A5yehtSnoedViJAZkNnc   Vivo para Quererte - Remasterizado   \n",
       "3       08FmqUhxtyLTn6pAh6bk45        El Prisionero - Remasterizado   \n",
       "4       08y9GfoqCWfOGsKdwojr5e                  Lady of the Evening   \n",
       "...                        ...                                  ...   \n",
       "586667  5rgu12WBIHQtvej2MdHSH0                                  云与海   \n",
       "586668  0NuWgxEp51CutD2pJoF4OM                                blind   \n",
       "586669  27Y1N4Q4U3EfDU5Ubw8ws2            What They'll Say About Us   \n",
       "586670  45XJsGpFTyzbzeWK8VzR8S                      A Day At A Time   \n",
       "586671  5Ocn6dZ3BJFPWh4ylwFXtn                     Mar de Emociones   \n",
       "\n",
       "        popularity  duration_ms  explicit                          artists  \\\n",
       "0                6       126903         0                          ['Uli']   \n",
       "1                0        98200         0              ['Fernando Pessoa']   \n",
       "2                0       181640         0              ['Ignacio Corsini']   \n",
       "3                0       176907         0              ['Ignacio Corsini']   \n",
       "4                0       163080         0                  ['Dick Haymes']   \n",
       "...            ...          ...       ...                              ...   \n",
       "586667          50       258267         0                      ['阿YueYue']   \n",
       "586668          72       153293         0                   ['ROLE MODEL']   \n",
       "586669          70       187601         0                      ['FINNEAS']   \n",
       "586670          58       142003         0  ['Gentle Bones', 'Clara Benin']   \n",
       "586671          38       214360         0                    ['Afrosound']   \n",
       "\n",
       "                                               id_artists release_date  \\\n",
       "0                              ['45tIt06XoI0Iio4LBEVpls']   1922-02-22   \n",
       "1                              ['14jtPCOoNZwquk5wd9DxrY']   1922-06-01   \n",
       "2                              ['5LiOoJbxVSAMkBS2fUm3X2']   1922-03-21   \n",
       "3                              ['5LiOoJbxVSAMkBS2fUm3X2']   1922-03-21   \n",
       "4                              ['3BiJGZsyX9sJchTqcSA7Su']         1922   \n",
       "...                                                   ...          ...   \n",
       "586667                         ['1QLBXKM5GCpyQQSVMNZqrZ']   2020-09-26   \n",
       "586668                         ['1dy5WNgIKQU6ezkpZs4y8z']   2020-10-21   \n",
       "586669                         ['37M5pPGs6V1fchFJSgCguX']   2020-09-02   \n",
       "586670  ['4jGPdu95icCKVF31CcFKbS', '5ebPSE9YI5aLeZ1Z2g...   2021-03-05   \n",
       "586671                         ['0i4Qda0k4nf7jnNHmSNpYv']   2015-07-01   \n",
       "\n",
       "        danceability  energy  key  loudness  mode  speechiness  acousticness  \\\n",
       "0              0.645  0.4450    0   -13.338     1       0.4510         0.674   \n",
       "1              0.695  0.2630    0   -22.136     1       0.9570         0.797   \n",
       "2              0.434  0.1770    1   -21.180     1       0.0512         0.994   \n",
       "3              0.321  0.0946    7   -27.961     1       0.0504         0.995   \n",
       "4              0.402  0.1580    3   -16.900     0       0.0390         0.989   \n",
       "...              ...     ...  ...       ...   ...          ...           ...   \n",
       "586667         0.560  0.5180    0    -7.471     0       0.0292         0.785   \n",
       "586668         0.765  0.6630    0    -5.223     1       0.0652         0.141   \n",
       "586669         0.535  0.3140    7   -12.823     0       0.0408         0.895   \n",
       "586670         0.696  0.6150   10    -6.212     1       0.0345         0.206   \n",
       "586671         0.686  0.7230    6    -7.067     1       0.0363         0.105   \n",
       "\n",
       "        instrumentalness  liveness  valence    tempo  time_signature  \n",
       "0               0.744000    0.1510   0.1270  104.851               3  \n",
       "1               0.000000    0.1480   0.6550  102.009               1  \n",
       "2               0.021800    0.2120   0.4570  130.418               5  \n",
       "3               0.918000    0.1040   0.3970  169.980               3  \n",
       "4               0.130000    0.3110   0.1960  103.220               4  \n",
       "...                  ...       ...      ...      ...             ...  \n",
       "586667          0.000000    0.0648   0.2110  131.896               4  \n",
       "586668          0.000297    0.0924   0.6860  150.091               4  \n",
       "586669          0.000150    0.0874   0.0663  145.095               4  \n",
       "586670          0.000003    0.3050   0.4380   90.029               4  \n",
       "586671          0.000000    0.2640   0.9750  112.204               4  \n",
       "\n",
       "[586672 rows x 20 columns]"
      ]
     },
     "execution_count": 1,
     "metadata": {},
     "output_type": "execute_result"
    }
   ],
   "source": [
    "import pandas as pd\n",
    "import numpy as np\n",
    "from sklearn.model_selection import train_test_split, GridSearchCV\n",
    "from sklearn.linear_model import LogisticRegression\n",
    "from sklearn.preprocessing import StandardScaler\n",
    "from sklearn.impute import SimpleImputer\n",
    "from sklearn.ensemble import RandomForestClassifier\n",
    "from sklearn.metrics import accuracy_score, precision_score\n",
    "import warnings\n",
    "warnings.filterwarnings(\"ignore\")\n",
    "from sklearn import metrics\n",
    "import matplotlib.pyplot as plt\n",
    "import seaborn as sns\n",
    "%matplotlib inline\n",
    "\n",
    "\n",
    "from scipy.stats import uniform, randint\n",
    "df = pd.read_csv(\"../../data/tracks.csv\")\n",
    "df"
   ]
  },
  {
   "cell_type": "code",
   "execution_count": 2,
   "metadata": {},
   "outputs": [],
   "source": [
    "df = df.drop(columns= ['artists'], axis=1)\n"
   ]
  },
  {
   "cell_type": "code",
   "execution_count": 3,
   "metadata": {},
   "outputs": [],
   "source": [
    "df2 =pd.read_csv(\"../../data/complete.csv\")"
   ]
  },
  {
   "cell_type": "code",
   "execution_count": 4,
   "metadata": {},
   "outputs": [],
   "source": [
    "big_df = pd.merge(df, df2, how='inner')"
   ]
  },
  {
   "cell_type": "code",
   "execution_count": 5,
   "metadata": {},
   "outputs": [
    {
     "data": {
      "text/plain": [
       "1    10538\n",
       "0       42\n",
       "Name: On_chart, dtype: int64"
      ]
     },
     "execution_count": 5,
     "metadata": {},
     "output_type": "execute_result"
    }
   ],
   "source": [
    "big_df[\"On_chart\"].value_counts()"
   ]
  },
  {
   "cell_type": "code",
   "execution_count": 6,
   "metadata": {},
   "outputs": [],
   "source": [
    "df3 = big_df.loc[big_df['On_chart'] != 0]"
   ]
  },
  {
   "cell_type": "code",
   "execution_count": 7,
   "metadata": {},
   "outputs": [],
   "source": [
    "df3 = big_df.loc[big_df['popularity'] >= 10]"
   ]
  },
  {
   "cell_type": "code",
   "execution_count": 8,
   "metadata": {},
   "outputs": [
    {
     "data": {
      "text/plain": [
       "1    10403\n",
       "0       41\n",
       "Name: On_chart, dtype: int64"
      ]
     },
     "execution_count": 8,
     "metadata": {},
     "output_type": "execute_result"
    }
   ],
   "source": [
    "df3[\"On_chart\"].value_counts()"
   ]
  },
  {
   "cell_type": "code",
   "execution_count": 9,
   "metadata": {},
   "outputs": [
    {
     "data": {
      "text/plain": [
       "56.0"
      ]
     },
     "execution_count": 9,
     "metadata": {},
     "output_type": "execute_result"
    }
   ],
   "source": [
    "df3[\"popularity\"].median()"
   ]
  },
  {
   "cell_type": "code",
   "execution_count": 10,
   "metadata": {},
   "outputs": [
    {
     "data": {
      "text/plain": [
       "<AxesSubplot:xlabel='popularity'>"
      ]
     },
     "execution_count": 10,
     "metadata": {},
     "output_type": "execute_result"
    },
    {
     "data": {
      "image/png": "[encoded data removed]",
      "text/plain": [
       "<Figure size 432x288 with 1 Axes>"
      ]
     },
     "metadata": {
      "needs_background": "light"
     },
     "output_type": "display_data"
    }
   ],
   "source": [
    "import seaborn as sns\n",
    "sns.boxplot(df3[\"popularity\"])"
   ]
  },
  {
   "cell_type": "code",
   "execution_count": 11,
   "metadata": {},
   "outputs": [
    {
     "data": {
      "text/html": [
       "<div>\n",
       "<style scoped>\n",
       "    .dataframe tbody tr th:only-of-type {\n",
       "        vertical-align: middle;\n",
       "    }\n",
       "\n",
       "    .dataframe tbody tr th {\n",
       "        vertical-align: top;\n",
       "    }\n",
       "\n",
       "    .dataframe thead th {\n",
       "        text-align: right;\n",
       "    }\n",
       "</style>\n",
       "<table border=\"1\" class=\"dataframe\">\n",
       "  <thead>\n",
       "    <tr style=\"text-align: right;\">\n",
       "      <th></th>\n",
       "      <th>id</th>\n",
       "      <th>name</th>\n",
       "      <th>popularity</th>\n",
       "      <th>duration_ms</th>\n",
       "      <th>explicit</th>\n",
       "      <th>id_artists</th>\n",
       "      <th>release_date</th>\n",
       "      <th>danceability</th>\n",
       "      <th>energy</th>\n",
       "      <th>key</th>\n",
       "      <th>loudness</th>\n",
       "      <th>mode</th>\n",
       "      <th>speechiness</th>\n",
       "      <th>acousticness</th>\n",
       "      <th>instrumentalness</th>\n",
       "      <th>liveness</th>\n",
       "      <th>valence</th>\n",
       "      <th>tempo</th>\n",
       "      <th>time_signature</th>\n",
       "      <th>new_pop</th>\n",
       "    </tr>\n",
       "  </thead>\n",
       "  <tbody>\n",
       "    <tr>\n",
       "      <th>0</th>\n",
       "      <td>35iwgR4jXetI318WEWsa1Q</td>\n",
       "      <td>Carve</td>\n",
       "      <td>6</td>\n",
       "      <td>126903</td>\n",
       "      <td>0</td>\n",
       "      <td>['45tIt06XoI0Iio4LBEVpls']</td>\n",
       "      <td>1922-02-22</td>\n",
       "      <td>0.645</td>\n",
       "      <td>0.4450</td>\n",
       "      <td>0</td>\n",
       "      <td>-13.338</td>\n",
       "      <td>1</td>\n",
       "      <td>0.4510</td>\n",
       "      <td>0.674</td>\n",
       "      <td>0.744000</td>\n",
       "      <td>0.1510</td>\n",
       "      <td>0.1270</td>\n",
       "      <td>104.851</td>\n",
       "      <td>3</td>\n",
       "      <td>0</td>\n",
       "    </tr>\n",
       "    <tr>\n",
       "      <th>1</th>\n",
       "      <td>021ht4sdgPcrDgSk7JTbKY</td>\n",
       "      <td>Capítulo 2.16 - Banquero Anarquista</td>\n",
       "      <td>0</td>\n",
       "      <td>98200</td>\n",
       "      <td>0</td>\n",
       "      <td>['14jtPCOoNZwquk5wd9DxrY']</td>\n",
       "      <td>1922-06-01</td>\n",
       "      <td>0.695</td>\n",
       "      <td>0.2630</td>\n",
       "      <td>0</td>\n",
       "      <td>-22.136</td>\n",
       "      <td>1</td>\n",
       "      <td>0.9570</td>\n",
       "      <td>0.797</td>\n",
       "      <td>0.000000</td>\n",
       "      <td>0.1480</td>\n",
       "      <td>0.6550</td>\n",
       "      <td>102.009</td>\n",
       "      <td>1</td>\n",
       "      <td>0</td>\n",
       "    </tr>\n",
       "    <tr>\n",
       "      <th>2</th>\n",
       "      <td>07A5yehtSnoedViJAZkNnc</td>\n",
       "      <td>Vivo para Quererte - Remasterizado</td>\n",
       "      <td>0</td>\n",
       "      <td>181640</td>\n",
       "      <td>0</td>\n",
       "      <td>['5LiOoJbxVSAMkBS2fUm3X2']</td>\n",
       "      <td>1922-03-21</td>\n",
       "      <td>0.434</td>\n",
       "      <td>0.1770</td>\n",
       "      <td>1</td>\n",
       "      <td>-21.180</td>\n",
       "      <td>1</td>\n",
       "      <td>0.0512</td>\n",
       "      <td>0.994</td>\n",
       "      <td>0.021800</td>\n",
       "      <td>0.2120</td>\n",
       "      <td>0.4570</td>\n",
       "      <td>130.418</td>\n",
       "      <td>5</td>\n",
       "      <td>0</td>\n",
       "    </tr>\n",
       "    <tr>\n",
       "      <th>3</th>\n",
       "      <td>08FmqUhxtyLTn6pAh6bk45</td>\n",
       "      <td>El Prisionero - Remasterizado</td>\n",
       "      <td>0</td>\n",
       "      <td>176907</td>\n",
       "      <td>0</td>\n",
       "      <td>['5LiOoJbxVSAMkBS2fUm3X2']</td>\n",
       "      <td>1922-03-21</td>\n",
       "      <td>0.321</td>\n",
       "      <td>0.0946</td>\n",
       "      <td>7</td>\n",
       "      <td>-27.961</td>\n",
       "      <td>1</td>\n",
       "      <td>0.0504</td>\n",
       "      <td>0.995</td>\n",
       "      <td>0.918000</td>\n",
       "      <td>0.1040</td>\n",
       "      <td>0.3970</td>\n",
       "      <td>169.980</td>\n",
       "      <td>3</td>\n",
       "      <td>0</td>\n",
       "    </tr>\n",
       "    <tr>\n",
       "      <th>4</th>\n",
       "      <td>08y9GfoqCWfOGsKdwojr5e</td>\n",
       "      <td>Lady of the Evening</td>\n",
       "      <td>0</td>\n",
       "      <td>163080</td>\n",
       "      <td>0</td>\n",
       "      <td>['3BiJGZsyX9sJchTqcSA7Su']</td>\n",
       "      <td>1922</td>\n",
       "      <td>0.402</td>\n",
       "      <td>0.1580</td>\n",
       "      <td>3</td>\n",
       "      <td>-16.900</td>\n",
       "      <td>0</td>\n",
       "      <td>0.0390</td>\n",
       "      <td>0.989</td>\n",
       "      <td>0.130000</td>\n",
       "      <td>0.3110</td>\n",
       "      <td>0.1960</td>\n",
       "      <td>103.220</td>\n",
       "      <td>4</td>\n",
       "      <td>0</td>\n",
       "    </tr>\n",
       "    <tr>\n",
       "      <th>...</th>\n",
       "      <td>...</td>\n",
       "      <td>...</td>\n",
       "      <td>...</td>\n",
       "      <td>...</td>\n",
       "      <td>...</td>\n",
       "      <td>...</td>\n",
       "      <td>...</td>\n",
       "      <td>...</td>\n",
       "      <td>...</td>\n",
       "      <td>...</td>\n",
       "      <td>...</td>\n",
       "      <td>...</td>\n",
       "      <td>...</td>\n",
       "      <td>...</td>\n",
       "      <td>...</td>\n",
       "      <td>...</td>\n",
       "      <td>...</td>\n",
       "      <td>...</td>\n",
       "      <td>...</td>\n",
       "      <td>...</td>\n",
       "    </tr>\n",
       "    <tr>\n",
       "      <th>586667</th>\n",
       "      <td>5rgu12WBIHQtvej2MdHSH0</td>\n",
       "      <td>云与海</td>\n",
       "      <td>50</td>\n",
       "      <td>258267</td>\n",
       "      <td>0</td>\n",
       "      <td>['1QLBXKM5GCpyQQSVMNZqrZ']</td>\n",
       "      <td>2020-09-26</td>\n",
       "      <td>0.560</td>\n",
       "      <td>0.5180</td>\n",
       "      <td>0</td>\n",
       "      <td>-7.471</td>\n",
       "      <td>0</td>\n",
       "      <td>0.0292</td>\n",
       "      <td>0.785</td>\n",
       "      <td>0.000000</td>\n",
       "      <td>0.0648</td>\n",
       "      <td>0.2110</td>\n",
       "      <td>131.896</td>\n",
       "      <td>4</td>\n",
       "      <td>0</td>\n",
       "    </tr>\n",
       "    <tr>\n",
       "      <th>586668</th>\n",
       "      <td>0NuWgxEp51CutD2pJoF4OM</td>\n",
       "      <td>blind</td>\n",
       "      <td>72</td>\n",
       "      <td>153293</td>\n",
       "      <td>0</td>\n",
       "      <td>['1dy5WNgIKQU6ezkpZs4y8z']</td>\n",
       "      <td>2020-10-21</td>\n",
       "      <td>0.765</td>\n",
       "      <td>0.6630</td>\n",
       "      <td>0</td>\n",
       "      <td>-5.223</td>\n",
       "      <td>1</td>\n",
       "      <td>0.0652</td>\n",
       "      <td>0.141</td>\n",
       "      <td>0.000297</td>\n",
       "      <td>0.0924</td>\n",
       "      <td>0.6860</td>\n",
       "      <td>150.091</td>\n",
       "      <td>4</td>\n",
       "      <td>1</td>\n",
       "    </tr>\n",
       "    <tr>\n",
       "      <th>586669</th>\n",
       "      <td>27Y1N4Q4U3EfDU5Ubw8ws2</td>\n",
       "      <td>What They'll Say About Us</td>\n",
       "      <td>70</td>\n",
       "      <td>187601</td>\n",
       "      <td>0</td>\n",
       "      <td>['37M5pPGs6V1fchFJSgCguX']</td>\n",
       "      <td>2020-09-02</td>\n",
       "      <td>0.535</td>\n",
       "      <td>0.3140</td>\n",
       "      <td>7</td>\n",
       "      <td>-12.823</td>\n",
       "      <td>0</td>\n",
       "      <td>0.0408</td>\n",
       "      <td>0.895</td>\n",
       "      <td>0.000150</td>\n",
       "      <td>0.0874</td>\n",
       "      <td>0.0663</td>\n",
       "      <td>145.095</td>\n",
       "      <td>4</td>\n",
       "      <td>1</td>\n",
       "    </tr>\n",
       "    <tr>\n",
       "      <th>586670</th>\n",
       "      <td>45XJsGpFTyzbzeWK8VzR8S</td>\n",
       "      <td>A Day At A Time</td>\n",
       "      <td>58</td>\n",
       "      <td>142003</td>\n",
       "      <td>0</td>\n",
       "      <td>['4jGPdu95icCKVF31CcFKbS', '5ebPSE9YI5aLeZ1Z2g...</td>\n",
       "      <td>2021-03-05</td>\n",
       "      <td>0.696</td>\n",
       "      <td>0.6150</td>\n",
       "      <td>10</td>\n",
       "      <td>-6.212</td>\n",
       "      <td>1</td>\n",
       "      <td>0.0345</td>\n",
       "      <td>0.206</td>\n",
       "      <td>0.000003</td>\n",
       "      <td>0.3050</td>\n",
       "      <td>0.4380</td>\n",
       "      <td>90.029</td>\n",
       "      <td>4</td>\n",
       "      <td>1</td>\n",
       "    </tr>\n",
       "    <tr>\n",
       "      <th>586671</th>\n",
       "      <td>5Ocn6dZ3BJFPWh4ylwFXtn</td>\n",
       "      <td>Mar de Emociones</td>\n",
       "      <td>38</td>\n",
       "      <td>214360</td>\n",
       "      <td>0</td>\n",
       "      <td>['0i4Qda0k4nf7jnNHmSNpYv']</td>\n",
       "      <td>2015-07-01</td>\n",
       "      <td>0.686</td>\n",
       "      <td>0.7230</td>\n",
       "      <td>6</td>\n",
       "      <td>-7.067</td>\n",
       "      <td>1</td>\n",
       "      <td>0.0363</td>\n",
       "      <td>0.105</td>\n",
       "      <td>0.000000</td>\n",
       "      <td>0.2640</td>\n",
       "      <td>0.9750</td>\n",
       "      <td>112.204</td>\n",
       "      <td>4</td>\n",
       "      <td>0</td>\n",
       "    </tr>\n",
       "  </tbody>\n",
       "</table>\n",
       "<p>586672 rows × 20 columns</p>\n",
       "</div>"
      ],
      "text/plain": [
       "                            id                                 name  \\\n",
       "0       35iwgR4jXetI318WEWsa1Q                                Carve   \n",
       "1       021ht4sdgPcrDgSk7JTbKY  Capítulo 2.16 - Banquero Anarquista   \n",
       "2       07A5yehtSnoedViJAZkNnc   Vivo para Quererte - Remasterizado   \n",
       "3       08FmqUhxtyLTn6pAh6bk45        El Prisionero - Remasterizado   \n",
       "4       08y9GfoqCWfOGsKdwojr5e                  Lady of the Evening   \n",
       "...                        ...                                  ...   \n",
       "586667  5rgu12WBIHQtvej2MdHSH0                                  云与海   \n",
       "586668  0NuWgxEp51CutD2pJoF4OM                                blind   \n",
       "586669  27Y1N4Q4U3EfDU5Ubw8ws2            What They'll Say About Us   \n",
       "586670  45XJsGpFTyzbzeWK8VzR8S                      A Day At A Time   \n",
       "586671  5Ocn6dZ3BJFPWh4ylwFXtn                     Mar de Emociones   \n",
       "\n",
       "        popularity  duration_ms  explicit  \\\n",
       "0                6       126903         0   \n",
       "1                0        98200         0   \n",
       "2                0       181640         0   \n",
       "3                0       176907         0   \n",
       "4                0       163080         0   \n",
       "...            ...          ...       ...   \n",
       "586667          50       258267         0   \n",
       "586668          72       153293         0   \n",
       "586669          70       187601         0   \n",
       "586670          58       142003         0   \n",
       "586671          38       214360         0   \n",
       "\n",
       "                                               id_artists release_date  \\\n",
       "0                              ['45tIt06XoI0Iio4LBEVpls']   1922-02-22   \n",
       "1                              ['14jtPCOoNZwquk5wd9DxrY']   1922-06-01   \n",
       "2                              ['5LiOoJbxVSAMkBS2fUm3X2']   1922-03-21   \n",
       "3                              ['5LiOoJbxVSAMkBS2fUm3X2']   1922-03-21   \n",
       "4                              ['3BiJGZsyX9sJchTqcSA7Su']         1922   \n",
       "...                                                   ...          ...   \n",
       "586667                         ['1QLBXKM5GCpyQQSVMNZqrZ']   2020-09-26   \n",
       "586668                         ['1dy5WNgIKQU6ezkpZs4y8z']   2020-10-21   \n",
       "586669                         ['37M5pPGs6V1fchFJSgCguX']   2020-09-02   \n",
       "586670  ['4jGPdu95icCKVF31CcFKbS', '5ebPSE9YI5aLeZ1Z2g...   2021-03-05   \n",
       "586671                         ['0i4Qda0k4nf7jnNHmSNpYv']   2015-07-01   \n",
       "\n",
       "        danceability  energy  key  loudness  mode  speechiness  acousticness  \\\n",
       "0              0.645  0.4450    0   -13.338     1       0.4510         0.674   \n",
       "1              0.695  0.2630    0   -22.136     1       0.9570         0.797   \n",
       "2              0.434  0.1770    1   -21.180     1       0.0512         0.994   \n",
       "3              0.321  0.0946    7   -27.961     1       0.0504         0.995   \n",
       "4              0.402  0.1580    3   -16.900     0       0.0390         0.989   \n",
       "...              ...     ...  ...       ...   ...          ...           ...   \n",
       "586667         0.560  0.5180    0    -7.471     0       0.0292         0.785   \n",
       "586668         0.765  0.6630    0    -5.223     1       0.0652         0.141   \n",
       "586669         0.535  0.3140    7   -12.823     0       0.0408         0.895   \n",
       "586670         0.696  0.6150   10    -6.212     1       0.0345         0.206   \n",
       "586671         0.686  0.7230    6    -7.067     1       0.0363         0.105   \n",
       "\n",
       "        instrumentalness  liveness  valence    tempo  time_signature  new_pop  \n",
       "0               0.744000    0.1510   0.1270  104.851               3        0  \n",
       "1               0.000000    0.1480   0.6550  102.009               1        0  \n",
       "2               0.021800    0.2120   0.4570  130.418               5        0  \n",
       "3               0.918000    0.1040   0.3970  169.980               3        0  \n",
       "4               0.130000    0.3110   0.1960  103.220               4        0  \n",
       "...                  ...       ...      ...      ...             ...      ...  \n",
       "586667          0.000000    0.0648   0.2110  131.896               4        0  \n",
       "586668          0.000297    0.0924   0.6860  150.091               4        1  \n",
       "586669          0.000150    0.0874   0.0663  145.095               4        1  \n",
       "586670          0.000003    0.3050   0.4380   90.029               4        1  \n",
       "586671          0.000000    0.2640   0.9750  112.204               4        0  \n",
       "\n",
       "[586672 rows x 20 columns]"
      ]
     },
     "execution_count": 11,
     "metadata": {},
     "output_type": "execute_result"
    }
   ],
   "source": [
    "df[\"new_pop\"] = [1 if p >=56 else 0 for p in df[\"popularity\"]]\n",
    "df"
   ]
  },
  {
   "cell_type": "code",
   "execution_count": 66,
   "metadata": {},
   "outputs": [],
   "source": [
    "X = df.drop(columns=['new_pop', 'name', 'id', 'id_artists', 'release_date', 'explicit', 'popularity', 'time_signature','tempo', 'mode', 'key'], axis=1)\n",
    "y = df['new_pop']\n",
    "X_train, X_test, y_train, y_test = train_test_split(X, y, test_size=0.33, random_state=42)"
   ]
  },
  {
   "cell_type": "code",
   "execution_count": 67,
   "metadata": {},
   "outputs": [],
   "source": [
    "X_tr_val, X_test_val, y_tr_val, y_test_val = train_test_split(X_train, y_train, test_size=0.33, random_state=42)"
   ]
  },
  {
   "cell_type": "code",
   "execution_count": 68,
   "metadata": {},
   "outputs": [
    {
     "data": {
      "text/plain": [
       "StandardScaler()"
      ]
     },
     "execution_count": 68,
     "metadata": {},
     "output_type": "execute_result"
    }
   ],
   "source": [
    "scaler = StandardScaler()\n",
    "scaler.fit(X_train)"
   ]
  },
  {
   "cell_type": "code",
   "execution_count": 69,
   "metadata": {},
   "outputs": [],
   "source": [
    "X_train_scaled = pd.DataFrame(scaler.transform(X_train), columns=X.columns)\n",
    "X_val_scaled = pd.DataFrame(scaler.transform(X_tr_val), columns=X.columns)"
   ]
  },
  {
   "cell_type": "markdown",
   "metadata": {},
   "source": [
    "# Creating Modeling Function"
   ]
  },
  {
   "cell_type": "code",
   "execution_count": 70,
   "metadata": {},
   "outputs": [],
   "source": [
    "def modeling_function(model, X_train, y_train, X_val, y_val):\n",
    "\n",
    "\n",
    "    model.fit(X_train, y_train)\n",
    "\n",
    "    train_preds = model.predict(X_train)\n",
    "    val_preds = model.predict(X_val)\n",
    "\n",
    "\n",
    "    print('Training accuracy_score: ', accuracy_score(y_train, train_preds))\n",
    "    print('Validation accuracy_score: ', accuracy_score(y_val, val_preds))\n",
    " \n",
    "\n",
    "    return model"
   ]
  },
  {
   "cell_type": "markdown",
   "metadata": {},
   "source": [
    "# Baseline Model"
   ]
  },
  {
   "cell_type": "code",
   "execution_count": 71,
   "metadata": {},
   "outputs": [],
   "source": [
    "logreg1 = LogisticRegression()"
   ]
  },
  {
   "cell_type": "code",
   "execution_count": 72,
   "metadata": {},
   "outputs": [
    {
     "name": "stdout",
     "output_type": "stream",
     "text": [
      "Training accuracy_score:  0.9263464522858524\n",
      "Validation accuracy_score:  0.9264759489056639\n"
     ]
    },
    {
     "data": {
      "text/plain": [
       "LogisticRegression()"
      ]
     },
     "execution_count": 72,
     "metadata": {},
     "output_type": "execute_result"
    }
   ],
   "source": [
    "modeling_function(logreg1, X_train_scaled, y_train, X_val_scaled, y_tr_val)"
   ]
  },
  {
   "cell_type": "markdown",
   "metadata": {},
   "source": [
    "# Smote and Second Logistic Regression"
   ]
  },
  {
   "cell_type": "code",
   "execution_count": 73,
   "metadata": {},
   "outputs": [],
   "source": [
    "from imblearn.over_sampling import SMOTE\n",
    "sm = SMOTE(random_state=2021)"
   ]
  },
  {
   "cell_type": "code",
   "execution_count": 74,
   "metadata": {},
   "outputs": [],
   "source": [
    "X_train_res, y_train_res = sm.fit_resample(X_train_scaled, y_train)"
   ]
  },
  {
   "cell_type": "code",
   "execution_count": 75,
   "metadata": {},
   "outputs": [],
   "source": [
    "logreg2 = LogisticRegression()"
   ]
  },
  {
   "cell_type": "code",
   "execution_count": 76,
   "metadata": {},
   "outputs": [
    {
     "name": "stdout",
     "output_type": "stream",
     "text": [
      "Training accuracy_score:  0.7028505519855001\n",
      "Validation accuracy_score:  0.6640061361806832\n"
     ]
    },
    {
     "data": {
      "text/plain": [
       "LogisticRegression()"
      ]
     },
     "execution_count": 76,
     "metadata": {},
     "output_type": "execute_result"
    }
   ],
   "source": [
    "modeling_function(logreg2, X_train_res, y_train_res, X_val_scaled, y_tr_val)"
   ]
  },
  {
   "cell_type": "markdown",
   "metadata": {},
   "source": [
    "# Decision Tree"
   ]
  },
  {
   "cell_type": "code",
   "execution_count": 77,
   "metadata": {},
   "outputs": [
    {
     "name": "stdout",
     "output_type": "stream",
     "text": [
      "[[179354      0]\n",
      " [ 14248      0]]\n",
      "              precision    recall  f1-score   support\n",
      "\n",
      "           0       0.93      1.00      0.96    179354\n",
      "           1       0.00      0.00      0.00     14248\n",
      "\n",
      "    accuracy                           0.93    193602\n",
      "   macro avg       0.46      0.50      0.48    193602\n",
      "weighted avg       0.86      0.93      0.89    193602\n",
      "\n",
      "Testing Accuracy for Decision Tree Classifier: 92.64%\n"
     ]
    }
   ],
   "source": [
    "from sklearn.tree import DecisionTreeClassifier\n",
    "from sklearn.metrics import accuracy_score, confusion_matrix, classification_report\n",
    "tree_clf = DecisionTreeClassifier(criterion='gini', max_depth=5)\n",
    "tree_clf.fit(X_train, y_train)\n",
    "tree_clf.feature_importances_\n",
    "\n",
    "# Test set predictions\n",
    "pred = tree_clf.predict(X_test)\n",
    "# Confusion matrix and classification report\n",
    "print(confusion_matrix(y_test, pred))\n",
    "print(classification_report(y_test, pred))\n",
    "\n",
    "print(\"Testing Accuracy for Decision Tree Classifier: {:.4}%\".format(accuracy_score(y_test, pred) * 100))"
   ]
  },
  {
   "cell_type": "markdown",
   "metadata": {},
   "source": [
    "# Checking Feature Importance"
   ]
  },
  {
   "cell_type": "code",
   "execution_count": 78,
   "metadata": {},
   "outputs": [],
   "source": [
    "def plot_feature_importances(model):\n",
    "    n_features = X_train.shape[1]\n",
    "    plt.figure(figsize=(8,8))\n",
    "    plt.barh(X_train.columns.values, model.feature_importances_, align='center')\n",
    "    plt.yticks(np.arange(n_features), X_train.columns.values)\n",
    "    plt.xlabel('Feature importance')\n",
    "    plt.ylabel('Feature')"
   ]
  },
  {
   "cell_type": "code",
   "execution_count": 79,
   "metadata": {},
   "outputs": [
    {
     "data": {
      "image/png": "[encoded data removed]",
      "text/plain": [
       "<Figure size 576x576 with 1 Axes>"
      ]
     },
     "metadata": {
      "needs_background": "light"
     },
     "output_type": "display_data"
    }
   ],
   "source": [
    "plot_feature_importances(tree_clf)"
   ]
  },
  {
   "cell_type": "markdown",
   "metadata": {},
   "source": [
    "# Random Forest"
   ]
  },
  {
   "cell_type": "code",
   "execution_count": 80,
   "metadata": {},
   "outputs": [],
   "source": [
    "rf = RandomForestClassifier(random_state=2021)"
   ]
  },
  {
   "cell_type": "code",
   "execution_count": 84,
   "metadata": {},
   "outputs": [
    {
     "name": "stdout",
     "output_type": "stream",
     "text": [
      "Training accuracy_score:  0.9962856488666141\n",
      "Validation accuracy_score:  0.9963053813089506\n"
     ]
    }
   ],
   "source": [
    "rf_model= modeling_function(rf, X_train_scaled, y_train, X_val_scaled, y_tr_val)"
   ]
  },
  {
   "cell_type": "code",
   "execution_count": 85,
   "metadata": {},
   "outputs": [
    {
     "data": {
      "text/plain": [
       "<sklearn.metrics._plot.confusion_matrix.ConfusionMatrixDisplay at 0x128b38f70>"
      ]
     },
     "execution_count": 85,
     "metadata": {},
     "output_type": "execute_result"
    },
    {
     "data": {
      "image/png": "[encoded data removed]",
      "text/plain": [
       "<Figure size 432x288 with 2 Axes>"
      ]
     },
     "metadata": {
      "needs_background": "light"
     },
     "output_type": "display_data"
    }
   ],
   "source": [
    "from sklearn.metrics import plot_confusion_matrix\n",
    "plot_confusion_matrix(rf_model, X_train_scaled, y_train)"
   ]
  },
  {
   "cell_type": "code",
   "execution_count": 118,
   "metadata": {},
   "outputs": [
    {
     "data": {
      "image/png": "[encoded data removed]",
      "text/plain": [
       "<Figure size 576x576 with 1 Axes>"
      ]
     },
     "metadata": {
      "needs_background": "light"
     },
     "output_type": "display_data"
    }
   ],
   "source": [
    "plot_feature_importances(rf)"
   ]
  },
  {
   "cell_type": "markdown",
   "metadata": {},
   "source": [
    "# Neural Net"
   ]
  },
  {
   "cell_type": "code",
   "execution_count": 89,
   "metadata": {},
   "outputs": [
    {
     "name": "stdout",
     "output_type": "stream",
     "text": [
      "Epoch 1/25\n",
      "314456/314456 [==============================] - 390s 1ms/step - loss: 0.2296 - acc: 0.9264 - val_loss: 0.2285 - val_acc: 0.9255\n",
      "Epoch 2/25\n",
      "314456/314456 [==============================] - 613s 2ms/step - loss: 0.2267 - acc: 0.9266 - val_loss: 0.2274 - val_acc: 0.9255\n",
      "Epoch 3/25\n",
      "314456/314456 [==============================] - 439s 1ms/step - loss: 0.2260 - acc: 0.9266 - val_loss: 0.2275 - val_acc: 0.9255\n",
      "Epoch 4/25\n",
      "314456/314456 [==============================] - 434s 1ms/step - loss: 0.2256 - acc: 0.9266 - val_loss: 0.2267 - val_acc: 0.9255\n",
      "Epoch 5/25\n",
      "314456/314456 [==============================] - 288s 916us/step - loss: 0.2253 - acc: 0.9266 - val_loss: 0.2270 - val_acc: 0.9255\n",
      "Epoch 6/25\n",
      "314456/314456 [==============================] - 350s 1ms/step - loss: 0.2251 - acc: 0.9266 - val_loss: 0.2275 - val_acc: 0.9255\n",
      "Epoch 7/25\n",
      "314456/314456 [==============================] - 301s 958us/step - loss: 0.2251 - acc: 0.9266 - val_loss: 0.2268 - val_acc: 0.9255\n",
      "Epoch 8/25\n",
      "314456/314456 [==============================] - 3112s 10ms/step - loss: 0.2250 - acc: 0.9266 - val_loss: 0.2270 - val_acc: 0.9255\n",
      "Epoch 9/25\n",
      "314456/314456 [==============================] - 3468s 11ms/step - loss: 0.2251 - acc: 0.9266 - val_loss: 0.2260 - val_acc: 0.9255\n",
      "Epoch 10/25\n",
      "314456/314456 [==============================] - 2671s 8ms/step - loss: 0.2249 - acc: 0.9266 - val_loss: 0.2288 - val_acc: 0.9255\n",
      "Epoch 11/25\n",
      "314456/314456 [==============================] - 3482s 11ms/step - loss: 0.2249 - acc: 0.9266 - val_loss: 0.2263 - val_acc: 0.9255\n",
      "Epoch 12/25\n",
      "314456/314456 [==============================] - 411s 1ms/step - loss: 0.2248 - acc: 0.9266 - val_loss: 0.2264 - val_acc: 0.9255\n",
      "Epoch 13/25\n",
      "314456/314456 [==============================] - 471s 1ms/step - loss: 0.2250 - acc: 0.9266 - val_loss: 0.2267 - val_acc: 0.9255\n",
      "Epoch 14/25\n",
      "314456/314456 [==============================] - 489s 2ms/step - loss: 0.2249 - acc: 0.9266 - val_loss: 0.2259 - val_acc: 0.9255\n",
      "Epoch 15/25\n",
      "314456/314456 [==============================] - 391s 1ms/step - loss: 0.2249 - acc: 0.9266 - val_loss: 0.2264 - val_acc: 0.9255\n",
      "Epoch 16/25\n",
      "314456/314456 [==============================] - 321s 1ms/step - loss: 0.2250 - acc: 0.9266 - val_loss: 0.2272 - val_acc: 0.9255\n",
      "Epoch 17/25\n",
      "314456/314456 [==============================] - 278s 883us/step - loss: 0.2249 - acc: 0.9266 - val_loss: 0.2260 - val_acc: 0.9255\n",
      "Epoch 18/25\n",
      "314456/314456 [==============================] - 1312s 4ms/step - loss: 0.2248 - acc: 0.9266 - val_loss: 0.2269 - val_acc: 0.9255\n",
      "Epoch 19/25\n",
      "314456/314456 [==============================] - 293s 931us/step - loss: 0.2248 - acc: 0.9266 - val_loss: 0.2259 - val_acc: 0.9255\n",
      "Epoch 20/25\n",
      "314456/314456 [==============================] - 327s 1ms/step - loss: 0.2247 - acc: 0.9266 - val_loss: 0.2260 - val_acc: 0.9255\n",
      "Epoch 21/25\n",
      "314456/314456 [==============================] - 306s 972us/step - loss: 0.2249 - acc: 0.9266 - val_loss: 0.2274 - val_acc: 0.9255\n",
      "Epoch 22/25\n",
      "314456/314456 [==============================] - 243s 772us/step - loss: 0.2249 - acc: 0.9266 - val_loss: 0.2270 - val_acc: 0.9255\n",
      "Epoch 23/25\n",
      "314456/314456 [==============================] - 293s 931us/step - loss: 0.2249 - acc: 0.9266 - val_loss: 0.2260 - val_acc: 0.9255\n",
      "Epoch 24/25\n",
      "314456/314456 [==============================] - 430s 1ms/step - loss: 0.2249 - acc: 0.9266 - val_loss: 0.2264 - val_acc: 0.9255\n",
      "Epoch 25/25\n",
      "314456/314456 [==============================] - 475s 2ms/step - loss: 0.2249 - acc: 0.9266 - val_loss: 0.2276 - val_acc: 0.9255\n"
     ]
    }
   ],
   "source": [
    "\n",
    "import keras\n",
    "from keras.models import Sequential\n",
    "from keras.layers import Dense\n",
    "from sklearn.preprocessing import StandardScaler, LabelBinarizer\n",
    "\n",
    "scaler = StandardScaler()\n",
    "\n",
    "scaled_data = scaler.fit_transform(X_train, y_train)\n",
    "\n",
    "model_1 = Sequential()\n",
    "model_1.add(Dense(5, activation='tanh', input_shape=(9,)))\n",
    "model_1.add(Dense(1, activation='sigmoid'))\n",
    "model_1.compile(loss='binary_crossentropy', optimizer='sgd', metrics=['acc'])\n",
    "\n",
    "results_1 = model_1.fit(scaled_data, y_train, epochs=25, batch_size=1, validation_split=0.2)"
   ]
  },
  {
   "cell_type": "code",
   "execution_count": 110,
   "metadata": {},
   "outputs": [],
   "source": [
    "df4 = df.loc[df['new_pop'] != 0]"
   ]
  },
  {
   "cell_type": "code",
   "execution_count": 111,
   "metadata": {},
   "outputs": [
    {
     "data": {
      "text/html": [
       "<div>\n",
       "<style scoped>\n",
       "    .dataframe tbody tr th:only-of-type {\n",
       "        vertical-align: middle;\n",
       "    }\n",
       "\n",
       "    .dataframe tbody tr th {\n",
       "        vertical-align: top;\n",
       "    }\n",
       "\n",
       "    .dataframe thead th {\n",
       "        text-align: right;\n",
       "    }\n",
       "</style>\n",
       "<table border=\"1\" class=\"dataframe\">\n",
       "  <thead>\n",
       "    <tr style=\"text-align: right;\">\n",
       "      <th></th>\n",
       "      <th>id</th>\n",
       "      <th>name</th>\n",
       "      <th>popularity</th>\n",
       "      <th>duration_ms</th>\n",
       "      <th>explicit</th>\n",
       "      <th>id_artists</th>\n",
       "      <th>release_date</th>\n",
       "      <th>danceability</th>\n",
       "      <th>energy</th>\n",
       "      <th>key</th>\n",
       "      <th>loudness</th>\n",
       "      <th>mode</th>\n",
       "      <th>speechiness</th>\n",
       "      <th>acousticness</th>\n",
       "      <th>instrumentalness</th>\n",
       "      <th>liveness</th>\n",
       "      <th>valence</th>\n",
       "      <th>tempo</th>\n",
       "      <th>time_signature</th>\n",
       "      <th>new_pop</th>\n",
       "    </tr>\n",
       "  </thead>\n",
       "  <tbody>\n",
       "    <tr>\n",
       "      <th>8095</th>\n",
       "      <td>1LGqJ3nvxpVXDWpEzq4DJD</td>\n",
       "      <td>All of Me</td>\n",
       "      <td>65</td>\n",
       "      <td>181440</td>\n",
       "      <td>0</td>\n",
       "      <td>['1YzCsTRb22dQkh9lghPIrp']</td>\n",
       "      <td>1933</td>\n",
       "      <td>0.504</td>\n",
       "      <td>0.0644</td>\n",
       "      <td>2</td>\n",
       "      <td>-14.754</td>\n",
       "      <td>0</td>\n",
       "      <td>0.0408</td>\n",
       "      <td>0.972</td>\n",
       "      <td>0.000004</td>\n",
       "      <td>0.1740</td>\n",
       "      <td>0.4030</td>\n",
       "      <td>106.994</td>\n",
       "      <td>5</td>\n",
       "      <td>1</td>\n",
       "    </tr>\n",
       "    <tr>\n",
       "      <th>15951</th>\n",
       "      <td>0AtVA7axXKVFnjQsN4xBIy</td>\n",
       "      <td>Dream</td>\n",
       "      <td>56</td>\n",
       "      <td>168158</td>\n",
       "      <td>0</td>\n",
       "      <td>['5o8E07TcYqIefZpDejymAd']</td>\n",
       "      <td>1942-06-20</td>\n",
       "      <td>0.198</td>\n",
       "      <td>0.2760</td>\n",
       "      <td>7</td>\n",
       "      <td>-10.588</td>\n",
       "      <td>1</td>\n",
       "      <td>0.0289</td>\n",
       "      <td>0.919</td>\n",
       "      <td>0.002610</td>\n",
       "      <td>0.2100</td>\n",
       "      <td>0.0692</td>\n",
       "      <td>88.422</td>\n",
       "      <td>3</td>\n",
       "      <td>1</td>\n",
       "    </tr>\n",
       "    <tr>\n",
       "      <th>15952</th>\n",
       "      <td>4so0Wek9Ig1p6CRCHuINwW</td>\n",
       "      <td>White Christmas</td>\n",
       "      <td>56</td>\n",
       "      <td>177480</td>\n",
       "      <td>0</td>\n",
       "      <td>['6ZjFtWeHP9XN7FeKSUe80S', '69UfPJgUmFFAVT740q...</td>\n",
       "      <td>1942-01-01</td>\n",
       "      <td>0.317</td>\n",
       "      <td>0.1580</td>\n",
       "      <td>9</td>\n",
       "      <td>-16.485</td>\n",
       "      <td>1</td>\n",
       "      <td>0.0381</td>\n",
       "      <td>0.673</td>\n",
       "      <td>0.353000</td>\n",
       "      <td>0.3380</td>\n",
       "      <td>0.2470</td>\n",
       "      <td>130.503</td>\n",
       "      <td>3</td>\n",
       "      <td>1</td>\n",
       "    </tr>\n",
       "    <tr>\n",
       "      <th>18549</th>\n",
       "      <td>0qB213IfGN0JXXm9aRjldF</td>\n",
       "      <td>Again (with The Mellomen)</td>\n",
       "      <td>61</td>\n",
       "      <td>167907</td>\n",
       "      <td>0</td>\n",
       "      <td>['3ESG6pj6a0LvUKklENalT6', '548L4DXlt7N14Mhbfd...</td>\n",
       "      <td>1945</td>\n",
       "      <td>0.495</td>\n",
       "      <td>0.0209</td>\n",
       "      <td>3</td>\n",
       "      <td>-21.329</td>\n",
       "      <td>1</td>\n",
       "      <td>0.0348</td>\n",
       "      <td>0.981</td>\n",
       "      <td>0.000001</td>\n",
       "      <td>0.0753</td>\n",
       "      <td>0.1450</td>\n",
       "      <td>62.588</td>\n",
       "      <td>4</td>\n",
       "      <td>1</td>\n",
       "    </tr>\n",
       "    <tr>\n",
       "      <th>21549</th>\n",
       "      <td>6yhLR2sVn1IfsScVrR4ocr</td>\n",
       "      <td>Whatever Will Be, Will Be (Que Sera, Sera) (wi...</td>\n",
       "      <td>62</td>\n",
       "      <td>123360</td>\n",
       "      <td>0</td>\n",
       "      <td>['3ESG6pj6a0LvUKklENalT6', '2N0Yx2ISFxGV0yt7xf...</td>\n",
       "      <td>1948</td>\n",
       "      <td>0.416</td>\n",
       "      <td>0.3410</td>\n",
       "      <td>9</td>\n",
       "      <td>-10.749</td>\n",
       "      <td>1</td>\n",
       "      <td>0.0391</td>\n",
       "      <td>0.864</td>\n",
       "      <td>0.000000</td>\n",
       "      <td>0.7240</td>\n",
       "      <td>0.7760</td>\n",
       "      <td>177.229</td>\n",
       "      <td>4</td>\n",
       "      <td>1</td>\n",
       "    </tr>\n",
       "    <tr>\n",
       "      <th>...</th>\n",
       "      <td>...</td>\n",
       "      <td>...</td>\n",
       "      <td>...</td>\n",
       "      <td>...</td>\n",
       "      <td>...</td>\n",
       "      <td>...</td>\n",
       "      <td>...</td>\n",
       "      <td>...</td>\n",
       "      <td>...</td>\n",
       "      <td>...</td>\n",
       "      <td>...</td>\n",
       "      <td>...</td>\n",
       "      <td>...</td>\n",
       "      <td>...</td>\n",
       "      <td>...</td>\n",
       "      <td>...</td>\n",
       "      <td>...</td>\n",
       "      <td>...</td>\n",
       "      <td>...</td>\n",
       "      <td>...</td>\n",
       "    </tr>\n",
       "    <tr>\n",
       "      <th>586662</th>\n",
       "      <td>4Zp3rm12p5PiHToYJflmyy</td>\n",
       "      <td>Meet Again</td>\n",
       "      <td>57</td>\n",
       "      <td>273587</td>\n",
       "      <td>0</td>\n",
       "      <td>['1lFLniFTaPjYCtQZvDXpqu']</td>\n",
       "      <td>2020-12-20</td>\n",
       "      <td>0.476</td>\n",
       "      <td>0.4400</td>\n",
       "      <td>3</td>\n",
       "      <td>-8.508</td>\n",
       "      <td>1</td>\n",
       "      <td>0.0488</td>\n",
       "      <td>0.679</td>\n",
       "      <td>0.000000</td>\n",
       "      <td>0.0926</td>\n",
       "      <td>0.2410</td>\n",
       "      <td>135.814</td>\n",
       "      <td>4</td>\n",
       "      <td>1</td>\n",
       "    </tr>\n",
       "    <tr>\n",
       "      <th>586665</th>\n",
       "      <td>0SjsIzJkZfDU7wlcdklEFR</td>\n",
       "      <td>John Brown's Song</td>\n",
       "      <td>66</td>\n",
       "      <td>185250</td>\n",
       "      <td>0</td>\n",
       "      <td>['4MxqhahGRT4BPz1PilXGeu']</td>\n",
       "      <td>2020-03-20</td>\n",
       "      <td>0.562</td>\n",
       "      <td>0.0331</td>\n",
       "      <td>1</td>\n",
       "      <td>-25.551</td>\n",
       "      <td>1</td>\n",
       "      <td>0.1030</td>\n",
       "      <td>0.996</td>\n",
       "      <td>0.961000</td>\n",
       "      <td>0.1110</td>\n",
       "      <td>0.3860</td>\n",
       "      <td>63.696</td>\n",
       "      <td>3</td>\n",
       "      <td>1</td>\n",
       "    </tr>\n",
       "    <tr>\n",
       "      <th>586668</th>\n",
       "      <td>0NuWgxEp51CutD2pJoF4OM</td>\n",
       "      <td>blind</td>\n",
       "      <td>72</td>\n",
       "      <td>153293</td>\n",
       "      <td>0</td>\n",
       "      <td>['1dy5WNgIKQU6ezkpZs4y8z']</td>\n",
       "      <td>2020-10-21</td>\n",
       "      <td>0.765</td>\n",
       "      <td>0.6630</td>\n",
       "      <td>0</td>\n",
       "      <td>-5.223</td>\n",
       "      <td>1</td>\n",
       "      <td>0.0652</td>\n",
       "      <td>0.141</td>\n",
       "      <td>0.000297</td>\n",
       "      <td>0.0924</td>\n",
       "      <td>0.6860</td>\n",
       "      <td>150.091</td>\n",
       "      <td>4</td>\n",
       "      <td>1</td>\n",
       "    </tr>\n",
       "    <tr>\n",
       "      <th>586669</th>\n",
       "      <td>27Y1N4Q4U3EfDU5Ubw8ws2</td>\n",
       "      <td>What They'll Say About Us</td>\n",
       "      <td>70</td>\n",
       "      <td>187601</td>\n",
       "      <td>0</td>\n",
       "      <td>['37M5pPGs6V1fchFJSgCguX']</td>\n",
       "      <td>2020-09-02</td>\n",
       "      <td>0.535</td>\n",
       "      <td>0.3140</td>\n",
       "      <td>7</td>\n",
       "      <td>-12.823</td>\n",
       "      <td>0</td>\n",
       "      <td>0.0408</td>\n",
       "      <td>0.895</td>\n",
       "      <td>0.000150</td>\n",
       "      <td>0.0874</td>\n",
       "      <td>0.0663</td>\n",
       "      <td>145.095</td>\n",
       "      <td>4</td>\n",
       "      <td>1</td>\n",
       "    </tr>\n",
       "    <tr>\n",
       "      <th>586670</th>\n",
       "      <td>45XJsGpFTyzbzeWK8VzR8S</td>\n",
       "      <td>A Day At A Time</td>\n",
       "      <td>58</td>\n",
       "      <td>142003</td>\n",
       "      <td>0</td>\n",
       "      <td>['4jGPdu95icCKVF31CcFKbS', '5ebPSE9YI5aLeZ1Z2g...</td>\n",
       "      <td>2021-03-05</td>\n",
       "      <td>0.696</td>\n",
       "      <td>0.6150</td>\n",
       "      <td>10</td>\n",
       "      <td>-6.212</td>\n",
       "      <td>1</td>\n",
       "      <td>0.0345</td>\n",
       "      <td>0.206</td>\n",
       "      <td>0.000003</td>\n",
       "      <td>0.3050</td>\n",
       "      <td>0.4380</td>\n",
       "      <td>90.029</td>\n",
       "      <td>4</td>\n",
       "      <td>1</td>\n",
       "    </tr>\n",
       "  </tbody>\n",
       "</table>\n",
       "<p>43178 rows × 20 columns</p>\n",
       "</div>"
      ],
      "text/plain": [
       "                            id  \\\n",
       "8095    1LGqJ3nvxpVXDWpEzq4DJD   \n",
       "15951   0AtVA7axXKVFnjQsN4xBIy   \n",
       "15952   4so0Wek9Ig1p6CRCHuINwW   \n",
       "18549   0qB213IfGN0JXXm9aRjldF   \n",
       "21549   6yhLR2sVn1IfsScVrR4ocr   \n",
       "...                        ...   \n",
       "586662  4Zp3rm12p5PiHToYJflmyy   \n",
       "586665  0SjsIzJkZfDU7wlcdklEFR   \n",
       "586668  0NuWgxEp51CutD2pJoF4OM   \n",
       "586669  27Y1N4Q4U3EfDU5Ubw8ws2   \n",
       "586670  45XJsGpFTyzbzeWK8VzR8S   \n",
       "\n",
       "                                                     name  popularity  \\\n",
       "8095                                            All of Me          65   \n",
       "15951                                               Dream          56   \n",
       "15952                                     White Christmas          56   \n",
       "18549                           Again (with The Mellomen)          61   \n",
       "21549   Whatever Will Be, Will Be (Que Sera, Sera) (wi...          62   \n",
       "...                                                   ...         ...   \n",
       "586662                                         Meet Again          57   \n",
       "586665                                  John Brown's Song          66   \n",
       "586668                                              blind          72   \n",
       "586669                          What They'll Say About Us          70   \n",
       "586670                                    A Day At A Time          58   \n",
       "\n",
       "        duration_ms  explicit  \\\n",
       "8095         181440         0   \n",
       "15951        168158         0   \n",
       "15952        177480         0   \n",
       "18549        167907         0   \n",
       "21549        123360         0   \n",
       "...             ...       ...   \n",
       "586662       273587         0   \n",
       "586665       185250         0   \n",
       "586668       153293         0   \n",
       "586669       187601         0   \n",
       "586670       142003         0   \n",
       "\n",
       "                                               id_artists release_date  \\\n",
       "8095                           ['1YzCsTRb22dQkh9lghPIrp']         1933   \n",
       "15951                          ['5o8E07TcYqIefZpDejymAd']   1942-06-20   \n",
       "15952   ['6ZjFtWeHP9XN7FeKSUe80S', '69UfPJgUmFFAVT740q...   1942-01-01   \n",
       "18549   ['3ESG6pj6a0LvUKklENalT6', '548L4DXlt7N14Mhbfd...         1945   \n",
       "21549   ['3ESG6pj6a0LvUKklENalT6', '2N0Yx2ISFxGV0yt7xf...         1948   \n",
       "...                                                   ...          ...   \n",
       "586662                         ['1lFLniFTaPjYCtQZvDXpqu']   2020-12-20   \n",
       "586665                         ['4MxqhahGRT4BPz1PilXGeu']   2020-03-20   \n",
       "586668                         ['1dy5WNgIKQU6ezkpZs4y8z']   2020-10-21   \n",
       "586669                         ['37M5pPGs6V1fchFJSgCguX']   2020-09-02   \n",
       "586670  ['4jGPdu95icCKVF31CcFKbS', '5ebPSE9YI5aLeZ1Z2g...   2021-03-05   \n",
       "\n",
       "        danceability  energy  key  loudness  mode  speechiness  acousticness  \\\n",
       "8095           0.504  0.0644    2   -14.754     0       0.0408         0.972   \n",
       "15951          0.198  0.2760    7   -10.588     1       0.0289         0.919   \n",
       "15952          0.317  0.1580    9   -16.485     1       0.0381         0.673   \n",
       "18549          0.495  0.0209    3   -21.329     1       0.0348         0.981   \n",
       "21549          0.416  0.3410    9   -10.749     1       0.0391         0.864   \n",
       "...              ...     ...  ...       ...   ...          ...           ...   \n",
       "586662         0.476  0.4400    3    -8.508     1       0.0488         0.679   \n",
       "586665         0.562  0.0331    1   -25.551     1       0.1030         0.996   \n",
       "586668         0.765  0.6630    0    -5.223     1       0.0652         0.141   \n",
       "586669         0.535  0.3140    7   -12.823     0       0.0408         0.895   \n",
       "586670         0.696  0.6150   10    -6.212     1       0.0345         0.206   \n",
       "\n",
       "        instrumentalness  liveness  valence    tempo  time_signature  new_pop  \n",
       "8095            0.000004    0.1740   0.4030  106.994               5        1  \n",
       "15951           0.002610    0.2100   0.0692   88.422               3        1  \n",
       "15952           0.353000    0.3380   0.2470  130.503               3        1  \n",
       "18549           0.000001    0.0753   0.1450   62.588               4        1  \n",
       "21549           0.000000    0.7240   0.7760  177.229               4        1  \n",
       "...                  ...       ...      ...      ...             ...      ...  \n",
       "586662          0.000000    0.0926   0.2410  135.814               4        1  \n",
       "586665          0.961000    0.1110   0.3860   63.696               3        1  \n",
       "586668          0.000297    0.0924   0.6860  150.091               4        1  \n",
       "586669          0.000150    0.0874   0.0663  145.095               4        1  \n",
       "586670          0.000003    0.3050   0.4380   90.029               4        1  \n",
       "\n",
       "[43178 rows x 20 columns]"
      ]
     },
     "execution_count": 111,
     "metadata": {},
     "output_type": "execute_result"
    }
   ],
   "source": [
    "df4"
   ]
  },
  {
   "cell_type": "code",
   "execution_count": 114,
   "metadata": {},
   "outputs": [
    {
     "data": {
      "text/plain": [
       "-6.505"
      ]
     },
     "execution_count": 114,
     "metadata": {},
     "output_type": "execute_result"
    }
   ],
   "source": [
    "df4[\"loudness\"].median()"
   ]
  },
  {
   "cell_type": "code",
   "execution_count": 115,
   "metadata": {},
   "outputs": [
    {
     "data": {
      "text/plain": [
       "216751.0"
      ]
     },
     "execution_count": 115,
     "metadata": {},
     "output_type": "execute_result"
    }
   ],
   "source": [
    "df4[\"duration_ms\"].median()"
   ]
  },
  {
   "cell_type": "code",
   "execution_count": 116,
   "metadata": {},
   "outputs": [
    {
     "data": {
      "text/plain": [
       "0.529"
      ]
     },
     "execution_count": 116,
     "metadata": {},
     "output_type": "execute_result"
    }
   ],
   "source": [
    "df4[\"valence\"].median()"
   ]
  },
  {
   "cell_type": "code",
   "execution_count": 119,
   "metadata": {},
   "outputs": [],
   "source": [
    "from sklearn.inspection import permutation_importance"
   ]
  },
  {
   "cell_type": "code",
   "execution_count": 137,
   "metadata": {},
   "outputs": [],
   "source": [
    "results = permutation_importance(logreg1, X_train_scaled, y_train)"
   ]
  },
  {
   "cell_type": "code",
   "execution_count": 139,
   "metadata": {},
   "outputs": [
    {
     "data": {
      "text/plain": [
       "array([[ 5.08815224e-05,  1.01763045e-05,  3.56170657e-05,\n",
       "        -1.27203806e-05, -1.01763045e-05],\n",
       "       [ 9.15867403e-05,  9.66748925e-05,  1.01763045e-04,\n",
       "         1.62820872e-04,  9.41308164e-05],\n",
       "       [ 6.61459791e-04,  7.55590607e-04,  7.32693922e-04,\n",
       "         7.25061694e-04,  7.30149846e-04],\n",
       "       [ 3.96875875e-04,  2.64583916e-04,  3.51082504e-04,\n",
       "         3.68891037e-04,  3.63802885e-04],\n",
       "       [ 1.27203806e-05,  1.52644567e-05, -2.54407612e-06,\n",
       "         1.01763045e-05,  1.27203806e-05],\n",
       "       [-1.27203806e-05,  0.00000000e+00, -1.27203806e-05,\n",
       "        -2.28966851e-05,  1.01763045e-05],\n",
       "       [-7.63222836e-06, -2.54407612e-06, -2.03526090e-05,\n",
       "        -2.54407612e-06, -1.27203806e-05],\n",
       "       [-1.01763045e-05, -1.27203806e-05, -2.28966851e-05,\n",
       "         0.00000000e+00,  2.54407612e-06],\n",
       "       [ 4.83374463e-04,  4.85918539e-04,  4.35037016e-04,\n",
       "         3.81611418e-04,  4.75742234e-04]])"
      ]
     },
     "execution_count": 139,
     "metadata": {},
     "output_type": "execute_result"
    }
   ],
   "source": [
    "results.importances"
   ]
  },
  {
   "cell_type": "code",
   "execution_count": 142,
   "metadata": {},
   "outputs": [],
   "source": [
    "import matplotlib.pyplot as plt\n",
    "from scipy.stats import spearmanr\n",
    "from scipy.cluster import hierarchy\n",
    "from sklearn.inspection import permutation_importance\n",
    "from sklearn.model_selection import train_test_split"
   ]
  },
  {
   "cell_type": "code",
   "execution_count": 183,
   "metadata": {},
   "outputs": [
    {
     "data": {
      "image/png": "[encoded data removed]",
      "text/plain": [
       "<Figure size 864x576 with 2 Axes>"
      ]
     },
     "metadata": {
      "needs_background": "light"
     },
     "output_type": "display_data"
    }
   ],
   "source": [
    "result = permutation_importance(logreg1, X_train_scaled, y_train, n_repeats=10,\n",
    "                                random_state=42)\n",
    "perm_sorted_idx = result.importances_mean.argsort()\n",
    "\n",
    "\n",
    "fig, ax = plt.subplots(1, 2, figsize=(12,8))\n",
    "\n",
    "ax[0].barh(X_train_scaled.columns[perm_sorted_idx], logreg1.coef_[0][perm_sorted_idx])\n",
    "\n",
    "ax[1].boxplot(result.importances[perm_sorted_idx].T, vert=False, labels=X_train_scaled.columns[perm_sorted_idx])\n",
    "fig.tight_layout()\n",
    "plt.show()"
   ]
  },
  {
   "cell_type": "code",
   "execution_count": 184,
   "metadata": {},
   "outputs": [
    {
     "data": {
      "text/plain": [
       "0.662"
      ]
     },
     "execution_count": 184,
     "metadata": {},
     "output_type": "execute_result"
    }
   ],
   "source": [
    "df4[\"energy\"].median()"
   ]
  },
  {
   "cell_type": "code",
   "execution_count": null,
   "metadata": {},
   "outputs": [],
   "source": []
  }
 ],
 "metadata": {
  "kernelspec": {
   "display_name": "learn-env",
   "language": "python",
   "name": "learn-env"
  },
  "language_info": {
   "codemirror_mode": {
    "name": "ipython",
    "version": 3
   },
   "file_extension": ".py",
   "mimetype": "text/x-python",
   "name": "python",
   "nbconvert_exporter": "python",
   "pygments_lexer": "ipython3",
   "version": "3.8.5"
  }
 },
 "nbformat": 4,
 "nbformat_minor": 4
}
