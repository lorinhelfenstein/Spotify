{
 "cells": [
  {
   "cell_type": "code",
   "execution_count": 1,
   "metadata": {},
   "outputs": [],
   "source": [
    "import pandas as pd\n",
    "import numpy as np\n",
    "np.random.seed(0)\n",
    "import matplotlib.pyplot as plt\n",
    "from sklearn.model_selection import train_test_split\n",
    "from sklearn.metrics import accuracy_score, confusion_matrix, classification_report\n",
    "from sklearn.tree import DecisionTreeClassifier\n",
    "from sklearn.ensemble import BaggingClassifier, RandomForestClassifier\n",
    "import seaborn as sns\n",
    "import requests\n",
    "#imports"
   ]
  },
  {
   "cell_type": "markdown",
   "metadata": {},
   "source": [
    "# Preprocessing"
   ]
  },
  {
   "cell_type": "code",
   "execution_count": 183,
   "metadata": {},
   "outputs": [
    {
     "data": {
      "text/html": [
       "<div>\n",
       "<style scoped>\n",
       "    .dataframe tbody tr th:only-of-type {\n",
       "        vertical-align: middle;\n",
       "    }\n",
       "\n",
       "    .dataframe tbody tr th {\n",
       "        vertical-align: top;\n",
       "    }\n",
       "\n",
       "    .dataframe thead th {\n",
       "        text-align: right;\n",
       "    }\n",
       "</style>\n",
       "<table border=\"1\" class=\"dataframe\">\n",
       "  <thead>\n",
       "    <tr style=\"text-align: right;\">\n",
       "      <th></th>\n",
       "      <th>track_title</th>\n",
       "      <th>artist_name</th>\n",
       "      <th>track_id</th>\n",
       "      <th>duration_ms</th>\n",
       "      <th>energy</th>\n",
       "      <th>key</th>\n",
       "      <th>mode</th>\n",
       "      <th>time_signature</th>\n",
       "      <th>acousticness</th>\n",
       "      <th>danceability</th>\n",
       "      <th>instrumentalness</th>\n",
       "      <th>liveness</th>\n",
       "      <th>loudness</th>\n",
       "      <th>speechiness</th>\n",
       "      <th>valence</th>\n",
       "      <th>tempo</th>\n",
       "      <th>On_chart</th>\n",
       "    </tr>\n",
       "  </thead>\n",
       "  <tbody>\n",
       "    <tr>\n",
       "      <th>0</th>\n",
       "      <td>Red Planet - Red Planet Radio</td>\n",
       "      <td>Joe</td>\n",
       "      <td>3FeufAV1f6fajILIQuAXMw</td>\n",
       "      <td>256080</td>\n",
       "      <td>0.96800</td>\n",
       "      <td>7</td>\n",
       "      <td>0</td>\n",
       "      <td>4</td>\n",
       "      <td>0.02150</td>\n",
       "      <td>0.698</td>\n",
       "      <td>0.862000</td>\n",
       "      <td>0.1110</td>\n",
       "      <td>-11.012</td>\n",
       "      <td>0.0337</td>\n",
       "      <td>0.3900</td>\n",
       "      <td>136.884</td>\n",
       "      <td>0</td>\n",
       "    </tr>\n",
       "    <tr>\n",
       "      <th>1</th>\n",
       "      <td>Red Planet - Red Planet Extended</td>\n",
       "      <td>Joe</td>\n",
       "      <td>2o7oYjZuo3S2QitY4R5dII</td>\n",
       "      <td>395442</td>\n",
       "      <td>0.97000</td>\n",
       "      <td>2</td>\n",
       "      <td>1</td>\n",
       "      <td>4</td>\n",
       "      <td>0.00339</td>\n",
       "      <td>0.724</td>\n",
       "      <td>0.896000</td>\n",
       "      <td>0.1060</td>\n",
       "      <td>-8.415</td>\n",
       "      <td>0.0358</td>\n",
       "      <td>0.4320</td>\n",
       "      <td>136.868</td>\n",
       "      <td>0</td>\n",
       "    </tr>\n",
       "    <tr>\n",
       "      <th>2</th>\n",
       "      <td>Basejump</td>\n",
       "      <td>Robin Schulz</td>\n",
       "      <td>6nWoNNkfffbmHU9z3kGPao</td>\n",
       "      <td>391680</td>\n",
       "      <td>0.40600</td>\n",
       "      <td>5</td>\n",
       "      <td>0</td>\n",
       "      <td>4</td>\n",
       "      <td>0.00433</td>\n",
       "      <td>0.803</td>\n",
       "      <td>0.825000</td>\n",
       "      <td>0.0948</td>\n",
       "      <td>-9.444</td>\n",
       "      <td>0.0608</td>\n",
       "      <td>0.0769</td>\n",
       "      <td>125.014</td>\n",
       "      <td>0</td>\n",
       "    </tr>\n",
       "    <tr>\n",
       "      <th>3</th>\n",
       "      <td>Goldberg Variations, BWV 988 (Arr. for Accordi...</td>\n",
       "      <td>Johann Sebastian Bach</td>\n",
       "      <td>5Zg1UOcmee5oiRw3gbXna0</td>\n",
       "      <td>347840</td>\n",
       "      <td>0.00267</td>\n",
       "      <td>7</td>\n",
       "      <td>0</td>\n",
       "      <td>5</td>\n",
       "      <td>0.91000</td>\n",
       "      <td>0.150</td>\n",
       "      <td>0.028700</td>\n",
       "      <td>0.1250</td>\n",
       "      <td>-24.701</td>\n",
       "      <td>0.0434</td>\n",
       "      <td>0.1050</td>\n",
       "      <td>135.652</td>\n",
       "      <td>0</td>\n",
       "    </tr>\n",
       "    <tr>\n",
       "      <th>4</th>\n",
       "      <td>Goldberg Variations, BWV 988 (Arr. for Accordi...</td>\n",
       "      <td>Johann Sebastian Bach</td>\n",
       "      <td>2ZWmWGoZS2OTGZSnMhck7Q</td>\n",
       "      <td>181733</td>\n",
       "      <td>0.22600</td>\n",
       "      <td>7</td>\n",
       "      <td>1</td>\n",
       "      <td>4</td>\n",
       "      <td>0.76800</td>\n",
       "      <td>0.290</td>\n",
       "      <td>0.000002</td>\n",
       "      <td>0.1050</td>\n",
       "      <td>-14.990</td>\n",
       "      <td>0.0385</td>\n",
       "      <td>0.4700</td>\n",
       "      <td>98.348</td>\n",
       "      <td>0</td>\n",
       "    </tr>\n",
       "  </tbody>\n",
       "</table>\n",
       "</div>"
      ],
      "text/plain": [
       "                                         track_title            artist_name  \\\n",
       "0                      Red Planet - Red Planet Radio                    Joe   \n",
       "1                   Red Planet - Red Planet Extended                    Joe   \n",
       "2                                           Basejump           Robin Schulz   \n",
       "3  Goldberg Variations, BWV 988 (Arr. for Accordi...  Johann Sebastian Bach   \n",
       "4  Goldberg Variations, BWV 988 (Arr. for Accordi...  Johann Sebastian Bach   \n",
       "\n",
       "                 track_id  duration_ms   energy  key  mode  time_signature  \\\n",
       "0  3FeufAV1f6fajILIQuAXMw       256080  0.96800    7     0               4   \n",
       "1  2o7oYjZuo3S2QitY4R5dII       395442  0.97000    2     1               4   \n",
       "2  6nWoNNkfffbmHU9z3kGPao       391680  0.40600    5     0               4   \n",
       "3  5Zg1UOcmee5oiRw3gbXna0       347840  0.00267    7     0               5   \n",
       "4  2ZWmWGoZS2OTGZSnMhck7Q       181733  0.22600    7     1               4   \n",
       "\n",
       "   acousticness  danceability  instrumentalness  liveness  loudness  \\\n",
       "0       0.02150         0.698          0.862000    0.1110   -11.012   \n",
       "1       0.00339         0.724          0.896000    0.1060    -8.415   \n",
       "2       0.00433         0.803          0.825000    0.0948    -9.444   \n",
       "3       0.91000         0.150          0.028700    0.1250   -24.701   \n",
       "4       0.76800         0.290          0.000002    0.1050   -14.990   \n",
       "\n",
       "   speechiness  valence    tempo  On_chart  \n",
       "0       0.0337   0.3900  136.884         0  \n",
       "1       0.0358   0.4320  136.868         0  \n",
       "2       0.0608   0.0769  125.014         0  \n",
       "3       0.0434   0.1050  135.652         0  \n",
       "4       0.0385   0.4700   98.348         0  "
      ]
     },
     "execution_count": 183,
     "metadata": {},
     "output_type": "execute_result"
    }
   ],
   "source": [
    "df = pd.read_csv('../../data/complete.csv')\n",
    "df.head()"
   ]
  },
  {
   "cell_type": "code",
   "execution_count": 3,
   "metadata": {},
   "outputs": [
    {
     "name": "stdout",
     "output_type": "stream",
     "text": [
      "<class 'pandas.core.frame.DataFrame'>\n",
      "RangeIndex: 34740 entries, 0 to 34739\n",
      "Data columns (total 17 columns):\n",
      " #   Column            Non-Null Count  Dtype  \n",
      "---  ------            --------------  -----  \n",
      " 0   track_title       34739 non-null  object \n",
      " 1   artist_name       34739 non-null  object \n",
      " 2   track_id          34740 non-null  object \n",
      " 3   duration_ms       34740 non-null  int64  \n",
      " 4   energy            34740 non-null  float64\n",
      " 5   key               34740 non-null  int64  \n",
      " 6   mode              34740 non-null  int64  \n",
      " 7   time_signature    34740 non-null  int64  \n",
      " 8   acousticness      34740 non-null  float64\n",
      " 9   danceability      34740 non-null  float64\n",
      " 10  instrumentalness  34740 non-null  float64\n",
      " 11  liveness          34740 non-null  float64\n",
      " 12  loudness          34740 non-null  float64\n",
      " 13  speechiness       34740 non-null  float64\n",
      " 14  valence           34740 non-null  float64\n",
      " 15  tempo             34740 non-null  float64\n",
      " 16  On_chart          34740 non-null  int64  \n",
      "dtypes: float64(9), int64(5), object(3)\n",
      "memory usage: 4.5+ MB\n"
     ]
    }
   ],
   "source": [
    "df.info()"
   ]
  },
  {
   "cell_type": "code",
   "execution_count": 4,
   "metadata": {},
   "outputs": [],
   "source": [
    "corrMatrix = df.corr()\n",
    "#looking at correlations"
   ]
  },
  {
   "cell_type": "code",
   "execution_count": 5,
   "metadata": {},
   "outputs": [
    {
     "data": {
      "image/png": "[encoded data removed]",
      "text/plain": [
       "<Figure size 720x720 with 2 Axes>"
      ]
     },
     "metadata": {
      "needs_background": "light"
     },
     "output_type": "display_data"
    }
   ],
   "source": [
    "fig, ax = plt.subplots(figsize=(10,10))\n",
    "sns.heatmap(corrMatrix, annot=True, ax=ax)\n",
    "plt.show()\n",
    "#heatmap to visulize"
   ]
  },
  {
   "cell_type": "code",
   "execution_count": 6,
   "metadata": {},
   "outputs": [],
   "source": [
    "df = df.dropna()\n",
    "#getting rid of the few nulls we have"
   ]
  },
  {
   "cell_type": "code",
   "execution_count": 7,
   "metadata": {},
   "outputs": [
    {
     "name": "stdout",
     "output_type": "stream",
     "text": [
      "<class 'pandas.core.frame.DataFrame'>\n",
      "Int64Index: 34739 entries, 0 to 34739\n",
      "Data columns (total 17 columns):\n",
      " #   Column            Non-Null Count  Dtype  \n",
      "---  ------            --------------  -----  \n",
      " 0   track_title       34739 non-null  object \n",
      " 1   artist_name       34739 non-null  object \n",
      " 2   track_id          34739 non-null  object \n",
      " 3   duration_ms       34739 non-null  int64  \n",
      " 4   energy            34739 non-null  float64\n",
      " 5   key               34739 non-null  int64  \n",
      " 6   mode              34739 non-null  int64  \n",
      " 7   time_signature    34739 non-null  int64  \n",
      " 8   acousticness      34739 non-null  float64\n",
      " 9   danceability      34739 non-null  float64\n",
      " 10  instrumentalness  34739 non-null  float64\n",
      " 11  liveness          34739 non-null  float64\n",
      " 12  loudness          34739 non-null  float64\n",
      " 13  speechiness       34739 non-null  float64\n",
      " 14  valence           34739 non-null  float64\n",
      " 15  tempo             34739 non-null  float64\n",
      " 16  On_chart          34739 non-null  int64  \n",
      "dtypes: float64(9), int64(5), object(3)\n",
      "memory usage: 4.8+ MB\n"
     ]
    }
   ],
   "source": [
    "df.info()\n",
    "#making sure theyre gone"
   ]
  },
  {
   "cell_type": "code",
   "execution_count": 8,
   "metadata": {},
   "outputs": [],
   "source": [
    "target = df['On_chart']\n",
    "data = df.drop(['On_chart', 'track_title', 'artist_name', 'track_id'], axis=1)\n",
    "#dropped these columns because they are not important to the business problem \n"
   ]
  },
  {
   "cell_type": "code",
   "execution_count": 9,
   "metadata": {},
   "outputs": [
    {
     "data": {
      "text/plain": [
       "duration_ms           int64\n",
       "energy              float64\n",
       "key                   int64\n",
       "mode                  int64\n",
       "time_signature        int64\n",
       "acousticness        float64\n",
       "danceability        float64\n",
       "instrumentalness    float64\n",
       "liveness            float64\n",
       "loudness            float64\n",
       "speechiness         float64\n",
       "valence             float64\n",
       "tempo               float64\n",
       "dtype: object"
      ]
     },
     "execution_count": 9,
     "metadata": {},
     "output_type": "execute_result"
    }
   ],
   "source": [
    "data.dtypes\n",
    "#making sure there arent any categorical we need to deal with"
   ]
  },
  {
   "cell_type": "code",
   "execution_count": 10,
   "metadata": {},
   "outputs": [],
   "source": [
    "data_train, data_test, target_train, target_test = train_test_split(data, target)\n",
    "#train test split for the first time"
   ]
  },
  {
   "cell_type": "code",
   "execution_count": 11,
   "metadata": {},
   "outputs": [
    {
     "data": {
      "text/plain": [
       "DecisionTreeClassifier(max_depth=5)"
      ]
     },
     "execution_count": 11,
     "metadata": {},
     "output_type": "execute_result"
    }
   ],
   "source": [
    "tree_clf = DecisionTreeClassifier(criterion='gini', max_depth=5) \n",
    "tree_clf.fit(data_train, target_train)\n",
    "#first try on decision tree"
   ]
  },
  {
   "cell_type": "code",
   "execution_count": 12,
   "metadata": {},
   "outputs": [
    {
     "data": {
      "text/plain": [
       "array([0.14711319, 0.00216905, 0.        , 0.        , 0.        ,\n",
       "       0.05386095, 0.00075313, 0.55295178, 0.        , 0.04089346,\n",
       "       0.14944595, 0.05281249, 0.        ])"
      ]
     },
     "execution_count": 12,
     "metadata": {},
     "output_type": "execute_result"
    }
   ],
   "source": [
    "tree_clf.feature_importances_\n",
    "#checking feature importances"
   ]
  },
  {
   "cell_type": "code",
   "execution_count": null,
   "metadata": {},
   "outputs": [],
   "source": []
  },
  {
   "cell_type": "code",
   "execution_count": 299,
   "metadata": {},
   "outputs": [
    {
     "data": {
      "image/png": "[encoded data removed]",
      "text/plain": [
       "<Figure size 576x576 with 1 Axes>"
      ]
     },
     "metadata": {
      "needs_background": "light"
     },
     "output_type": "display_data"
    }
   ],
   "source": [
    "def plot_feature_importances(model):\n",
    "    n_features = data_train.shape[1]\n",
    "    \n",
    "    plt.figure(figsize=(8,8))\n",
    "    plt.barh(data_train.columns.values, model.feature_importances_, align='center') \n",
    "    plt.yticks(np.arange(n_features), data_train.columns.values) \n",
    "    plt.xlabel('Feature importance')\n",
    "    plt.ylabel('Feature')\n",
    "\n",
    "plot_feature_importances(tree_clf)"
   ]
  },
  {
   "cell_type": "code",
   "execution_count": 14,
   "metadata": {},
   "outputs": [
    {
     "name": "stdout",
     "output_type": "stream",
     "text": [
      "[[2714 1608]\n",
      " [ 385 3978]]\n",
      "              precision    recall  f1-score   support\n",
      "\n",
      "           0       0.88      0.63      0.73      4322\n",
      "           1       0.71      0.91      0.80      4363\n",
      "\n",
      "    accuracy                           0.77      8685\n",
      "   macro avg       0.79      0.77      0.77      8685\n",
      "weighted avg       0.79      0.77      0.77      8685\n",
      "\n"
     ]
    }
   ],
   "source": [
    "# Test set predictions\n",
    "pred = tree_clf.predict(data_test)\n",
    "\n",
    "# Confusion matrix and classification report\n",
    "print(confusion_matrix(target_test, pred))\n",
    "print(classification_report(target_test, pred))"
   ]
  },
  {
   "cell_type": "code",
   "execution_count": 15,
   "metadata": {},
   "outputs": [
    {
     "name": "stdout",
     "output_type": "stream",
     "text": [
      "Testing Accuracy for Decision Tree Classifier: 77.05%\n"
     ]
    }
   ],
   "source": [
    "print(\"Testing Accuracy for Decision Tree Classifier: {:.4}%\".format(accuracy_score(target_test, pred) * 100))"
   ]
  },
  {
   "cell_type": "code",
   "execution_count": 16,
   "metadata": {},
   "outputs": [],
   "source": [
    "bagged_tree =  BaggingClassifier(DecisionTreeClassifier(criterion='gini', max_depth=5), \n",
    "                                 n_estimators=20)"
   ]
  },
  {
   "cell_type": "code",
   "execution_count": 17,
   "metadata": {},
   "outputs": [
    {
     "data": {
      "text/plain": [
       "BaggingClassifier(base_estimator=DecisionTreeClassifier(max_depth=5),\n",
       "                  n_estimators=20)"
      ]
     },
     "execution_count": 17,
     "metadata": {},
     "output_type": "execute_result"
    }
   ],
   "source": [
    "bagged_tree.fit(data_train, target_train)"
   ]
  },
  {
   "cell_type": "code",
   "execution_count": 18,
   "metadata": {},
   "outputs": [
    {
     "data": {
      "text/plain": [
       "0.7834497581945191"
      ]
     },
     "execution_count": 18,
     "metadata": {},
     "output_type": "execute_result"
    }
   ],
   "source": [
    "# Training accuracy score\n",
    "bagged_tree.score(data_train, target_train)"
   ]
  },
  {
   "cell_type": "code",
   "execution_count": 19,
   "metadata": {},
   "outputs": [
    {
     "data": {
      "text/plain": [
       "0.7778929188255613"
      ]
     },
     "execution_count": 19,
     "metadata": {},
     "output_type": "execute_result"
    }
   ],
   "source": [
    "# Test accuracy score\n",
    "bagged_tree.score(data_test, target_test)"
   ]
  },
  {
   "cell_type": "code",
   "execution_count": 20,
   "metadata": {},
   "outputs": [
    {
     "data": {
      "text/plain": [
       "RandomForestClassifier(max_depth=5)"
      ]
     },
     "execution_count": 20,
     "metadata": {},
     "output_type": "execute_result"
    }
   ],
   "source": [
    "# Instantiate and fit a RandomForestClassifier\n",
    "forest = RandomForestClassifier(n_estimators=100, max_depth= 5)\n",
    "forest.fit(data_train, target_train)"
   ]
  },
  {
   "cell_type": "code",
   "execution_count": 21,
   "metadata": {},
   "outputs": [
    {
     "data": {
      "text/plain": [
       "0.782451830812927"
      ]
     },
     "execution_count": 21,
     "metadata": {},
     "output_type": "execute_result"
    }
   ],
   "source": [
    "# Training accuracy score\n",
    "forest.score(data_train, target_train)"
   ]
  },
  {
   "cell_type": "code",
   "execution_count": 22,
   "metadata": {},
   "outputs": [
    {
     "data": {
      "text/plain": [
       "0.7759355210132413"
      ]
     },
     "execution_count": 22,
     "metadata": {},
     "output_type": "execute_result"
    }
   ],
   "source": [
    "# Test accuracy score\n",
    "forest.score(data_test, target_test)"
   ]
  },
  {
   "cell_type": "code",
   "execution_count": 23,
   "metadata": {},
   "outputs": [
    {
     "data": {
      "image/png": "[encoded data removed]",
      "text/plain": [
       "<Figure size 576x576 with 1 Axes>"
      ]
     },
     "metadata": {
      "needs_background": "light"
     },
     "output_type": "display_data"
    }
   ],
   "source": [
    "plot_feature_importances(forest)"
   ]
  },
  {
   "cell_type": "code",
   "execution_count": 24,
   "metadata": {},
   "outputs": [],
   "source": [
    "from xgboost import XGBClassifier\n",
    "import pandas as pd\n",
    "import numpy as np\n",
    "np.random.seed(0)\n",
    "import matplotlib.pyplot as plt\n",
    "from sklearn.model_selection import train_test_split\n",
    "from sklearn.metrics import accuracy_score\n",
    "from sklearn.model_selection import GridSearchCV\n",
    "import warnings\n",
    "warnings.filterwarnings('ignore')\n",
    "%matplotlib inline"
   ]
  },
  {
   "cell_type": "code",
   "execution_count": 301,
   "metadata": {},
   "outputs": [],
   "source": [
    "y = df['On_chart']\n",
    "X = df.drop(['On_chart', 'track_title', 'artist_name', 'track_id'], axis=1)"
   ]
  },
  {
   "cell_type": "code",
   "execution_count": 302,
   "metadata": {},
   "outputs": [],
   "source": [
    "X_train, X_test, y_train, y_test = train_test_split(X, y, random_state=42)"
   ]
  },
  {
   "cell_type": "code",
   "execution_count": 303,
   "metadata": {},
   "outputs": [
    {
     "name": "stdout",
     "output_type": "stream",
     "text": [
      "Training Accuracy: 90.54%\n",
      "Validation accuracy: 81.26%\n"
     ]
    }
   ],
   "source": [
    "# Instantiate XGBClassifier\n",
    "clf = XGBClassifier()\n",
    "\n",
    "# Fit XGBClassifier\n",
    "clf.fit(X_train, y_train)\n",
    "\n",
    "# Predict on training and test sets\n",
    "training_preds = clf.predict(X_train)\n",
    "test_preds = clf.predict(X_test)\n",
    "\n",
    "# Accuracy of training and test sets\n",
    "training_accuracy = accuracy_score(y_train, training_preds)\n",
    "test_accuracy = accuracy_score(y_test, test_preds)\n",
    "\n",
    "print('Training Accuracy: {:.4}%'.format(training_accuracy * 100))\n",
    "print('Validation accuracy: {:.4}%'.format(test_accuracy * 100))"
   ]
  },
  {
   "cell_type": "code",
   "execution_count": 304,
   "metadata": {},
   "outputs": [],
   "source": [
    "param_grid = {\n",
    "    'learning_rate': [0.1, 0.2],\n",
    "    'max_depth': [6],\n",
    "    'min_child_weight': [1, 2],\n",
    "    'subsample': [0.5, 0.7],\n",
    "    'n_estimators': [100],\n",
    "}"
   ]
  },
  {
   "cell_type": "code",
   "execution_count": 305,
   "metadata": {},
   "outputs": [
    {
     "name": "stdout",
     "output_type": "stream",
     "text": [
      "Grid Search found the following optimal parameters: \n",
      "learning_rate: 0.2\n",
      "max_depth: 6\n",
      "min_child_weight: 1\n",
      "n_estimators: 100\n",
      "subsample: 0.7\n",
      "\n",
      "Training Accuracy: 88.64%\n",
      "Validation accuracy: 81.22%\n"
     ]
    }
   ],
   "source": [
    "grid_clf = GridSearchCV(clf, param_grid, scoring='accuracy', cv=None, n_jobs=1)\n",
    "grid_clf.fit(X_train, y_train)\n",
    "\n",
    "best_parameters = grid_clf.best_params_\n",
    "\n",
    "print('Grid Search found the following optimal parameters: ')\n",
    "for param_name in sorted(best_parameters.keys()):\n",
    "    print('%s: %r' % (param_name, best_parameters[param_name]))\n",
    "\n",
    "training_preds = grid_clf.predict(X_train)\n",
    "test_preds = grid_clf.predict(X_test)\n",
    "training_accuracy = accuracy_score(y_train, training_preds)\n",
    "test_accuracy = accuracy_score(y_test, test_preds)\n",
    "\n",
    "print('')\n",
    "print('Training Accuracy: {:.4}%'.format(training_accuracy * 100))\n",
    "print('Validation accuracy: {:.4}%'.format(test_accuracy * 100))"
   ]
  },
  {
   "cell_type": "code",
   "execution_count": 306,
   "metadata": {},
   "outputs": [
    {
     "data": {
      "image/png": "[encoded data removed]",
      "text/plain": [
       "<Figure size 576x576 with 1 Axes>"
      ]
     },
     "metadata": {
      "needs_background": "light"
     },
     "output_type": "display_data"
    }
   ],
   "source": [
    "plot_feature_importances(clf)"
   ]
  },
  {
   "cell_type": "markdown",
   "metadata": {},
   "source": [
    "unsupervised clusters model\n",
    "\n",
    "group on popularity\n",
    "\n",
    "if good clusters\n",
    "\n",
    "go into clusters and see whats in common\n",
    "\n",
    "more upbeat higher tempos what feautes?\n",
    "\n",
    "use as intro\n",
    "\n",
    "did some clustering w this data set\n",
    "\n",
    "we found that wxzy determine if popular or not\n",
    "\n",
    "used that info to go ahead and use another dataset to build a network to show if a song would be a hit or not "
   ]
  },
  {
   "cell_type": "code",
   "execution_count": 32,
   "metadata": {},
   "outputs": [
    {
     "data": {
      "text/html": [
       "<div>\n",
       "<style scoped>\n",
       "    .dataframe tbody tr th:only-of-type {\n",
       "        vertical-align: middle;\n",
       "    }\n",
       "\n",
       "    .dataframe tbody tr th {\n",
       "        vertical-align: top;\n",
       "    }\n",
       "\n",
       "    .dataframe thead th {\n",
       "        text-align: right;\n",
       "    }\n",
       "</style>\n",
       "<table border=\"1\" class=\"dataframe\">\n",
       "  <thead>\n",
       "    <tr style=\"text-align: right;\">\n",
       "      <th></th>\n",
       "      <th>id</th>\n",
       "      <th>followers</th>\n",
       "      <th>genres</th>\n",
       "      <th>name</th>\n",
       "      <th>popularity</th>\n",
       "    </tr>\n",
       "  </thead>\n",
       "  <tbody>\n",
       "    <tr>\n",
       "      <th>0</th>\n",
       "      <td>0DheY5irMjBUeLybbCUEZ2</td>\n",
       "      <td>0.0</td>\n",
       "      <td>[]</td>\n",
       "      <td>Armid &amp; Amir Zare Pashai feat. Sara Rouzbehani</td>\n",
       "      <td>0</td>\n",
       "    </tr>\n",
       "    <tr>\n",
       "      <th>1</th>\n",
       "      <td>0DlhY15l3wsrnlfGio2bjU</td>\n",
       "      <td>5.0</td>\n",
       "      <td>[]</td>\n",
       "      <td>ปูนา ภาวิณี</td>\n",
       "      <td>0</td>\n",
       "    </tr>\n",
       "    <tr>\n",
       "      <th>2</th>\n",
       "      <td>0DmRESX2JknGPQyO15yxg7</td>\n",
       "      <td>0.0</td>\n",
       "      <td>[]</td>\n",
       "      <td>Sadaa</td>\n",
       "      <td>0</td>\n",
       "    </tr>\n",
       "    <tr>\n",
       "      <th>3</th>\n",
       "      <td>0DmhnbHjm1qw6NCYPeZNgJ</td>\n",
       "      <td>0.0</td>\n",
       "      <td>[]</td>\n",
       "      <td>Tra'gruda</td>\n",
       "      <td>0</td>\n",
       "    </tr>\n",
       "    <tr>\n",
       "      <th>4</th>\n",
       "      <td>0Dn11fWM7vHQ3rinvWEl4E</td>\n",
       "      <td>2.0</td>\n",
       "      <td>[]</td>\n",
       "      <td>Ioannis Panoutsopoulos</td>\n",
       "      <td>0</td>\n",
       "    </tr>\n",
       "    <tr>\n",
       "      <th>...</th>\n",
       "      <td>...</td>\n",
       "      <td>...</td>\n",
       "      <td>...</td>\n",
       "      <td>...</td>\n",
       "      <td>...</td>\n",
       "    </tr>\n",
       "    <tr>\n",
       "      <th>1104344</th>\n",
       "      <td>6rJIG42vcWAf1UBdRFlQxB</td>\n",
       "      <td>3345.0</td>\n",
       "      <td>[]</td>\n",
       "      <td>Cody Longo</td>\n",
       "      <td>8</td>\n",
       "    </tr>\n",
       "    <tr>\n",
       "      <th>1104345</th>\n",
       "      <td>1ljurfXKPlGncNdW3J8zJ8</td>\n",
       "      <td>2123.0</td>\n",
       "      <td>['deep acoustic pop']</td>\n",
       "      <td>Right the Stars</td>\n",
       "      <td>18</td>\n",
       "    </tr>\n",
       "    <tr>\n",
       "      <th>1104346</th>\n",
       "      <td>2vnT9YhKIvjVo9LnVjWmr2</td>\n",
       "      <td>26.0</td>\n",
       "      <td>[]</td>\n",
       "      <td>Jesse Giddings</td>\n",
       "      <td>0</td>\n",
       "    </tr>\n",
       "    <tr>\n",
       "      <th>1104347</th>\n",
       "      <td>3ID0E5XCvnJIYZEq043ZoB</td>\n",
       "      <td>406.0</td>\n",
       "      <td>[]</td>\n",
       "      <td>The Boy Band Project</td>\n",
       "      <td>0</td>\n",
       "    </tr>\n",
       "    <tr>\n",
       "      <th>1104348</th>\n",
       "      <td>5m0Y4WSYyai2BU752lCASy</td>\n",
       "      <td>146.0</td>\n",
       "      <td>[]</td>\n",
       "      <td>10 Reasons</td>\n",
       "      <td>1</td>\n",
       "    </tr>\n",
       "  </tbody>\n",
       "</table>\n",
       "<p>1104349 rows × 5 columns</p>\n",
       "</div>"
      ],
      "text/plain": [
       "                             id  followers                 genres  \\\n",
       "0        0DheY5irMjBUeLybbCUEZ2        0.0                     []   \n",
       "1        0DlhY15l3wsrnlfGio2bjU        5.0                     []   \n",
       "2        0DmRESX2JknGPQyO15yxg7        0.0                     []   \n",
       "3        0DmhnbHjm1qw6NCYPeZNgJ        0.0                     []   \n",
       "4        0Dn11fWM7vHQ3rinvWEl4E        2.0                     []   \n",
       "...                         ...        ...                    ...   \n",
       "1104344  6rJIG42vcWAf1UBdRFlQxB     3345.0                     []   \n",
       "1104345  1ljurfXKPlGncNdW3J8zJ8     2123.0  ['deep acoustic pop']   \n",
       "1104346  2vnT9YhKIvjVo9LnVjWmr2       26.0                     []   \n",
       "1104347  3ID0E5XCvnJIYZEq043ZoB      406.0                     []   \n",
       "1104348  5m0Y4WSYyai2BU752lCASy      146.0                     []   \n",
       "\n",
       "                                                   name  popularity  \n",
       "0        Armid & Amir Zare Pashai feat. Sara Rouzbehani           0  \n",
       "1                                           ปูนา ภาวิณี           0  \n",
       "2                                                 Sadaa           0  \n",
       "3                                             Tra'gruda           0  \n",
       "4                                Ioannis Panoutsopoulos           0  \n",
       "...                                                 ...         ...  \n",
       "1104344                                      Cody Longo           8  \n",
       "1104345                                 Right the Stars          18  \n",
       "1104346                                  Jesse Giddings           0  \n",
       "1104347                            The Boy Band Project           0  \n",
       "1104348                                      10 Reasons           1  \n",
       "\n",
       "[1104349 rows x 5 columns]"
      ]
     },
     "execution_count": 32,
     "metadata": {},
     "output_type": "execute_result"
    }
   ],
   "source": [
    "artist = pd.read_csv('../../data/artists.csv')\n",
    "artist"
   ]
  },
  {
   "cell_type": "code",
   "execution_count": 33,
   "metadata": {},
   "outputs": [
    {
     "name": "stdout",
     "output_type": "stream",
     "text": [
      "<class 'pandas.core.frame.DataFrame'>\n",
      "RangeIndex: 1104349 entries, 0 to 1104348\n",
      "Data columns (total 5 columns):\n",
      " #   Column      Non-Null Count    Dtype  \n",
      "---  ------      --------------    -----  \n",
      " 0   id          1104349 non-null  object \n",
      " 1   followers   1104336 non-null  float64\n",
      " 2   genres      1104349 non-null  object \n",
      " 3   name        1104349 non-null  object \n",
      " 4   popularity  1104349 non-null  int64  \n",
      "dtypes: float64(1), int64(1), object(3)\n",
      "memory usage: 42.1+ MB\n"
     ]
    }
   ],
   "source": [
    "artist.info()"
   ]
  },
  {
   "cell_type": "code",
   "execution_count": 34,
   "metadata": {},
   "outputs": [
    {
     "data": {
      "text/html": [
       "<div>\n",
       "<style scoped>\n",
       "    .dataframe tbody tr th:only-of-type {\n",
       "        vertical-align: middle;\n",
       "    }\n",
       "\n",
       "    .dataframe tbody tr th {\n",
       "        vertical-align: top;\n",
       "    }\n",
       "\n",
       "    .dataframe thead th {\n",
       "        text-align: right;\n",
       "    }\n",
       "</style>\n",
       "<table border=\"1\" class=\"dataframe\">\n",
       "  <thead>\n",
       "    <tr style=\"text-align: right;\">\n",
       "      <th></th>\n",
       "      <th>genres</th>\n",
       "      <th>artists</th>\n",
       "      <th>acousticness</th>\n",
       "      <th>danceability</th>\n",
       "      <th>duration_ms</th>\n",
       "      <th>energy</th>\n",
       "      <th>instrumentalness</th>\n",
       "      <th>liveness</th>\n",
       "      <th>loudness</th>\n",
       "      <th>speechiness</th>\n",
       "      <th>tempo</th>\n",
       "      <th>valence</th>\n",
       "      <th>popularity</th>\n",
       "      <th>key</th>\n",
       "      <th>mode</th>\n",
       "      <th>count</th>\n",
       "    </tr>\n",
       "  </thead>\n",
       "  <tbody>\n",
       "    <tr>\n",
       "      <th>0</th>\n",
       "      <td>['show tunes']</td>\n",
       "      <td>\"Cats\" 1981 Original London Cast</td>\n",
       "      <td>0.590111</td>\n",
       "      <td>0.467222</td>\n",
       "      <td>250318.555556</td>\n",
       "      <td>0.394003</td>\n",
       "      <td>0.011400</td>\n",
       "      <td>0.290833</td>\n",
       "      <td>-14.448000</td>\n",
       "      <td>0.210389</td>\n",
       "      <td>117.518111</td>\n",
       "      <td>0.389500</td>\n",
       "      <td>38.333333</td>\n",
       "      <td>5</td>\n",
       "      <td>1</td>\n",
       "      <td>9</td>\n",
       "    </tr>\n",
       "    <tr>\n",
       "      <th>1</th>\n",
       "      <td>[]</td>\n",
       "      <td>\"Cats\" 1983 Broadway Cast</td>\n",
       "      <td>0.862538</td>\n",
       "      <td>0.441731</td>\n",
       "      <td>287280.000000</td>\n",
       "      <td>0.406808</td>\n",
       "      <td>0.081158</td>\n",
       "      <td>0.315215</td>\n",
       "      <td>-10.690000</td>\n",
       "      <td>0.176212</td>\n",
       "      <td>103.044154</td>\n",
       "      <td>0.268865</td>\n",
       "      <td>30.576923</td>\n",
       "      <td>5</td>\n",
       "      <td>1</td>\n",
       "      <td>26</td>\n",
       "    </tr>\n",
       "    <tr>\n",
       "      <th>2</th>\n",
       "      <td>[]</td>\n",
       "      <td>\"Fiddler On The Roof” Motion Picture Chorus</td>\n",
       "      <td>0.856571</td>\n",
       "      <td>0.348286</td>\n",
       "      <td>328920.000000</td>\n",
       "      <td>0.286571</td>\n",
       "      <td>0.024593</td>\n",
       "      <td>0.325786</td>\n",
       "      <td>-15.230714</td>\n",
       "      <td>0.118514</td>\n",
       "      <td>77.375857</td>\n",
       "      <td>0.354857</td>\n",
       "      <td>34.857143</td>\n",
       "      <td>0</td>\n",
       "      <td>1</td>\n",
       "      <td>7</td>\n",
       "    </tr>\n",
       "    <tr>\n",
       "      <th>3</th>\n",
       "      <td>[]</td>\n",
       "      <td>\"Fiddler On The Roof” Motion Picture Orchestra</td>\n",
       "      <td>0.884926</td>\n",
       "      <td>0.425074</td>\n",
       "      <td>262890.962963</td>\n",
       "      <td>0.245770</td>\n",
       "      <td>0.073587</td>\n",
       "      <td>0.275481</td>\n",
       "      <td>-15.639370</td>\n",
       "      <td>0.123200</td>\n",
       "      <td>88.667630</td>\n",
       "      <td>0.372030</td>\n",
       "      <td>34.851852</td>\n",
       "      <td>0</td>\n",
       "      <td>1</td>\n",
       "      <td>27</td>\n",
       "    </tr>\n",
       "    <tr>\n",
       "      <th>4</th>\n",
       "      <td>[]</td>\n",
       "      <td>\"Joseph And The Amazing Technicolor Dreamcoat\"...</td>\n",
       "      <td>0.510714</td>\n",
       "      <td>0.467143</td>\n",
       "      <td>270436.142857</td>\n",
       "      <td>0.488286</td>\n",
       "      <td>0.009400</td>\n",
       "      <td>0.195000</td>\n",
       "      <td>-10.236714</td>\n",
       "      <td>0.098543</td>\n",
       "      <td>122.835857</td>\n",
       "      <td>0.482286</td>\n",
       "      <td>43.000000</td>\n",
       "      <td>5</td>\n",
       "      <td>1</td>\n",
       "      <td>7</td>\n",
       "    </tr>\n",
       "  </tbody>\n",
       "</table>\n",
       "</div>"
      ],
      "text/plain": [
       "           genres                                            artists  \\\n",
       "0  ['show tunes']                   \"Cats\" 1981 Original London Cast   \n",
       "1              []                          \"Cats\" 1983 Broadway Cast   \n",
       "2              []        \"Fiddler On The Roof” Motion Picture Chorus   \n",
       "3              []     \"Fiddler On The Roof” Motion Picture Orchestra   \n",
       "4              []  \"Joseph And The Amazing Technicolor Dreamcoat\"...   \n",
       "\n",
       "   acousticness  danceability    duration_ms    energy  instrumentalness  \\\n",
       "0      0.590111      0.467222  250318.555556  0.394003          0.011400   \n",
       "1      0.862538      0.441731  287280.000000  0.406808          0.081158   \n",
       "2      0.856571      0.348286  328920.000000  0.286571          0.024593   \n",
       "3      0.884926      0.425074  262890.962963  0.245770          0.073587   \n",
       "4      0.510714      0.467143  270436.142857  0.488286          0.009400   \n",
       "\n",
       "   liveness   loudness  speechiness       tempo   valence  popularity  key  \\\n",
       "0  0.290833 -14.448000     0.210389  117.518111  0.389500   38.333333    5   \n",
       "1  0.315215 -10.690000     0.176212  103.044154  0.268865   30.576923    5   \n",
       "2  0.325786 -15.230714     0.118514   77.375857  0.354857   34.857143    0   \n",
       "3  0.275481 -15.639370     0.123200   88.667630  0.372030   34.851852    0   \n",
       "4  0.195000 -10.236714     0.098543  122.835857  0.482286   43.000000    5   \n",
       "\n",
       "   mode  count  \n",
       "0     1      9  \n",
       "1     1     26  \n",
       "2     1      7  \n",
       "3     1     27  \n",
       "4     1      7  "
      ]
     },
     "execution_count": 34,
     "metadata": {},
     "output_type": "execute_result"
    }
   ],
   "source": [
    "data_by_artist = pd.read_csv('../../data/data_by_artist_o.csv')\n",
    "data_by_artist.head()"
   ]
  },
  {
   "cell_type": "code",
   "execution_count": 35,
   "metadata": {},
   "outputs": [
    {
     "name": "stdout",
     "output_type": "stream",
     "text": [
      "<class 'pandas.core.frame.DataFrame'>\n",
      "RangeIndex: 28680 entries, 0 to 28679\n",
      "Data columns (total 16 columns):\n",
      " #   Column            Non-Null Count  Dtype  \n",
      "---  ------            --------------  -----  \n",
      " 0   genres            28680 non-null  object \n",
      " 1   artists           28680 non-null  object \n",
      " 2   acousticness      28680 non-null  float64\n",
      " 3   danceability      28680 non-null  float64\n",
      " 4   duration_ms       28680 non-null  float64\n",
      " 5   energy            28680 non-null  float64\n",
      " 6   instrumentalness  28680 non-null  float64\n",
      " 7   liveness          28680 non-null  float64\n",
      " 8   loudness          28680 non-null  float64\n",
      " 9   speechiness       28680 non-null  float64\n",
      " 10  tempo             28680 non-null  float64\n",
      " 11  valence           28680 non-null  float64\n",
      " 12  popularity        28680 non-null  float64\n",
      " 13  key               28680 non-null  int64  \n",
      " 14  mode              28680 non-null  int64  \n",
      " 15  count             28680 non-null  int64  \n",
      "dtypes: float64(11), int64(3), object(2)\n",
      "memory usage: 3.5+ MB\n"
     ]
    }
   ],
   "source": [
    "data_by_artist.info()\n",
    "#group by genre?\n",
    "#do some clustering to see what popularity songs are"
   ]
  },
  {
   "cell_type": "code",
   "execution_count": 36,
   "metadata": {},
   "outputs": [
    {
     "data": {
      "text/html": [
       "<div>\n",
       "<style scoped>\n",
       "    .dataframe tbody tr th:only-of-type {\n",
       "        vertical-align: middle;\n",
       "    }\n",
       "\n",
       "    .dataframe tbody tr th {\n",
       "        vertical-align: top;\n",
       "    }\n",
       "\n",
       "    .dataframe thead th {\n",
       "        text-align: right;\n",
       "    }\n",
       "</style>\n",
       "<table border=\"1\" class=\"dataframe\">\n",
       "  <thead>\n",
       "    <tr style=\"text-align: right;\">\n",
       "      <th></th>\n",
       "      <th>mode</th>\n",
       "      <th>genres</th>\n",
       "      <th>acousticness</th>\n",
       "      <th>danceability</th>\n",
       "      <th>duration_ms</th>\n",
       "      <th>energy</th>\n",
       "      <th>instrumentalness</th>\n",
       "      <th>liveness</th>\n",
       "      <th>loudness</th>\n",
       "      <th>speechiness</th>\n",
       "      <th>tempo</th>\n",
       "      <th>valence</th>\n",
       "      <th>popularity</th>\n",
       "      <th>key</th>\n",
       "    </tr>\n",
       "  </thead>\n",
       "  <tbody>\n",
       "    <tr>\n",
       "      <th>0</th>\n",
       "      <td>1</td>\n",
       "      <td>21st century classical</td>\n",
       "      <td>0.979333</td>\n",
       "      <td>0.162883</td>\n",
       "      <td>1.602977e+05</td>\n",
       "      <td>0.071317</td>\n",
       "      <td>0.606834</td>\n",
       "      <td>0.361600</td>\n",
       "      <td>-31.514333</td>\n",
       "      <td>0.040567</td>\n",
       "      <td>75.336500</td>\n",
       "      <td>0.103783</td>\n",
       "      <td>27.833333</td>\n",
       "      <td>6</td>\n",
       "    </tr>\n",
       "    <tr>\n",
       "      <th>1</th>\n",
       "      <td>1</td>\n",
       "      <td>432hz</td>\n",
       "      <td>0.494780</td>\n",
       "      <td>0.299333</td>\n",
       "      <td>1.048887e+06</td>\n",
       "      <td>0.450678</td>\n",
       "      <td>0.477762</td>\n",
       "      <td>0.131000</td>\n",
       "      <td>-16.854000</td>\n",
       "      <td>0.076817</td>\n",
       "      <td>120.285667</td>\n",
       "      <td>0.221750</td>\n",
       "      <td>52.500000</td>\n",
       "      <td>5</td>\n",
       "    </tr>\n",
       "    <tr>\n",
       "      <th>2</th>\n",
       "      <td>1</td>\n",
       "      <td>8-bit</td>\n",
       "      <td>0.762000</td>\n",
       "      <td>0.712000</td>\n",
       "      <td>1.151770e+05</td>\n",
       "      <td>0.818000</td>\n",
       "      <td>0.876000</td>\n",
       "      <td>0.126000</td>\n",
       "      <td>-9.180000</td>\n",
       "      <td>0.047000</td>\n",
       "      <td>133.444000</td>\n",
       "      <td>0.975000</td>\n",
       "      <td>48.000000</td>\n",
       "      <td>7</td>\n",
       "    </tr>\n",
       "    <tr>\n",
       "      <th>3</th>\n",
       "      <td>1</td>\n",
       "      <td>[]</td>\n",
       "      <td>0.651417</td>\n",
       "      <td>0.529093</td>\n",
       "      <td>2.328809e+05</td>\n",
       "      <td>0.419146</td>\n",
       "      <td>0.205309</td>\n",
       "      <td>0.218696</td>\n",
       "      <td>-12.288965</td>\n",
       "      <td>0.107872</td>\n",
       "      <td>112.857352</td>\n",
       "      <td>0.513604</td>\n",
       "      <td>20.859882</td>\n",
       "      <td>7</td>\n",
       "    </tr>\n",
       "    <tr>\n",
       "      <th>4</th>\n",
       "      <td>1</td>\n",
       "      <td>a cappella</td>\n",
       "      <td>0.676557</td>\n",
       "      <td>0.538961</td>\n",
       "      <td>1.906285e+05</td>\n",
       "      <td>0.316434</td>\n",
       "      <td>0.003003</td>\n",
       "      <td>0.172254</td>\n",
       "      <td>-12.479387</td>\n",
       "      <td>0.082851</td>\n",
       "      <td>112.110362</td>\n",
       "      <td>0.448249</td>\n",
       "      <td>45.820071</td>\n",
       "      <td>7</td>\n",
       "    </tr>\n",
       "  </tbody>\n",
       "</table>\n",
       "</div>"
      ],
      "text/plain": [
       "   mode                  genres  acousticness  danceability   duration_ms  \\\n",
       "0     1  21st century classical      0.979333      0.162883  1.602977e+05   \n",
       "1     1                   432hz      0.494780      0.299333  1.048887e+06   \n",
       "2     1                   8-bit      0.762000      0.712000  1.151770e+05   \n",
       "3     1                      []      0.651417      0.529093  2.328809e+05   \n",
       "4     1              a cappella      0.676557      0.538961  1.906285e+05   \n",
       "\n",
       "     energy  instrumentalness  liveness   loudness  speechiness       tempo  \\\n",
       "0  0.071317          0.606834  0.361600 -31.514333     0.040567   75.336500   \n",
       "1  0.450678          0.477762  0.131000 -16.854000     0.076817  120.285667   \n",
       "2  0.818000          0.876000  0.126000  -9.180000     0.047000  133.444000   \n",
       "3  0.419146          0.205309  0.218696 -12.288965     0.107872  112.857352   \n",
       "4  0.316434          0.003003  0.172254 -12.479387     0.082851  112.110362   \n",
       "\n",
       "    valence  popularity  key  \n",
       "0  0.103783   27.833333    6  \n",
       "1  0.221750   52.500000    5  \n",
       "2  0.975000   48.000000    7  \n",
       "3  0.513604   20.859882    7  \n",
       "4  0.448249   45.820071    7  "
      ]
     },
     "execution_count": 36,
     "metadata": {},
     "output_type": "execute_result"
    }
   ],
   "source": [
    "data_by_genres = pd.read_csv('../../data/data_by_genres_o.csv')\n",
    "data_by_genres.head()"
   ]
  },
  {
   "cell_type": "code",
   "execution_count": 37,
   "metadata": {},
   "outputs": [
    {
     "name": "stdout",
     "output_type": "stream",
     "text": [
      "<class 'pandas.core.frame.DataFrame'>\n",
      "RangeIndex: 2973 entries, 0 to 2972\n",
      "Data columns (total 14 columns):\n",
      " #   Column            Non-Null Count  Dtype  \n",
      "---  ------            --------------  -----  \n",
      " 0   mode              2973 non-null   int64  \n",
      " 1   genres            2973 non-null   object \n",
      " 2   acousticness      2973 non-null   float64\n",
      " 3   danceability      2973 non-null   float64\n",
      " 4   duration_ms       2973 non-null   float64\n",
      " 5   energy            2973 non-null   float64\n",
      " 6   instrumentalness  2973 non-null   float64\n",
      " 7   liveness          2973 non-null   float64\n",
      " 8   loudness          2973 non-null   float64\n",
      " 9   speechiness       2973 non-null   float64\n",
      " 10  tempo             2973 non-null   float64\n",
      " 11  valence           2973 non-null   float64\n",
      " 12  popularity        2973 non-null   float64\n",
      " 13  key               2973 non-null   int64  \n",
      "dtypes: float64(11), int64(2), object(1)\n",
      "memory usage: 325.3+ KB\n"
     ]
    }
   ],
   "source": [
    "data_by_genres.info()"
   ]
  },
  {
   "cell_type": "code",
   "execution_count": 38,
   "metadata": {},
   "outputs": [
    {
     "data": {
      "text/html": [
       "<div>\n",
       "<style scoped>\n",
       "    .dataframe tbody tr th:only-of-type {\n",
       "        vertical-align: middle;\n",
       "    }\n",
       "\n",
       "    .dataframe tbody tr th {\n",
       "        vertical-align: top;\n",
       "    }\n",
       "\n",
       "    .dataframe thead th {\n",
       "        text-align: right;\n",
       "    }\n",
       "</style>\n",
       "<table border=\"1\" class=\"dataframe\">\n",
       "  <thead>\n",
       "    <tr style=\"text-align: right;\">\n",
       "      <th></th>\n",
       "      <th>mode</th>\n",
       "      <th>year</th>\n",
       "      <th>acousticness</th>\n",
       "      <th>danceability</th>\n",
       "      <th>duration_ms</th>\n",
       "      <th>energy</th>\n",
       "      <th>instrumentalness</th>\n",
       "      <th>liveness</th>\n",
       "      <th>loudness</th>\n",
       "      <th>speechiness</th>\n",
       "      <th>tempo</th>\n",
       "      <th>valence</th>\n",
       "      <th>popularity</th>\n",
       "      <th>key</th>\n",
       "    </tr>\n",
       "  </thead>\n",
       "  <tbody>\n",
       "    <tr>\n",
       "      <th>0</th>\n",
       "      <td>1</td>\n",
       "      <td>1921</td>\n",
       "      <td>0.886896</td>\n",
       "      <td>0.418597</td>\n",
       "      <td>260537.166667</td>\n",
       "      <td>0.231815</td>\n",
       "      <td>0.344878</td>\n",
       "      <td>0.205710</td>\n",
       "      <td>-17.048667</td>\n",
       "      <td>0.073662</td>\n",
       "      <td>101.531493</td>\n",
       "      <td>0.379327</td>\n",
       "      <td>0.653333</td>\n",
       "      <td>2</td>\n",
       "    </tr>\n",
       "    <tr>\n",
       "      <th>1</th>\n",
       "      <td>1</td>\n",
       "      <td>1922</td>\n",
       "      <td>0.938592</td>\n",
       "      <td>0.482042</td>\n",
       "      <td>165469.746479</td>\n",
       "      <td>0.237815</td>\n",
       "      <td>0.434195</td>\n",
       "      <td>0.240720</td>\n",
       "      <td>-19.275282</td>\n",
       "      <td>0.116655</td>\n",
       "      <td>100.884521</td>\n",
       "      <td>0.535549</td>\n",
       "      <td>0.140845</td>\n",
       "      <td>10</td>\n",
       "    </tr>\n",
       "    <tr>\n",
       "      <th>2</th>\n",
       "      <td>1</td>\n",
       "      <td>1923</td>\n",
       "      <td>0.957247</td>\n",
       "      <td>0.577341</td>\n",
       "      <td>177942.362162</td>\n",
       "      <td>0.262406</td>\n",
       "      <td>0.371733</td>\n",
       "      <td>0.227462</td>\n",
       "      <td>-14.129211</td>\n",
       "      <td>0.093949</td>\n",
       "      <td>114.010730</td>\n",
       "      <td>0.625492</td>\n",
       "      <td>5.389189</td>\n",
       "      <td>0</td>\n",
       "    </tr>\n",
       "    <tr>\n",
       "      <th>3</th>\n",
       "      <td>1</td>\n",
       "      <td>1924</td>\n",
       "      <td>0.940200</td>\n",
       "      <td>0.549894</td>\n",
       "      <td>191046.707627</td>\n",
       "      <td>0.344347</td>\n",
       "      <td>0.581701</td>\n",
       "      <td>0.235219</td>\n",
       "      <td>-14.231343</td>\n",
       "      <td>0.092089</td>\n",
       "      <td>120.689572</td>\n",
       "      <td>0.663725</td>\n",
       "      <td>0.661017</td>\n",
       "      <td>10</td>\n",
       "    </tr>\n",
       "    <tr>\n",
       "      <th>4</th>\n",
       "      <td>1</td>\n",
       "      <td>1925</td>\n",
       "      <td>0.962607</td>\n",
       "      <td>0.573863</td>\n",
       "      <td>184986.924460</td>\n",
       "      <td>0.278594</td>\n",
       "      <td>0.418297</td>\n",
       "      <td>0.237668</td>\n",
       "      <td>-14.146414</td>\n",
       "      <td>0.111918</td>\n",
       "      <td>115.521921</td>\n",
       "      <td>0.621929</td>\n",
       "      <td>2.604317</td>\n",
       "      <td>5</td>\n",
       "    </tr>\n",
       "  </tbody>\n",
       "</table>\n",
       "</div>"
      ],
      "text/plain": [
       "   mode  year  acousticness  danceability    duration_ms    energy  \\\n",
       "0     1  1921      0.886896      0.418597  260537.166667  0.231815   \n",
       "1     1  1922      0.938592      0.482042  165469.746479  0.237815   \n",
       "2     1  1923      0.957247      0.577341  177942.362162  0.262406   \n",
       "3     1  1924      0.940200      0.549894  191046.707627  0.344347   \n",
       "4     1  1925      0.962607      0.573863  184986.924460  0.278594   \n",
       "\n",
       "   instrumentalness  liveness   loudness  speechiness       tempo   valence  \\\n",
       "0          0.344878  0.205710 -17.048667     0.073662  101.531493  0.379327   \n",
       "1          0.434195  0.240720 -19.275282     0.116655  100.884521  0.535549   \n",
       "2          0.371733  0.227462 -14.129211     0.093949  114.010730  0.625492   \n",
       "3          0.581701  0.235219 -14.231343     0.092089  120.689572  0.663725   \n",
       "4          0.418297  0.237668 -14.146414     0.111918  115.521921  0.621929   \n",
       "\n",
       "   popularity  key  \n",
       "0    0.653333    2  \n",
       "1    0.140845   10  \n",
       "2    5.389189    0  \n",
       "3    0.661017   10  \n",
       "4    2.604317    5  "
      ]
     },
     "execution_count": 38,
     "metadata": {},
     "output_type": "execute_result"
    }
   ],
   "source": [
    "data_by_year = pd.read_csv('../../data/data_by_year_o.csv')\n",
    "data_by_year.head()"
   ]
  },
  {
   "cell_type": "code",
   "execution_count": 39,
   "metadata": {},
   "outputs": [
    {
     "name": "stdout",
     "output_type": "stream",
     "text": [
      "<class 'pandas.core.frame.DataFrame'>\n",
      "RangeIndex: 100 entries, 0 to 99\n",
      "Data columns (total 14 columns):\n",
      " #   Column            Non-Null Count  Dtype  \n",
      "---  ------            --------------  -----  \n",
      " 0   mode              100 non-null    int64  \n",
      " 1   year              100 non-null    int64  \n",
      " 2   acousticness      100 non-null    float64\n",
      " 3   danceability      100 non-null    float64\n",
      " 4   duration_ms       100 non-null    float64\n",
      " 5   energy            100 non-null    float64\n",
      " 6   instrumentalness  100 non-null    float64\n",
      " 7   liveness          100 non-null    float64\n",
      " 8   loudness          100 non-null    float64\n",
      " 9   speechiness       100 non-null    float64\n",
      " 10  tempo             100 non-null    float64\n",
      " 11  valence           100 non-null    float64\n",
      " 12  popularity        100 non-null    float64\n",
      " 13  key               100 non-null    int64  \n",
      "dtypes: float64(11), int64(3)\n",
      "memory usage: 11.1 KB\n"
     ]
    }
   ],
   "source": [
    "data_by_year.info()"
   ]
  },
  {
   "cell_type": "code",
   "execution_count": 40,
   "metadata": {},
   "outputs": [
    {
     "data": {
      "text/html": [
       "<div>\n",
       "<style scoped>\n",
       "    .dataframe tbody tr th:only-of-type {\n",
       "        vertical-align: middle;\n",
       "    }\n",
       "\n",
       "    .dataframe tbody tr th {\n",
       "        vertical-align: top;\n",
       "    }\n",
       "\n",
       "    .dataframe thead th {\n",
       "        text-align: right;\n",
       "    }\n",
       "</style>\n",
       "<table border=\"1\" class=\"dataframe\">\n",
       "  <thead>\n",
       "    <tr style=\"text-align: right;\">\n",
       "      <th></th>\n",
       "      <th>valence</th>\n",
       "      <th>year</th>\n",
       "      <th>acousticness</th>\n",
       "      <th>artists</th>\n",
       "      <th>danceability</th>\n",
       "      <th>duration_ms</th>\n",
       "      <th>energy</th>\n",
       "      <th>explicit</th>\n",
       "      <th>id</th>\n",
       "      <th>instrumentalness</th>\n",
       "      <th>key</th>\n",
       "      <th>liveness</th>\n",
       "      <th>loudness</th>\n",
       "      <th>mode</th>\n",
       "      <th>name</th>\n",
       "      <th>popularity</th>\n",
       "      <th>release_date</th>\n",
       "      <th>speechiness</th>\n",
       "      <th>tempo</th>\n",
       "    </tr>\n",
       "  </thead>\n",
       "  <tbody>\n",
       "    <tr>\n",
       "      <th>0</th>\n",
       "      <td>0.0594</td>\n",
       "      <td>1921</td>\n",
       "      <td>0.982</td>\n",
       "      <td>['Sergei Rachmaninoff', 'James Levine', 'Berli...</td>\n",
       "      <td>0.279</td>\n",
       "      <td>831667</td>\n",
       "      <td>0.211</td>\n",
       "      <td>0</td>\n",
       "      <td>4BJqT0PrAfrxzMOxytFOIz</td>\n",
       "      <td>0.878000</td>\n",
       "      <td>10</td>\n",
       "      <td>0.665</td>\n",
       "      <td>-20.096</td>\n",
       "      <td>1</td>\n",
       "      <td>Piano Concerto No. 3 in D Minor, Op. 30: III. ...</td>\n",
       "      <td>4</td>\n",
       "      <td>1921</td>\n",
       "      <td>0.0366</td>\n",
       "      <td>80.954</td>\n",
       "    </tr>\n",
       "    <tr>\n",
       "      <th>1</th>\n",
       "      <td>0.9630</td>\n",
       "      <td>1921</td>\n",
       "      <td>0.732</td>\n",
       "      <td>['Dennis Day']</td>\n",
       "      <td>0.819</td>\n",
       "      <td>180533</td>\n",
       "      <td>0.341</td>\n",
       "      <td>0</td>\n",
       "      <td>7xPhfUan2yNtyFG0cUWkt8</td>\n",
       "      <td>0.000000</td>\n",
       "      <td>7</td>\n",
       "      <td>0.160</td>\n",
       "      <td>-12.441</td>\n",
       "      <td>1</td>\n",
       "      <td>Clancy Lowered the Boom</td>\n",
       "      <td>5</td>\n",
       "      <td>1921</td>\n",
       "      <td>0.4150</td>\n",
       "      <td>60.936</td>\n",
       "    </tr>\n",
       "    <tr>\n",
       "      <th>2</th>\n",
       "      <td>0.0394</td>\n",
       "      <td>1921</td>\n",
       "      <td>0.961</td>\n",
       "      <td>['KHP Kridhamardawa Karaton Ngayogyakarta Hadi...</td>\n",
       "      <td>0.328</td>\n",
       "      <td>500062</td>\n",
       "      <td>0.166</td>\n",
       "      <td>0</td>\n",
       "      <td>1o6I8BglA6ylDMrIELygv1</td>\n",
       "      <td>0.913000</td>\n",
       "      <td>3</td>\n",
       "      <td>0.101</td>\n",
       "      <td>-14.850</td>\n",
       "      <td>1</td>\n",
       "      <td>Gati Bali</td>\n",
       "      <td>5</td>\n",
       "      <td>1921</td>\n",
       "      <td>0.0339</td>\n",
       "      <td>110.339</td>\n",
       "    </tr>\n",
       "    <tr>\n",
       "      <th>3</th>\n",
       "      <td>0.1650</td>\n",
       "      <td>1921</td>\n",
       "      <td>0.967</td>\n",
       "      <td>['Frank Parker']</td>\n",
       "      <td>0.275</td>\n",
       "      <td>210000</td>\n",
       "      <td>0.309</td>\n",
       "      <td>0</td>\n",
       "      <td>3ftBPsC5vPBKxYSee08FDH</td>\n",
       "      <td>0.000028</td>\n",
       "      <td>5</td>\n",
       "      <td>0.381</td>\n",
       "      <td>-9.316</td>\n",
       "      <td>1</td>\n",
       "      <td>Danny Boy</td>\n",
       "      <td>3</td>\n",
       "      <td>1921</td>\n",
       "      <td>0.0354</td>\n",
       "      <td>100.109</td>\n",
       "    </tr>\n",
       "    <tr>\n",
       "      <th>4</th>\n",
       "      <td>0.2530</td>\n",
       "      <td>1921</td>\n",
       "      <td>0.957</td>\n",
       "      <td>['Phil Regan']</td>\n",
       "      <td>0.418</td>\n",
       "      <td>166693</td>\n",
       "      <td>0.193</td>\n",
       "      <td>0</td>\n",
       "      <td>4d6HGyGT8e121BsdKmw9v6</td>\n",
       "      <td>0.000002</td>\n",
       "      <td>3</td>\n",
       "      <td>0.229</td>\n",
       "      <td>-10.096</td>\n",
       "      <td>1</td>\n",
       "      <td>When Irish Eyes Are Smiling</td>\n",
       "      <td>2</td>\n",
       "      <td>1921</td>\n",
       "      <td>0.0380</td>\n",
       "      <td>101.665</td>\n",
       "    </tr>\n",
       "  </tbody>\n",
       "</table>\n",
       "</div>"
      ],
      "text/plain": [
       "   valence  year  acousticness  \\\n",
       "0   0.0594  1921         0.982   \n",
       "1   0.9630  1921         0.732   \n",
       "2   0.0394  1921         0.961   \n",
       "3   0.1650  1921         0.967   \n",
       "4   0.2530  1921         0.957   \n",
       "\n",
       "                                             artists  danceability  \\\n",
       "0  ['Sergei Rachmaninoff', 'James Levine', 'Berli...         0.279   \n",
       "1                                     ['Dennis Day']         0.819   \n",
       "2  ['KHP Kridhamardawa Karaton Ngayogyakarta Hadi...         0.328   \n",
       "3                                   ['Frank Parker']         0.275   \n",
       "4                                     ['Phil Regan']         0.418   \n",
       "\n",
       "   duration_ms  energy  explicit                      id  instrumentalness  \\\n",
       "0       831667   0.211         0  4BJqT0PrAfrxzMOxytFOIz          0.878000   \n",
       "1       180533   0.341         0  7xPhfUan2yNtyFG0cUWkt8          0.000000   \n",
       "2       500062   0.166         0  1o6I8BglA6ylDMrIELygv1          0.913000   \n",
       "3       210000   0.309         0  3ftBPsC5vPBKxYSee08FDH          0.000028   \n",
       "4       166693   0.193         0  4d6HGyGT8e121BsdKmw9v6          0.000002   \n",
       "\n",
       "   key  liveness  loudness  mode  \\\n",
       "0   10     0.665   -20.096     1   \n",
       "1    7     0.160   -12.441     1   \n",
       "2    3     0.101   -14.850     1   \n",
       "3    5     0.381    -9.316     1   \n",
       "4    3     0.229   -10.096     1   \n",
       "\n",
       "                                                name  popularity release_date  \\\n",
       "0  Piano Concerto No. 3 in D Minor, Op. 30: III. ...           4         1921   \n",
       "1                            Clancy Lowered the Boom           5         1921   \n",
       "2                                          Gati Bali           5         1921   \n",
       "3                                          Danny Boy           3         1921   \n",
       "4                        When Irish Eyes Are Smiling           2         1921   \n",
       "\n",
       "   speechiness    tempo  \n",
       "0       0.0366   80.954  \n",
       "1       0.4150   60.936  \n",
       "2       0.0339  110.339  \n",
       "3       0.0354  100.109  \n",
       "4       0.0380  101.665  "
      ]
     },
     "execution_count": 40,
     "metadata": {},
     "output_type": "execute_result"
    }
   ],
   "source": [
    "data = pd.read_csv('../../data/data_o.csv')\n",
    "data.head()"
   ]
  },
  {
   "cell_type": "code",
   "execution_count": 41,
   "metadata": {},
   "outputs": [
    {
     "name": "stdout",
     "output_type": "stream",
     "text": [
      "<class 'pandas.core.frame.DataFrame'>\n",
      "RangeIndex: 170653 entries, 0 to 170652\n",
      "Data columns (total 19 columns):\n",
      " #   Column            Non-Null Count   Dtype  \n",
      "---  ------            --------------   -----  \n",
      " 0   valence           170653 non-null  float64\n",
      " 1   year              170653 non-null  int64  \n",
      " 2   acousticness      170653 non-null  float64\n",
      " 3   artists           170653 non-null  object \n",
      " 4   danceability      170653 non-null  float64\n",
      " 5   duration_ms       170653 non-null  int64  \n",
      " 6   energy            170653 non-null  float64\n",
      " 7   explicit          170653 non-null  int64  \n",
      " 8   id                170653 non-null  object \n",
      " 9   instrumentalness  170653 non-null  float64\n",
      " 10  key               170653 non-null  int64  \n",
      " 11  liveness          170653 non-null  float64\n",
      " 12  loudness          170653 non-null  float64\n",
      " 13  mode              170653 non-null  int64  \n",
      " 14  name              170653 non-null  object \n",
      " 15  popularity        170653 non-null  int64  \n",
      " 16  release_date      170653 non-null  object \n",
      " 17  speechiness       170653 non-null  float64\n",
      " 18  tempo             170653 non-null  float64\n",
      "dtypes: float64(9), int64(6), object(4)\n",
      "memory usage: 24.7+ MB\n"
     ]
    }
   ],
   "source": [
    "data.info()"
   ]
  },
  {
   "cell_type": "code",
   "execution_count": 42,
   "metadata": {},
   "outputs": [
    {
     "data": {
      "text/html": [
       "<div>\n",
       "<style scoped>\n",
       "    .dataframe tbody tr th:only-of-type {\n",
       "        vertical-align: middle;\n",
       "    }\n",
       "\n",
       "    .dataframe tbody tr th {\n",
       "        vertical-align: top;\n",
       "    }\n",
       "\n",
       "    .dataframe thead th {\n",
       "        text-align: right;\n",
       "    }\n",
       "</style>\n",
       "<table border=\"1\" class=\"dataframe\">\n",
       "  <thead>\n",
       "    <tr style=\"text-align: right;\">\n",
       "      <th></th>\n",
       "      <th>id</th>\n",
       "      <th>name</th>\n",
       "      <th>popularity</th>\n",
       "      <th>duration_ms</th>\n",
       "      <th>explicit</th>\n",
       "      <th>artists</th>\n",
       "      <th>id_artists</th>\n",
       "      <th>release_date</th>\n",
       "      <th>danceability</th>\n",
       "      <th>energy</th>\n",
       "      <th>key</th>\n",
       "      <th>loudness</th>\n",
       "      <th>mode</th>\n",
       "      <th>speechiness</th>\n",
       "      <th>acousticness</th>\n",
       "      <th>instrumentalness</th>\n",
       "      <th>liveness</th>\n",
       "      <th>valence</th>\n",
       "      <th>tempo</th>\n",
       "      <th>time_signature</th>\n",
       "    </tr>\n",
       "  </thead>\n",
       "  <tbody>\n",
       "    <tr>\n",
       "      <th>0</th>\n",
       "      <td>35iwgR4jXetI318WEWsa1Q</td>\n",
       "      <td>Carve</td>\n",
       "      <td>6</td>\n",
       "      <td>126903</td>\n",
       "      <td>0</td>\n",
       "      <td>['Uli']</td>\n",
       "      <td>['45tIt06XoI0Iio4LBEVpls']</td>\n",
       "      <td>1922-02-22</td>\n",
       "      <td>0.645</td>\n",
       "      <td>0.4450</td>\n",
       "      <td>0</td>\n",
       "      <td>-13.338</td>\n",
       "      <td>1</td>\n",
       "      <td>0.4510</td>\n",
       "      <td>0.674</td>\n",
       "      <td>0.7440</td>\n",
       "      <td>0.151</td>\n",
       "      <td>0.127</td>\n",
       "      <td>104.851</td>\n",
       "      <td>3</td>\n",
       "    </tr>\n",
       "    <tr>\n",
       "      <th>1</th>\n",
       "      <td>021ht4sdgPcrDgSk7JTbKY</td>\n",
       "      <td>Capítulo 2.16 - Banquero Anarquista</td>\n",
       "      <td>0</td>\n",
       "      <td>98200</td>\n",
       "      <td>0</td>\n",
       "      <td>['Fernando Pessoa']</td>\n",
       "      <td>['14jtPCOoNZwquk5wd9DxrY']</td>\n",
       "      <td>1922-06-01</td>\n",
       "      <td>0.695</td>\n",
       "      <td>0.2630</td>\n",
       "      <td>0</td>\n",
       "      <td>-22.136</td>\n",
       "      <td>1</td>\n",
       "      <td>0.9570</td>\n",
       "      <td>0.797</td>\n",
       "      <td>0.0000</td>\n",
       "      <td>0.148</td>\n",
       "      <td>0.655</td>\n",
       "      <td>102.009</td>\n",
       "      <td>1</td>\n",
       "    </tr>\n",
       "    <tr>\n",
       "      <th>2</th>\n",
       "      <td>07A5yehtSnoedViJAZkNnc</td>\n",
       "      <td>Vivo para Quererte - Remasterizado</td>\n",
       "      <td>0</td>\n",
       "      <td>181640</td>\n",
       "      <td>0</td>\n",
       "      <td>['Ignacio Corsini']</td>\n",
       "      <td>['5LiOoJbxVSAMkBS2fUm3X2']</td>\n",
       "      <td>1922-03-21</td>\n",
       "      <td>0.434</td>\n",
       "      <td>0.1770</td>\n",
       "      <td>1</td>\n",
       "      <td>-21.180</td>\n",
       "      <td>1</td>\n",
       "      <td>0.0512</td>\n",
       "      <td>0.994</td>\n",
       "      <td>0.0218</td>\n",
       "      <td>0.212</td>\n",
       "      <td>0.457</td>\n",
       "      <td>130.418</td>\n",
       "      <td>5</td>\n",
       "    </tr>\n",
       "    <tr>\n",
       "      <th>3</th>\n",
       "      <td>08FmqUhxtyLTn6pAh6bk45</td>\n",
       "      <td>El Prisionero - Remasterizado</td>\n",
       "      <td>0</td>\n",
       "      <td>176907</td>\n",
       "      <td>0</td>\n",
       "      <td>['Ignacio Corsini']</td>\n",
       "      <td>['5LiOoJbxVSAMkBS2fUm3X2']</td>\n",
       "      <td>1922-03-21</td>\n",
       "      <td>0.321</td>\n",
       "      <td>0.0946</td>\n",
       "      <td>7</td>\n",
       "      <td>-27.961</td>\n",
       "      <td>1</td>\n",
       "      <td>0.0504</td>\n",
       "      <td>0.995</td>\n",
       "      <td>0.9180</td>\n",
       "      <td>0.104</td>\n",
       "      <td>0.397</td>\n",
       "      <td>169.980</td>\n",
       "      <td>3</td>\n",
       "    </tr>\n",
       "    <tr>\n",
       "      <th>4</th>\n",
       "      <td>08y9GfoqCWfOGsKdwojr5e</td>\n",
       "      <td>Lady of the Evening</td>\n",
       "      <td>0</td>\n",
       "      <td>163080</td>\n",
       "      <td>0</td>\n",
       "      <td>['Dick Haymes']</td>\n",
       "      <td>['3BiJGZsyX9sJchTqcSA7Su']</td>\n",
       "      <td>1922</td>\n",
       "      <td>0.402</td>\n",
       "      <td>0.1580</td>\n",
       "      <td>3</td>\n",
       "      <td>-16.900</td>\n",
       "      <td>0</td>\n",
       "      <td>0.0390</td>\n",
       "      <td>0.989</td>\n",
       "      <td>0.1300</td>\n",
       "      <td>0.311</td>\n",
       "      <td>0.196</td>\n",
       "      <td>103.220</td>\n",
       "      <td>4</td>\n",
       "    </tr>\n",
       "  </tbody>\n",
       "</table>\n",
       "</div>"
      ],
      "text/plain": [
       "                       id                                 name  popularity  \\\n",
       "0  35iwgR4jXetI318WEWsa1Q                                Carve           6   \n",
       "1  021ht4sdgPcrDgSk7JTbKY  Capítulo 2.16 - Banquero Anarquista           0   \n",
       "2  07A5yehtSnoedViJAZkNnc   Vivo para Quererte - Remasterizado           0   \n",
       "3  08FmqUhxtyLTn6pAh6bk45        El Prisionero - Remasterizado           0   \n",
       "4  08y9GfoqCWfOGsKdwojr5e                  Lady of the Evening           0   \n",
       "\n",
       "   duration_ms  explicit              artists                  id_artists  \\\n",
       "0       126903         0              ['Uli']  ['45tIt06XoI0Iio4LBEVpls']   \n",
       "1        98200         0  ['Fernando Pessoa']  ['14jtPCOoNZwquk5wd9DxrY']   \n",
       "2       181640         0  ['Ignacio Corsini']  ['5LiOoJbxVSAMkBS2fUm3X2']   \n",
       "3       176907         0  ['Ignacio Corsini']  ['5LiOoJbxVSAMkBS2fUm3X2']   \n",
       "4       163080         0      ['Dick Haymes']  ['3BiJGZsyX9sJchTqcSA7Su']   \n",
       "\n",
       "  release_date  danceability  energy  key  loudness  mode  speechiness  \\\n",
       "0   1922-02-22         0.645  0.4450    0   -13.338     1       0.4510   \n",
       "1   1922-06-01         0.695  0.2630    0   -22.136     1       0.9570   \n",
       "2   1922-03-21         0.434  0.1770    1   -21.180     1       0.0512   \n",
       "3   1922-03-21         0.321  0.0946    7   -27.961     1       0.0504   \n",
       "4         1922         0.402  0.1580    3   -16.900     0       0.0390   \n",
       "\n",
       "   acousticness  instrumentalness  liveness  valence    tempo  time_signature  \n",
       "0         0.674            0.7440     0.151    0.127  104.851               3  \n",
       "1         0.797            0.0000     0.148    0.655  102.009               1  \n",
       "2         0.994            0.0218     0.212    0.457  130.418               5  \n",
       "3         0.995            0.9180     0.104    0.397  169.980               3  \n",
       "4         0.989            0.1300     0.311    0.196  103.220               4  "
      ]
     },
     "execution_count": 42,
     "metadata": {},
     "output_type": "execute_result"
    }
   ],
   "source": [
    "tracks = pd.read_csv('../../data/tracks.csv')\n",
    "tracks.head()"
   ]
  },
  {
   "cell_type": "code",
   "execution_count": 43,
   "metadata": {},
   "outputs": [
    {
     "name": "stdout",
     "output_type": "stream",
     "text": [
      "<class 'pandas.core.frame.DataFrame'>\n",
      "RangeIndex: 586672 entries, 0 to 586671\n",
      "Data columns (total 20 columns):\n",
      " #   Column            Non-Null Count   Dtype  \n",
      "---  ------            --------------   -----  \n",
      " 0   id                586672 non-null  object \n",
      " 1   name              586601 non-null  object \n",
      " 2   popularity        586672 non-null  int64  \n",
      " 3   duration_ms       586672 non-null  int64  \n",
      " 4   explicit          586672 non-null  int64  \n",
      " 5   artists           586672 non-null  object \n",
      " 6   id_artists        586672 non-null  object \n",
      " 7   release_date      586672 non-null  object \n",
      " 8   danceability      586672 non-null  float64\n",
      " 9   energy            586672 non-null  float64\n",
      " 10  key               586672 non-null  int64  \n",
      " 11  loudness          586672 non-null  float64\n",
      " 12  mode              586672 non-null  int64  \n",
      " 13  speechiness       586672 non-null  float64\n",
      " 14  acousticness      586672 non-null  float64\n",
      " 15  instrumentalness  586672 non-null  float64\n",
      " 16  liveness          586672 non-null  float64\n",
      " 17  valence           586672 non-null  float64\n",
      " 18  tempo             586672 non-null  float64\n",
      " 19  time_signature    586672 non-null  int64  \n",
      "dtypes: float64(9), int64(6), object(5)\n",
      "memory usage: 89.5+ MB\n"
     ]
    }
   ],
   "source": [
    "tracks.info()"
   ]
  },
  {
   "cell_type": "code",
   "execution_count": 44,
   "metadata": {},
   "outputs": [],
   "source": [
    "# from sklearn.cluster import KMeans\n",
    "# from sklearn.preprocessing import StandardScaler\n",
    "# from sklearn.pipeline import Pipeline\n",
    "# cluster_pipeline = Pipeline([('scaler', StandardScaler()), ('kmeans', KMeans(n_clusters=10, n_jobs=-1))])\n",
    "# X = data_by_artist.select_dtypes(np.number)\n",
    "# cluster_pipeline.fit(X)\n",
    "# data_by_artist['cluster'] = cluster_pipeline.predict(X)"
   ]
  },
  {
   "cell_type": "code",
   "execution_count": 45,
   "metadata": {},
   "outputs": [],
   "source": [
    "# from sklearn.manifold import TSNE\n",
    "# import plotly.express as px\n",
    "# tsne_pipeline = Pipeline([('scaler', StandardScaler()), ('tsne', TSNE(n_components=2, verbose=2))])\n",
    "# genre_embedding = tsne_pipeline.fit_transform(X)\n",
    "# projection = pd.DataFrame(columns=['x', 'y'], data=genre_embedding)\n",
    "# projection['popularity'] = data_by_artist['popularity']\n",
    "# projection['cluster'] = data_by_artist['cluster']\n",
    "# fig = px.scatter(\n",
    "#     projection, x='x', y='y', color='cluster', hover_data=['x', 'y', 'popularity'])\n",
    "# fig.show()"
   ]
  },
  {
   "cell_type": "markdown",
   "metadata": {},
   "source": [
    "# Neural Nets"
   ]
  },
  {
   "cell_type": "code",
   "execution_count": 70,
   "metadata": {},
   "outputs": [],
   "source": [
    "import pandas as pd\n",
    "import numpy as np\n",
    "import matplotlib.pyplot as plt\n",
    "%matplotlib inline\n",
    "import keras\n",
    "from keras.models import Sequential\n",
    "from keras.layers import Dense\n",
    "from sklearn.preprocessing import StandardScaler, LabelBinarizer"
   ]
  },
  {
   "cell_type": "code",
   "execution_count": 63,
   "metadata": {},
   "outputs": [
    {
     "name": "stdout",
     "output_type": "stream",
     "text": [
      "<class 'pandas.core.frame.DataFrame'>\n",
      "Int64Index: 34739 entries, 0 to 34739\n",
      "Data columns (total 17 columns):\n",
      " #   Column            Non-Null Count  Dtype  \n",
      "---  ------            --------------  -----  \n",
      " 0   track_title       34739 non-null  object \n",
      " 1   artist_name       34739 non-null  object \n",
      " 2   track_id          34739 non-null  object \n",
      " 3   duration_ms       34739 non-null  int64  \n",
      " 4   energy            34739 non-null  float64\n",
      " 5   key               34739 non-null  int64  \n",
      " 6   mode              34739 non-null  int64  \n",
      " 7   time_signature    34739 non-null  int64  \n",
      " 8   acousticness      34739 non-null  float64\n",
      " 9   danceability      34739 non-null  float64\n",
      " 10  instrumentalness  34739 non-null  float64\n",
      " 11  liveness          34739 non-null  float64\n",
      " 12  loudness          34739 non-null  float64\n",
      " 13  speechiness       34739 non-null  float64\n",
      " 14  valence           34739 non-null  float64\n",
      " 15  tempo             34739 non-null  float64\n",
      " 16  On_chart          34739 non-null  int64  \n",
      "dtypes: float64(9), int64(5), object(3)\n",
      "memory usage: 4.8+ MB\n"
     ]
    }
   ],
   "source": [
    "df.info()"
   ]
  },
  {
   "cell_type": "code",
   "execution_count": 67,
   "metadata": {},
   "outputs": [
    {
     "data": {
      "text/html": [
       "<div>\n",
       "<style scoped>\n",
       "    .dataframe tbody tr th:only-of-type {\n",
       "        vertical-align: middle;\n",
       "    }\n",
       "\n",
       "    .dataframe tbody tr th {\n",
       "        vertical-align: top;\n",
       "    }\n",
       "\n",
       "    .dataframe thead th {\n",
       "        text-align: right;\n",
       "    }\n",
       "</style>\n",
       "<table border=\"1\" class=\"dataframe\">\n",
       "  <thead>\n",
       "    <tr style=\"text-align: right;\">\n",
       "      <th></th>\n",
       "      <th>duration_ms</th>\n",
       "      <th>energy</th>\n",
       "      <th>key</th>\n",
       "      <th>mode</th>\n",
       "      <th>time_signature</th>\n",
       "      <th>acousticness</th>\n",
       "      <th>danceability</th>\n",
       "      <th>instrumentalness</th>\n",
       "      <th>liveness</th>\n",
       "      <th>loudness</th>\n",
       "      <th>speechiness</th>\n",
       "      <th>valence</th>\n",
       "      <th>tempo</th>\n",
       "      <th>On_chart</th>\n",
       "    </tr>\n",
       "  </thead>\n",
       "  <tbody>\n",
       "    <tr>\n",
       "      <th>0</th>\n",
       "      <td>256080</td>\n",
       "      <td>0.96800</td>\n",
       "      <td>7</td>\n",
       "      <td>0</td>\n",
       "      <td>4</td>\n",
       "      <td>0.02150</td>\n",
       "      <td>0.698</td>\n",
       "      <td>0.862000</td>\n",
       "      <td>0.1110</td>\n",
       "      <td>-11.012</td>\n",
       "      <td>0.0337</td>\n",
       "      <td>0.3900</td>\n",
       "      <td>136.884</td>\n",
       "      <td>0</td>\n",
       "    </tr>\n",
       "    <tr>\n",
       "      <th>1</th>\n",
       "      <td>395442</td>\n",
       "      <td>0.97000</td>\n",
       "      <td>2</td>\n",
       "      <td>1</td>\n",
       "      <td>4</td>\n",
       "      <td>0.00339</td>\n",
       "      <td>0.724</td>\n",
       "      <td>0.896000</td>\n",
       "      <td>0.1060</td>\n",
       "      <td>-8.415</td>\n",
       "      <td>0.0358</td>\n",
       "      <td>0.4320</td>\n",
       "      <td>136.868</td>\n",
       "      <td>0</td>\n",
       "    </tr>\n",
       "    <tr>\n",
       "      <th>2</th>\n",
       "      <td>391680</td>\n",
       "      <td>0.40600</td>\n",
       "      <td>5</td>\n",
       "      <td>0</td>\n",
       "      <td>4</td>\n",
       "      <td>0.00433</td>\n",
       "      <td>0.803</td>\n",
       "      <td>0.825000</td>\n",
       "      <td>0.0948</td>\n",
       "      <td>-9.444</td>\n",
       "      <td>0.0608</td>\n",
       "      <td>0.0769</td>\n",
       "      <td>125.014</td>\n",
       "      <td>0</td>\n",
       "    </tr>\n",
       "    <tr>\n",
       "      <th>3</th>\n",
       "      <td>347840</td>\n",
       "      <td>0.00267</td>\n",
       "      <td>7</td>\n",
       "      <td>0</td>\n",
       "      <td>5</td>\n",
       "      <td>0.91000</td>\n",
       "      <td>0.150</td>\n",
       "      <td>0.028700</td>\n",
       "      <td>0.1250</td>\n",
       "      <td>-24.701</td>\n",
       "      <td>0.0434</td>\n",
       "      <td>0.1050</td>\n",
       "      <td>135.652</td>\n",
       "      <td>0</td>\n",
       "    </tr>\n",
       "    <tr>\n",
       "      <th>4</th>\n",
       "      <td>181733</td>\n",
       "      <td>0.22600</td>\n",
       "      <td>7</td>\n",
       "      <td>1</td>\n",
       "      <td>4</td>\n",
       "      <td>0.76800</td>\n",
       "      <td>0.290</td>\n",
       "      <td>0.000002</td>\n",
       "      <td>0.1050</td>\n",
       "      <td>-14.990</td>\n",
       "      <td>0.0385</td>\n",
       "      <td>0.4700</td>\n",
       "      <td>98.348</td>\n",
       "      <td>0</td>\n",
       "    </tr>\n",
       "  </tbody>\n",
       "</table>\n",
       "</div>"
      ],
      "text/plain": [
       "   duration_ms   energy  key  mode  time_signature  acousticness  \\\n",
       "0       256080  0.96800    7     0               4       0.02150   \n",
       "1       395442  0.97000    2     1               4       0.00339   \n",
       "2       391680  0.40600    5     0               4       0.00433   \n",
       "3       347840  0.00267    7     0               5       0.91000   \n",
       "4       181733  0.22600    7     1               4       0.76800   \n",
       "\n",
       "   danceability  instrumentalness  liveness  loudness  speechiness  valence  \\\n",
       "0         0.698          0.862000    0.1110   -11.012       0.0337   0.3900   \n",
       "1         0.724          0.896000    0.1060    -8.415       0.0358   0.4320   \n",
       "2         0.803          0.825000    0.0948    -9.444       0.0608   0.0769   \n",
       "3         0.150          0.028700    0.1250   -24.701       0.0434   0.1050   \n",
       "4         0.290          0.000002    0.1050   -14.990       0.0385   0.4700   \n",
       "\n",
       "     tempo  On_chart  \n",
       "0  136.884         0  \n",
       "1  136.868         0  \n",
       "2  125.014         0  \n",
       "3  135.652         0  \n",
       "4   98.348         0  "
      ]
     },
     "execution_count": 67,
     "metadata": {},
     "output_type": "execute_result"
    }
   ],
   "source": [
    "clean_df = df.drop(['track_title', 'artist_name', 'track_id'], axis=1)\n",
    "clean_df.head()"
   ]
  },
  {
   "cell_type": "code",
   "execution_count": 68,
   "metadata": {},
   "outputs": [
    {
     "name": "stdout",
     "output_type": "stream",
     "text": [
      "<class 'pandas.core.frame.DataFrame'>\n",
      "Int64Index: 34739 entries, 0 to 34739\n",
      "Data columns (total 14 columns):\n",
      " #   Column            Non-Null Count  Dtype  \n",
      "---  ------            --------------  -----  \n",
      " 0   duration_ms       34739 non-null  int64  \n",
      " 1   energy            34739 non-null  float64\n",
      " 2   key               34739 non-null  int64  \n",
      " 3   mode              34739 non-null  int64  \n",
      " 4   time_signature    34739 non-null  int64  \n",
      " 5   acousticness      34739 non-null  float64\n",
      " 6   danceability      34739 non-null  float64\n",
      " 7   instrumentalness  34739 non-null  float64\n",
      " 8   liveness          34739 non-null  float64\n",
      " 9   loudness          34739 non-null  float64\n",
      " 10  speechiness       34739 non-null  float64\n",
      " 11  valence           34739 non-null  float64\n",
      " 12  tempo             34739 non-null  float64\n",
      " 13  On_chart          34739 non-null  int64  \n",
      "dtypes: float64(9), int64(5)\n",
      "memory usage: 5.2 MB\n"
     ]
    }
   ],
   "source": [
    "clean_df.info()"
   ]
  },
  {
   "cell_type": "code",
   "execution_count": 82,
   "metadata": {},
   "outputs": [],
   "source": [
    "from sklearn.model_selection import train_test_split\n",
    "X = clean_df.drop('On_chart', axis=1)\n",
    "y = clean_df['On_chart']\n",
    "X_train, X_test, y_train, y_test = train_test_split(X,y)"
   ]
  },
  {
   "cell_type": "code",
   "execution_count": 83,
   "metadata": {},
   "outputs": [],
   "source": [
    "scaler = StandardScaler()"
   ]
  },
  {
   "cell_type": "code",
   "execution_count": 84,
   "metadata": {},
   "outputs": [],
   "source": [
    "scaled_data = scaler.fit_transform(X_train, y_train)"
   ]
  },
  {
   "cell_type": "code",
   "execution_count": 92,
   "metadata": {},
   "outputs": [],
   "source": [
    "model_1 = Sequential()\n",
    "model_1.add(Dense(5, activation='tanh', input_shape=(13,)))\n",
    "model_1.add(Dense(1, activation='sigmoid'))"
   ]
  },
  {
   "cell_type": "code",
   "execution_count": 93,
   "metadata": {},
   "outputs": [],
   "source": [
    "model_1.compile(loss='binary_crossentropy', optimizer='sgd', metrics=['acc'])"
   ]
  },
  {
   "cell_type": "code",
   "execution_count": 97,
   "metadata": {},
   "outputs": [
    {
     "name": "stdout",
     "output_type": "stream",
     "text": [
      "Epoch 1/25\n",
      "20843/20843 [==============================] - 14s 655us/step - loss: 0.4807 - acc: 0.7685 - val_loss: 0.4675 - val_acc: 0.77978 - acc: 0.\n",
      "Epoch 2/25\n",
      "20843/20843 [==============================] - 14s 690us/step - loss: 0.4566 - acc: 0.7856 - val_loss: 0.4605 - val_acc: 0.78167 - ETA - ETA: 0s - loss: 0.4561 - \n",
      "Epoch 3/25\n",
      "20843/20843 [==============================] - 13s 637us/step - loss: 0.4483 - acc: 0.7887 - val_loss: 0.4556 - val_acc: 0.7858loss: 0.4474 - acc: 0.786 - ETA: 5s - loss - ETA: 0s - loss: 0.4487 - acc\n",
      "Epoch 4/25\n",
      "20843/20843 [==============================] - 15s 700us/step - loss: 0.4460 - acc: 0.7932 - val_loss: 0.4587 - val_acc: 0.7818\n",
      "Epoch 5/25\n",
      "20843/20843 [==============================] - 14s 659us/step - loss: 0.4441 - acc: 0.7906 - val_loss: 0.4543 - val_acc: 0.7835\n",
      "Epoch 6/25\n",
      "20843/20843 [==============================] - 14s 690us/step - loss: 0.4433 - acc: 0.7910 - val_loss: 0.4545 - val_acc: 0.7837- loss - ETA: 1s - loss: 0.4429 -  - ETA: 0s - loss: 0.4427 - \n",
      "Epoch 7/25\n",
      "20843/20843 [==============================] - 14s 663us/step - loss: 0.4428 - acc: 0.7931 - val_loss: 0.4513 - val_acc: 0.7837s - loss: 0.4522 - acc: 0. - ETA: 7s - loss: 0.4 - ETA - ETA: 5s - loss: 0.4419 - acc: 0 - ETA: 5s - loss: 0.4410 - acc: 0.79 - ETA: 4s - loss: 0.4406 -  - ETA: 4s - loss: 0.4403 - acc: 0.79 - ETA: 4s - loss: 0.4402 - acc: 0.794 -  - ETA: 2s - loss: 0.4406 -  -\n",
      "Epoch 8/25\n",
      "20843/20843 [==============================] - 14s 676us/step - loss: 0.4410 - acc: 0.7919 - val_loss: 0.4545 - val_acc: 0.7828 5s - loss: 0.4470 - ac - ETA: 4s - loss: 0.4466 - acc:  - ETA: 4s - loss: 0.4460 - ETA: 1s - loss: 0.444 - ETA: 1s - loss: 0.4437 - acc:  - ETA: 0s - loss: 0.4435 - - ETA: 0s - loss: 0.4421 - acc: \n",
      "Epoch 9/25\n",
      "20843/20843 [==============================] - 14s 668us/step - loss: 0.4398 - acc: 0.7930 - val_loss: 0.4520 - val_acc: 0.7833\n",
      "Epoch 10/25\n",
      "20843/20843 [==============================] - 14s 649us/step - loss: 0.4399 - acc: 0.7915 - val_loss: 0.4489 - val_acc: 0.7856\n",
      "Epoch 11/25\n",
      "20843/20843 [==============================] - 14s 653us/step - loss: 0.4389 - acc: 0.7924 - val_loss: 0.4456 - val_acc: 0.7835oss:\n",
      "Epoch 12/25\n",
      "20843/20843 [==============================] - 14s 653us/step - loss: 0.4390 - acc: 0.7914 - val_loss: 0.4456 - val_acc: 0.7858ETA: 8s - loss - ETA: 3s - los\n",
      "Epoch 13/25\n",
      "20843/20843 [==============================] - 13s 648us/step - loss: 0.4385 - acc: 0.7903 - val_loss: 0.4494 - val_acc: 0.7830s - loss: 0.4361 -  - ETA: 5s - loss: 0.4342 - acc: 0 - ETA: 4s - loss: \n",
      "Epoch 14/25\n",
      "20843/20843 [==============================] - 14s 652us/step - loss: 0.4374 - acc: 0.7937 - val_loss: 0.4509 - val_acc: 0.7784 - ETA: 1s \n",
      "Epoch 15/25\n",
      "20843/20843 [==============================] - 14s 654us/step - loss: 0.4384 - acc: 0.7904 - val_loss: 0.4491 - val_acc: 0.7818 0.4369 - acc: 0 - ETA: 2s - loss: 0.43 - ETA\n",
      "Epoch 16/25\n",
      "20843/20843 [==============================] - 14s 652us/step - loss: 0.4377 - acc: 0.7913 - val_loss: 0.4488 - val_acc: 0.7828\n",
      "Epoch 17/25\n",
      "20843/20843 [==============================] - 14s 653us/step - loss: 0.4376 - acc: 0.7899 - val_loss: 0.4457 - val_acc: 0.7864\n",
      "Epoch 18/25\n",
      "20843/20843 [==============================] - 14s 677us/step - loss: 0.4385 - acc: 0.7901 - val_loss: 0.4459 - val_acc: 0.7820\n",
      "Epoch 19/25\n",
      "20843/20843 [==============================] - 13s 642us/step - loss: 0.4372 - acc: 0.7933 - val_loss: 0.4477 - val_acc: 0.7824cc:  - ETA: 0s - loss: 0\n",
      "Epoch 20/25\n",
      "20843/20843 [==============================] - 14s 650us/step - loss: 0.4378 - acc: 0.7925 - val_loss: 0.4526 - val_acc: 0.7762- ETA: 3s - loss - E - ETA: 1s - loss: 0.4372 - a - ETA: 0s - loss: 0.4372 - \n",
      "Epoch 21/25\n",
      "20843/20843 [==============================] - 14s 652us/step - loss: 0.4369 - acc: 0.7934 - val_loss: 0.4471 - val_acc: 0.7826\n",
      "Epoch 22/25\n",
      "20843/20843 [==============================] - 14s 653us/step - loss: 0.4368 - acc: 0.7903 - val_loss: 0.4454 - val_acc: 0.7824\n",
      "Epoch 23/25\n",
      "20843/20843 [==============================] - 14s 650us/step - loss: 0.4372 - acc: 0.7933 - val_loss: 0.4503 - val_acc: 0.7826\n",
      "Epoch 24/25\n",
      "20843/20843 [==============================] - 14s 658us/step - loss: 0.4370 - acc: 0.7906 - val_loss: 0.4459 - val_acc: 0.7839- ETA: 9s - loss: 0.4284 - acc: 0.7 - ETA: 9s - loss:  - ETA: 6s - loss: 0.4296 -  - ETA: 5s - l - ETA: 4s - ETA: 3s - loss:  - ETA: 2s - - ETA: 0s - loss: 0.4371 - ac - ETA: 0s - loss: 0.4376 - acc: \n",
      "Epoch 25/25\n",
      "20843/20843 [==============================] - 14s 659us/step - loss: 0.4366 - acc: 0.7925 - val_loss: 0.4456 - val_acc: 0.7849s - loss: 0.4389 - ac \n"
     ]
    }
   ],
   "source": [
    "results_1 = model_1.fit(scaled_data, y_train, epochs=25, batch_size=1, validation_split=0.2)"
   ]
  },
  {
   "cell_type": "code",
   "execution_count": 95,
   "metadata": {},
   "outputs": [],
   "source": [
    "def visualize_training_results(results):\n",
    "    history = results.history\n",
    "    plt.figure()\n",
    "    plt.plot(history['val_loss'])\n",
    "    plt.plot(history['loss'])\n",
    "    plt.legend(['val_loss', 'loss'])\n",
    "    plt.title('Loss')\n",
    "    plt.xlabel('Epochs')\n",
    "    plt.ylabel('Loss')\n",
    "    plt.show()\n",
    "    \n",
    "    plt.figure()\n",
    "    plt.plot(history['val_acc'])\n",
    "    plt.plot(history['acc'])\n",
    "    plt.legend(['val_acc', 'acc'])\n",
    "    plt.title('Accuracy')\n",
    "    plt.xlabel('Epochs')\n",
    "    plt.ylabel('Accuracy')\n",
    "    plt.show()"
   ]
  },
  {
   "cell_type": "code",
   "execution_count": 98,
   "metadata": {},
   "outputs": [
    {
     "data": {
      "image/png": "[encoded data removed]",
      "text/plain": [
       "<Figure size 432x288 with 1 Axes>"
      ]
     },
     "metadata": {
      "needs_background": "light"
     },
     "output_type": "display_data"
    },
    {
     "data": {
      "image/png": "[encoded data removed]",
      "text/plain": [
       "<Figure size 432x288 with 1 Axes>"
      ]
     },
     "metadata": {
      "needs_background": "light"
     },
     "output_type": "display_data"
    }
   ],
   "source": [
    "visualize_training_results(results_1)"
   ]
  },
  {
   "cell_type": "code",
   "execution_count": 102,
   "metadata": {},
   "outputs": [],
   "source": [
    "model_2 = Sequential()\n",
    "model_2.add(Dense(10, activation='tanh', input_shape=(13,)))\n",
    "model_2.add(Dense(5, activation='tanh'))\n",
    "model_2.add(Dense(1, activation='sigmoid'))"
   ]
  },
  {
   "cell_type": "code",
   "execution_count": 103,
   "metadata": {},
   "outputs": [],
   "source": [
    "model_2.compile(loss='binary_crossentropy', optimizer='sgd', metrics=['acc'])"
   ]
  },
  {
   "cell_type": "code",
   "execution_count": 104,
   "metadata": {},
   "outputs": [
    {
     "name": "stdout",
     "output_type": "stream",
     "text": [
      "Epoch 1/25\n",
      "20843/20843 [==============================] - 14s 665us/step - loss: 0.4692 - acc: 0.7773 - val_loss: 0.4535 - val_acc: 0.7879\n",
      "Epoch 2/25\n",
      "20843/20843 [==============================] - 15s 711us/step - loss: 0.4441 - acc: 0.7919 - val_loss: 0.4409 - val_acc: 0.7903\n",
      "Epoch 3/25\n",
      "20843/20843 [==============================] - 14s 659us/step - loss: 0.4391 - acc: 0.7899 - val_loss: 0.4413 - val_acc: 0.7918\n",
      "Epoch 4/25\n",
      "20843/20843 [==============================] - 14s 667us/step - loss: 0.4357 - acc: 0.7936 - val_loss: 0.4432 - val_acc: 0.7845lo\n",
      "Epoch 5/25\n",
      "20843/20843 [==============================] - 14s 663us/step - loss: 0.4336 - acc: 0.7944 - val_loss: 0.4440 - val_acc: 0.7874A: 4s - loss: 0.4339 - acc:  - ETA: 2s - los - ETA: 0s - loss: 0.\n",
      "Epoch 6/25\n",
      "20843/20843 [==============================] - 14s 669us/step - loss: 0.4325 - acc: 0.7933 - val_loss: 0.4461 - val_acc: 0.7870oss: 0.4310 - a - ETA: 3s  - ETA: 1s - loss: 0.4320  - ETA: 1s - loss: 0.4314 - acc: 0 - ETA: 1s - loss:\n",
      "Epoch 7/25\n",
      "20843/20843 [==============================] - 14s 666us/step - loss: 0.4318 - acc: 0.7960 - val_loss: 0.4360 - val_acc: 0.7881\n",
      "Epoch 8/25\n",
      "20843/20843 [==============================] - 14s 668us/step - loss: 0.4302 - acc: 0.7943 - val_loss: 0.4357 - val_acc: 0.7897ETA: 7s - los - ETA: 2s - los - ETA: 1s - loss: 0.4301 - acc - ETA: 0s - loss: 0\n",
      "Epoch 9/25\n",
      "20843/20843 [==============================] - 14s 675us/step - loss: 0.4287 - acc: 0.7960 - val_loss: 0.4372 - val_acc: 0.7887\n",
      "Epoch 10/25\n",
      "20843/20843 [==============================] - 14s 671us/step - loss: 0.4276 - acc: 0.7977 - val_loss: 0.4334 - val_acc: 0.7908loss: 0.4256 - acc: 0. - ETA\n",
      "Epoch 11/25\n",
      "20843/20843 [==============================] - 14s 665us/step - loss: 0.4261 - acc: 0.7969 - val_loss: 0.4356 - val_acc: 0.7937\n",
      "Epoch 12/25\n",
      "20843/20843 [==============================] - 14s 686us/step - loss: 0.4261 - acc: 0.7977 - val_loss: 0.4335 - val_acc: 0.7920ETA: 1s - loss: 0.4252 - acc - ETA: 1s - lo\n",
      "Epoch 13/25\n",
      "20843/20843 [==============================] - 14s 680us/step - loss: 0.4252 - acc: 0.7977 - val_loss: 0.4321 - val_acc: 0.7904loss: 0.4236 - acc: - ETA: 1s - los - ETA: 0s - loss: 0.4242\n",
      "Epoch 14/25\n",
      "20843/20843 [==============================] - 14s 669us/step - loss: 0.4251 - acc: 0.7981 - val_loss: 0.4315 - val_acc: 0.7927 loss: 0.4284 - acc - ETA: 4s - loss: 0.4287 - acc: 0.7 - ETA: 3 - ETA: 2s - loss: 0.4252 - acc: 0.79 - ETA: 2s - loss: 0.4252 -  - \n",
      "Epoch 15/25\n",
      "20843/20843 [==============================] - 14s 679us/step - loss: 0.4241 - acc: 0.8019 - val_loss: 0.4494 - val_acc: 0.78552s - loss: 0 - ETA: 1s - loss: - ETA: 0s - loss: \n",
      "Epoch 16/25\n",
      "20843/20843 [==============================] - 14s 679us/step - loss: 0.4232 - acc: 0.7999 - val_loss: 0.4352 - val_acc: 0.79031 - ETA: 3s -\n",
      "Epoch 17/25\n",
      "20843/20843 [==============================] - 14s 675us/step - loss: 0.4237 - acc: 0.7984 - val_loss: 0.4338 - val_acc: 0.7943A: 1s -\n",
      "Epoch 18/25\n",
      "20843/20843 [==============================] - 14s 679us/step - loss: 0.4220 - acc: 0.8012 - val_loss: 0.4502 - val_acc: 0.7837\n",
      "Epoch 19/25\n",
      "20843/20843 [==============================] - 15s 702us/step - loss: 0.4225 - acc: 0.8001 - val_loss: 0.4315 - val_acc: 0.7972\n",
      "Epoch 20/25\n",
      "20843/20843 [==============================] - 17s 807us/step - loss: 0.4218 - acc: 0.8009 - val_loss: 0.4340 - val_acc: 0.7922\n",
      "Epoch 21/25\n",
      "20843/20843 [==============================] - 17s 804us/step - loss: 0.4215 - acc: 0.8003 - val_loss: 0.4308 - val_acc: 0.7950: 0.4215 -  - ETA: 1s - lo - ETA: 0s - loss: 0.4215 - acc: 0.80 - ETA: 0s - loss: 0.4214 - acc: 0.80\n",
      "Epoch 22/25\n",
      "20843/20843 [==============================] - 14s 680us/step - loss: 0.4217 - acc: 0.8031 - val_loss: 0.4314 - val_acc: 0.7937 1s - loss: 0.4196  - ETA: 0s - loss: 0.4202\n",
      "Epoch 23/25\n",
      "20843/20843 [==============================] - 14s 689us/step - loss: 0.4203 - acc: 0.8025 - val_loss: 0.4441 - val_acc: 0.787280 - ETA: 3s  - E - ETA: 0s - loss: 0.4206 - acc: 0.80\n",
      "Epoch 24/25\n",
      "20843/20843 [==============================] - 14s 683us/step - loss: 0.4209 - acc: 0.8004 - val_loss: 0.4421 - val_acc: 0.7876ss: 0.4202 - acc\n",
      "Epoch 25/25\n",
      "20843/20843 [==============================] - 15s 706us/step - loss: 0.4203 - acc: 0.8024 - val_loss: 0.4332 - val_acc: 0.7931 loss: 0.4191 -  - ETA: 9s - lo - ETA: 7s - l - ETA: 6s - loss: 0.416 -\n"
     ]
    }
   ],
   "source": [
    "results_2 = model_2.fit(scaled_data, y_train, epochs=25, batch_size=1, validation_split=0.2)"
   ]
  },
  {
   "cell_type": "code",
   "execution_count": 105,
   "metadata": {},
   "outputs": [
    {
     "data": {
      "image/png": "[encoded data removed]",
      "text/plain": [
       "<Figure size 432x288 with 1 Axes>"
      ]
     },
     "metadata": {
      "needs_background": "light"
     },
     "output_type": "display_data"
    },
    {
     "data": {
      "image/png": "[encoded data removed]",
      "text/plain": [
       "<Figure size 432x288 with 1 Axes>"
      ]
     },
     "metadata": {
      "needs_background": "light"
     },
     "output_type": "display_data"
    }
   ],
   "source": [
    "visualize_training_results(results_2)"
   ]
  },
  {
   "cell_type": "markdown",
   "metadata": {},
   "source": [
    "# K Means Clustering"
   ]
  },
  {
   "cell_type": "code",
   "execution_count": 106,
   "metadata": {},
   "outputs": [
    {
     "name": "stdout",
     "output_type": "stream",
     "text": [
      "<class 'pandas.core.frame.DataFrame'>\n",
      "RangeIndex: 28680 entries, 0 to 28679\n",
      "Data columns (total 16 columns):\n",
      " #   Column            Non-Null Count  Dtype  \n",
      "---  ------            --------------  -----  \n",
      " 0   genres            28680 non-null  object \n",
      " 1   artists           28680 non-null  object \n",
      " 2   acousticness      28680 non-null  float64\n",
      " 3   danceability      28680 non-null  float64\n",
      " 4   duration_ms       28680 non-null  float64\n",
      " 5   energy            28680 non-null  float64\n",
      " 6   instrumentalness  28680 non-null  float64\n",
      " 7   liveness          28680 non-null  float64\n",
      " 8   loudness          28680 non-null  float64\n",
      " 9   speechiness       28680 non-null  float64\n",
      " 10  tempo             28680 non-null  float64\n",
      " 11  valence           28680 non-null  float64\n",
      " 12  popularity        28680 non-null  float64\n",
      " 13  key               28680 non-null  int64  \n",
      " 14  mode              28680 non-null  int64  \n",
      " 15  count             28680 non-null  int64  \n",
      "dtypes: float64(11), int64(3), object(2)\n",
      "memory usage: 3.5+ MB\n"
     ]
    }
   ],
   "source": [
    "data_by_artist.info()"
   ]
  },
  {
   "cell_type": "code",
   "execution_count": 108,
   "metadata": {},
   "outputs": [
    {
     "name": "stdout",
     "output_type": "stream",
     "text": [
      "<class 'pandas.core.frame.DataFrame'>\n",
      "RangeIndex: 28680 entries, 0 to 28679\n",
      "Data columns (total 14 columns):\n",
      " #   Column            Non-Null Count  Dtype  \n",
      "---  ------            --------------  -----  \n",
      " 0   acousticness      28680 non-null  float64\n",
      " 1   danceability      28680 non-null  float64\n",
      " 2   duration_ms       28680 non-null  float64\n",
      " 3   energy            28680 non-null  float64\n",
      " 4   instrumentalness  28680 non-null  float64\n",
      " 5   liveness          28680 non-null  float64\n",
      " 6   loudness          28680 non-null  float64\n",
      " 7   speechiness       28680 non-null  float64\n",
      " 8   tempo             28680 non-null  float64\n",
      " 9   valence           28680 non-null  float64\n",
      " 10  popularity        28680 non-null  float64\n",
      " 11  key               28680 non-null  int64  \n",
      " 12  mode              28680 non-null  int64  \n",
      " 13  count             28680 non-null  int64  \n",
      "dtypes: float64(11), int64(3)\n",
      "memory usage: 3.1 MB\n"
     ]
    }
   ],
   "source": [
    "dropped_dba = data_by_artist.drop(['genres', 'artists'], axis=1)\n",
    "dropped_dba.info()"
   ]
  },
  {
   "cell_type": "code",
   "execution_count": 112,
   "metadata": {},
   "outputs": [
    {
     "data": {
      "text/html": [
       "<div>\n",
       "<style scoped>\n",
       "    .dataframe tbody tr th:only-of-type {\n",
       "        vertical-align: middle;\n",
       "    }\n",
       "\n",
       "    .dataframe tbody tr th {\n",
       "        vertical-align: top;\n",
       "    }\n",
       "\n",
       "    .dataframe thead th {\n",
       "        text-align: right;\n",
       "    }\n",
       "</style>\n",
       "<table border=\"1\" class=\"dataframe\">\n",
       "  <thead>\n",
       "    <tr style=\"text-align: right;\">\n",
       "      <th></th>\n",
       "      <th>acousticness</th>\n",
       "      <th>danceability</th>\n",
       "      <th>duration_ms</th>\n",
       "      <th>energy</th>\n",
       "      <th>instrumentalness</th>\n",
       "      <th>liveness</th>\n",
       "      <th>loudness</th>\n",
       "      <th>speechiness</th>\n",
       "      <th>tempo</th>\n",
       "      <th>valence</th>\n",
       "      <th>popularity</th>\n",
       "      <th>key</th>\n",
       "      <th>mode</th>\n",
       "      <th>count</th>\n",
       "    </tr>\n",
       "  </thead>\n",
       "  <tbody>\n",
       "    <tr>\n",
       "      <th>0</th>\n",
       "      <td>0.590111</td>\n",
       "      <td>0.467222</td>\n",
       "      <td>250318.555556</td>\n",
       "      <td>0.394003</td>\n",
       "      <td>0.011400</td>\n",
       "      <td>0.290833</td>\n",
       "      <td>-14.448000</td>\n",
       "      <td>0.210389</td>\n",
       "      <td>117.518111</td>\n",
       "      <td>0.389500</td>\n",
       "      <td>38.333333</td>\n",
       "      <td>5</td>\n",
       "      <td>1</td>\n",
       "      <td>9</td>\n",
       "    </tr>\n",
       "    <tr>\n",
       "      <th>1</th>\n",
       "      <td>0.862538</td>\n",
       "      <td>0.441731</td>\n",
       "      <td>287280.000000</td>\n",
       "      <td>0.406808</td>\n",
       "      <td>0.081158</td>\n",
       "      <td>0.315215</td>\n",
       "      <td>-10.690000</td>\n",
       "      <td>0.176212</td>\n",
       "      <td>103.044154</td>\n",
       "      <td>0.268865</td>\n",
       "      <td>30.576923</td>\n",
       "      <td>5</td>\n",
       "      <td>1</td>\n",
       "      <td>26</td>\n",
       "    </tr>\n",
       "    <tr>\n",
       "      <th>2</th>\n",
       "      <td>0.856571</td>\n",
       "      <td>0.348286</td>\n",
       "      <td>328920.000000</td>\n",
       "      <td>0.286571</td>\n",
       "      <td>0.024593</td>\n",
       "      <td>0.325786</td>\n",
       "      <td>-15.230714</td>\n",
       "      <td>0.118514</td>\n",
       "      <td>77.375857</td>\n",
       "      <td>0.354857</td>\n",
       "      <td>34.857143</td>\n",
       "      <td>0</td>\n",
       "      <td>1</td>\n",
       "      <td>7</td>\n",
       "    </tr>\n",
       "    <tr>\n",
       "      <th>3</th>\n",
       "      <td>0.884926</td>\n",
       "      <td>0.425074</td>\n",
       "      <td>262890.962963</td>\n",
       "      <td>0.245770</td>\n",
       "      <td>0.073587</td>\n",
       "      <td>0.275481</td>\n",
       "      <td>-15.639370</td>\n",
       "      <td>0.123200</td>\n",
       "      <td>88.667630</td>\n",
       "      <td>0.372030</td>\n",
       "      <td>34.851852</td>\n",
       "      <td>0</td>\n",
       "      <td>1</td>\n",
       "      <td>27</td>\n",
       "    </tr>\n",
       "    <tr>\n",
       "      <th>4</th>\n",
       "      <td>0.510714</td>\n",
       "      <td>0.467143</td>\n",
       "      <td>270436.142857</td>\n",
       "      <td>0.488286</td>\n",
       "      <td>0.009400</td>\n",
       "      <td>0.195000</td>\n",
       "      <td>-10.236714</td>\n",
       "      <td>0.098543</td>\n",
       "      <td>122.835857</td>\n",
       "      <td>0.482286</td>\n",
       "      <td>43.000000</td>\n",
       "      <td>5</td>\n",
       "      <td>1</td>\n",
       "      <td>7</td>\n",
       "    </tr>\n",
       "  </tbody>\n",
       "</table>\n",
       "</div>"
      ],
      "text/plain": [
       "   acousticness  danceability    duration_ms    energy  instrumentalness  \\\n",
       "0      0.590111      0.467222  250318.555556  0.394003          0.011400   \n",
       "1      0.862538      0.441731  287280.000000  0.406808          0.081158   \n",
       "2      0.856571      0.348286  328920.000000  0.286571          0.024593   \n",
       "3      0.884926      0.425074  262890.962963  0.245770          0.073587   \n",
       "4      0.510714      0.467143  270436.142857  0.488286          0.009400   \n",
       "\n",
       "   liveness   loudness  speechiness       tempo   valence  popularity  key  \\\n",
       "0  0.290833 -14.448000     0.210389  117.518111  0.389500   38.333333    5   \n",
       "1  0.315215 -10.690000     0.176212  103.044154  0.268865   30.576923    5   \n",
       "2  0.325786 -15.230714     0.118514   77.375857  0.354857   34.857143    0   \n",
       "3  0.275481 -15.639370     0.123200   88.667630  0.372030   34.851852    0   \n",
       "4  0.195000 -10.236714     0.098543  122.835857  0.482286   43.000000    5   \n",
       "\n",
       "   mode  count  \n",
       "0     1      9  \n",
       "1     1     26  \n",
       "2     1      7  \n",
       "3     1     27  \n",
       "4     1      7  "
      ]
     },
     "execution_count": 112,
     "metadata": {},
     "output_type": "execute_result"
    }
   ],
   "source": [
    "dropped_dba.head()"
   ]
  },
  {
   "cell_type": "code",
   "execution_count": 109,
   "metadata": {},
   "outputs": [],
   "source": [
    "from sklearn.cluster import KMeans\n",
    "k_means = KMeans(n_clusters=3) \n",
    "k_means.fit(dropped_dba) \n",
    "cluster_assignments = k_means.predict(dropped_dba) "
   ]
  },
  {
   "cell_type": "code",
   "execution_count": 110,
   "metadata": {},
   "outputs": [
    {
     "name": "stdout",
     "output_type": "stream",
     "text": [
      "25220.277943264737\n"
     ]
    }
   ],
   "source": [
    "from sklearn.metrics import calinski_harabasz_score\n",
    "print(calinski_harabasz_score(dropped_dba, cluster_assignments))"
   ]
  },
  {
   "cell_type": "code",
   "execution_count": 114,
   "metadata": {},
   "outputs": [],
   "source": [
    "k_means_3 = KMeans(n_clusters=3).fit(dropped_dba)\n",
    "k_means_4 = KMeans(n_clusters=4).fit(dropped_dba)\n",
    "k_means_5 = KMeans(n_clusters=5).fit(dropped_dba)\n",
    "k_means_6 = KMeans(n_clusters=6).fit(dropped_dba)\n",
    "k_means_7 = KMeans(n_clusters=7).fit(dropped_dba)\n",
    "\n",
    "k_list = [k_means_3, k_means_4, k_means_5, k_means_6, k_means_7]"
   ]
  },
  {
   "cell_type": "code",
   "execution_count": 115,
   "metadata": {},
   "outputs": [],
   "source": [
    "CH_score = []\n",
    "\n",
    "for model in k_list:\n",
    "    labels = model.labels_\n",
    "    CH_score.append(calinski_harabasz_score(dropped_dba, labels))"
   ]
  },
  {
   "cell_type": "code",
   "execution_count": 116,
   "metadata": {},
   "outputs": [
    {
     "data": {
      "image/png": "[encoded data removed]",
      "text/plain": [
       "<Figure size 432x288 with 1 Axes>"
      ]
     },
     "metadata": {
      "needs_background": "light"
     },
     "output_type": "display_data"
    }
   ],
   "source": [
    "plt.plot([3, 4, 5, 6, 7], CH_score)\n",
    "plt.xticks([3,4,5,6,7])\n",
    "plt.title('Calinski Harabasz Scores for Different Values of K')\n",
    "plt.ylabel('Variance Ratio')\n",
    "plt.xlabel('K=')\n",
    "plt.show()"
   ]
  },
  {
   "cell_type": "code",
   "execution_count": 117,
   "metadata": {},
   "outputs": [],
   "source": [
    "wcss_score = []\n",
    "\n",
    "for model in k_list:\n",
    "    labels = model.labels_\n",
    "    wcss_score.append(model.inertia_)"
   ]
  },
  {
   "cell_type": "code",
   "execution_count": 118,
   "metadata": {},
   "outputs": [
    {
     "data": {
      "image/png": "[encoded data removed]",
      "text/plain": [
       "<Figure size 432x288 with 1 Axes>"
      ]
     },
     "metadata": {
      "needs_background": "light"
     },
     "output_type": "display_data"
    }
   ],
   "source": [
    "plt.plot([3, 4, 5, 6, 7], wcss_score)\n",
    "plt.xticks([3,4,5,6,7])\n",
    "plt.title('Within Cluster Sum of Squares')\n",
    "plt.ylabel('WCSS')\n",
    "plt.xlabel('K=')\n",
    "plt.show()"
   ]
  },
  {
   "cell_type": "markdown",
   "metadata": {},
   "source": [
    "# More NN"
   ]
  },
  {
   "cell_type": "code",
   "execution_count": 119,
   "metadata": {},
   "outputs": [],
   "source": [
    "model_3 = Sequential()\n",
    "model_3.add(Dense(10, activation='relu', input_shape=(13,)))\n",
    "model_3.add(Dense(5, activation='relu'))\n",
    "model_3.add(Dense(1, activation='relu'))"
   ]
  },
  {
   "cell_type": "code",
   "execution_count": 120,
   "metadata": {},
   "outputs": [],
   "source": [
    "model_3.compile(loss='binary_crossentropy', optimizer='sgd', metrics=['acc'])"
   ]
  },
  {
   "cell_type": "code",
   "execution_count": 121,
   "metadata": {},
   "outputs": [
    {
     "name": "stdout",
     "output_type": "stream",
     "text": [
      "Epoch 1/25\n",
      "20843/20843 [==============================] - 14s 675us/step - loss: 7.6166 - acc: 0.5021 - val_loss: 7.5677 - val_acc: 0.5037\n",
      "Epoch 2/25\n",
      "20843/20843 [==============================] - 14s 668us/step - loss: 7.6092 - acc: 0.5010 - val_loss: 7.5677 - val_acc: 0.5037\n",
      "Epoch 3/25\n",
      "20843/20843 [==============================] - 14s 657us/step - loss: 7.6092 - acc: 0.5010 - val_loss: 7.5677 - val_acc: 0.5037\n",
      "Epoch 4/25\n",
      "20843/20843 [==============================] - 14s 672us/step - loss: 7.6092 - acc: 0.5010 - val_loss: 7.5677 - val_acc: 0.5037\n",
      "Epoch 5/25\n",
      "20843/20843 [==============================] - 14s 664us/step - loss: 7.6092 - acc: 0.5010 - val_loss: 7.5677 - val_acc: 0.5037\n",
      "Epoch 6/25\n",
      "20843/20843 [==============================] - 14s 672us/step - loss: 7.6092 - acc: 0.5010 - val_loss: 7.5677 - val_acc: 0.50376040 - acc: 0.50\n",
      "Epoch 7/25\n",
      "20843/20843 [==============================] - 14s 667us/step - loss: 7.6092 - acc: 0.5010 - val_loss: 7.5677 - val_acc: 0.5037\n",
      "Epoch 8/25\n",
      "20843/20843 [==============================] - 14s 691us/step - loss: 7.6092 - acc: 0.5010 - val_loss: 7.5677 - val_acc: 0.5037\n",
      "Epoch 9/25\n",
      "20843/20843 [==============================] - 14s 668us/step - loss: 7.6092 - acc: 0.5010 - val_loss: 7.5677 - val_acc: 0.5037\n",
      "Epoch 10/25\n",
      "20843/20843 [==============================] - 15s 699us/step - loss: 7.6092 - acc: 0.5010 - val_loss: 7.5677 - val_acc: 0.5037 - loss: 7.6075 - a\n",
      "Epoch 11/25\n",
      "20843/20843 [==============================] - 14s 675us/step - loss: 7.6092 - acc: 0.5010 - val_loss: 7.5677 - val_acc: 0.5037\n",
      "Epoch 12/25\n",
      "20843/20843 [==============================] - 15s 735us/step - loss: 7.6092 - acc: 0.5010 - val_loss: 7.5677 - val_acc: 0.5037: 7. - ETA: 0s - loss: 7.6062 - \n",
      "Epoch 13/25\n",
      "20843/20843 [==============================] - 14s 684us/step - loss: 7.6092 - acc: 0.5010 - val_loss: 7.5677 - val_acc: 0.5037\n",
      "Epoch 14/25\n",
      "20843/20843 [==============================] - 14s 686us/step - loss: 7.6092 - acc: 0.5010 - val_loss: 7.5677 - val_acc: 0.5037ss\n",
      "Epoch 15/25\n",
      "20843/20843 [==============================] - 14s 688us/step - loss: 7.6092 - acc: 0.5010 - val_loss: 7.5677 - val_acc: 0.5037\n",
      "Epoch 16/25\n",
      "20843/20843 [==============================] - 14s 684us/step - loss: 7.6092 - acc: 0.5010 - val_loss: 7.5677 - val_acc: 0.50371s \n",
      "Epoch 17/25\n",
      "20843/20843 [==============================] - 15s 709us/step - loss: 7.6092 - acc: 0.5010 - val_loss: 7.5677 - val_acc: 0.5037\n",
      "Epoch 18/25\n",
      "20843/20843 [==============================] - 14s 694us/step - loss: 7.6092 - acc: 0.5010 - val_loss: 7.5677 - val_acc: 0.5037\n",
      "Epoch 19/25\n",
      "20843/20843 [==============================] - 14s 691us/step - loss: 7.6092 - acc: 0.5010 - val_loss: 7.5677 - val_acc: 0.5037\n",
      "Epoch 20/25\n",
      "20843/20843 [==============================] - 14s 683us/step - loss: 7.6092 - acc: 0.5010 - val_loss: 7.5677 - val_acc: 0.5037ss: 7.5210 -\n",
      "Epoch 21/25\n",
      "20843/20843 [==============================] - 15s 703us/step - loss: 7.6092 - acc: 0.5010 - val_loss: 7.5677 - val_acc: 0.5037\n",
      "Epoch 22/25\n",
      "20843/20843 [==============================] - 14s 689us/step - loss: 7.6092 - acc: 0.5010 - val_loss: 7.5677 - val_acc: 0.5037\n",
      "Epoch 23/25\n",
      "20843/20843 [==============================] - 14s 692us/step - loss: 7.6092 - acc: 0.5010 - val_loss: 7.5677 - val_acc: 0.5037\n",
      "Epoch 24/25\n",
      "20843/20843 [==============================] - 14s 693us/step - loss: 7.6092 - acc: 0.5010 - val_loss: 7.5677 - val_acc: 0.5037\n",
      "Epoch 25/25\n",
      "20843/20843 [==============================] - 15s 718us/step - loss: 7.6092 - acc: 0.5010 - val_loss: 7.5677 - val_acc: 0.5037\n"
     ]
    }
   ],
   "source": [
    "results_3 = model_3.fit(scaled_data, y_train, epochs=25, batch_size=1, validation_split=0.2)"
   ]
  },
  {
   "cell_type": "markdown",
   "metadata": {},
   "source": [
    "# Remaking and accounting for date"
   ]
  },
  {
   "cell_type": "code",
   "execution_count": 133,
   "metadata": {},
   "outputs": [
    {
     "name": "stdout",
     "output_type": "stream",
     "text": [
      "<class 'pandas.core.frame.DataFrame'>\n",
      "Int64Index: 34739 entries, 0 to 34739\n",
      "Data columns (total 17 columns):\n",
      " #   Column            Non-Null Count  Dtype  \n",
      "---  ------            --------------  -----  \n",
      " 0   track_title       34739 non-null  object \n",
      " 1   artist_name       34739 non-null  object \n",
      " 2   track_id          34739 non-null  object \n",
      " 3   duration_ms       34739 non-null  int64  \n",
      " 4   energy            34739 non-null  float64\n",
      " 5   key               34739 non-null  int64  \n",
      " 6   mode              34739 non-null  int64  \n",
      " 7   time_signature    34739 non-null  int64  \n",
      " 8   acousticness      34739 non-null  float64\n",
      " 9   danceability      34739 non-null  float64\n",
      " 10  instrumentalness  34739 non-null  float64\n",
      " 11  liveness          34739 non-null  float64\n",
      " 12  loudness          34739 non-null  float64\n",
      " 13  speechiness       34739 non-null  float64\n",
      " 14  valence           34739 non-null  float64\n",
      " 15  tempo             34739 non-null  float64\n",
      " 16  On_chart          34739 non-null  int64  \n",
      "dtypes: float64(9), int64(5), object(3)\n",
      "memory usage: 6.0+ MB\n"
     ]
    }
   ],
   "source": [
    "df.info()"
   ]
  },
  {
   "cell_type": "code",
   "execution_count": 125,
   "metadata": {},
   "outputs": [
    {
     "name": "stdout",
     "output_type": "stream",
     "text": [
      "<class 'pandas.core.frame.DataFrame'>\n",
      "RangeIndex: 586672 entries, 0 to 586671\n",
      "Data columns (total 20 columns):\n",
      " #   Column            Non-Null Count   Dtype  \n",
      "---  ------            --------------   -----  \n",
      " 0   id                586672 non-null  object \n",
      " 1   name              586601 non-null  object \n",
      " 2   popularity        586672 non-null  int64  \n",
      " 3   duration_ms       586672 non-null  int64  \n",
      " 4   explicit          586672 non-null  int64  \n",
      " 5   artists           586672 non-null  object \n",
      " 6   id_artists        586672 non-null  object \n",
      " 7   release_date      586672 non-null  object \n",
      " 8   danceability      586672 non-null  float64\n",
      " 9   energy            586672 non-null  float64\n",
      " 10  key               586672 non-null  int64  \n",
      " 11  loudness          586672 non-null  float64\n",
      " 12  mode              586672 non-null  int64  \n",
      " 13  speechiness       586672 non-null  float64\n",
      " 14  acousticness      586672 non-null  float64\n",
      " 15  instrumentalness  586672 non-null  float64\n",
      " 16  liveness          586672 non-null  float64\n",
      " 17  valence           586672 non-null  float64\n",
      " 18  tempo             586672 non-null  float64\n",
      " 19  time_signature    586672 non-null  int64  \n",
      "dtypes: float64(9), int64(6), object(5)\n",
      "memory usage: 89.5+ MB\n"
     ]
    }
   ],
   "source": [
    "tracks.info()"
   ]
  },
  {
   "cell_type": "code",
   "execution_count": 228,
   "metadata": {},
   "outputs": [],
   "source": [
    "big_df = pd.merge(df, tracks[['id', 'release_date']], how='left', left_on='track_id', right_on='id')"
   ]
  },
  {
   "cell_type": "code",
   "execution_count": 229,
   "metadata": {},
   "outputs": [
    {
     "name": "stdout",
     "output_type": "stream",
     "text": [
      "<class 'pandas.core.frame.DataFrame'>\n",
      "Int64Index: 34739 entries, 0 to 34738\n",
      "Data columns (total 19 columns):\n",
      " #   Column            Non-Null Count  Dtype  \n",
      "---  ------            --------------  -----  \n",
      " 0   track_title       34739 non-null  object \n",
      " 1   artist_name       34739 non-null  object \n",
      " 2   track_id          34739 non-null  object \n",
      " 3   duration_ms       34739 non-null  int64  \n",
      " 4   energy            34739 non-null  float64\n",
      " 5   key               34739 non-null  int64  \n",
      " 6   mode              34739 non-null  int64  \n",
      " 7   time_signature    34739 non-null  int64  \n",
      " 8   acousticness      34739 non-null  float64\n",
      " 9   danceability      34739 non-null  float64\n",
      " 10  instrumentalness  34739 non-null  float64\n",
      " 11  liveness          34739 non-null  float64\n",
      " 12  loudness          34739 non-null  float64\n",
      " 13  speechiness       34739 non-null  float64\n",
      " 14  valence           34739 non-null  float64\n",
      " 15  tempo             34739 non-null  float64\n",
      " 16  On_chart          34739 non-null  int64  \n",
      " 17  id                10455 non-null  object \n",
      " 18  release_date      10455 non-null  object \n",
      "dtypes: float64(9), int64(5), object(5)\n",
      "memory usage: 5.3+ MB\n"
     ]
    }
   ],
   "source": [
    "big_df.info()"
   ]
  },
  {
   "cell_type": "code",
   "execution_count": 166,
   "metadata": {},
   "outputs": [],
   "source": [
    "big_df['release_date'] = pd.to_datetime(big_df['release_date'])"
   ]
  },
  {
   "cell_type": "code",
   "execution_count": 167,
   "metadata": {},
   "outputs": [],
   "source": [
    "big_df['year'] = big_df['release_date'].apply(lambda x: x.year)"
   ]
  },
  {
   "cell_type": "code",
   "execution_count": 224,
   "metadata": {},
   "outputs": [
    {
     "data": {
      "text/plain": [
       "0"
      ]
     },
     "execution_count": 224,
     "metadata": {},
     "output_type": "execute_result"
    }
   ],
   "source": [
    "sum([track_id in data['id'] for track_id in df['track_id']])"
   ]
  },
  {
   "cell_type": "code",
   "execution_count": 216,
   "metadata": {},
   "outputs": [
    {
     "data": {
      "text/plain": [
       "(10455, 20)"
      ]
     },
     "execution_count": 216,
     "metadata": {},
     "output_type": "execute_result"
    }
   ],
   "source": [
    "big_df.shape"
   ]
  },
  {
   "cell_type": "code",
   "execution_count": 185,
   "metadata": {},
   "outputs": [],
   "source": [
    "df2 = pd.read_csv('../../data/complete.csv')"
   ]
  },
  {
   "cell_type": "markdown",
   "metadata": {},
   "source": [
    "# Spotify API Request"
   ]
  },
  {
   "cell_type": "code",
   "execution_count": 283,
   "metadata": {},
   "outputs": [],
   "source": [
    "token = \"Bearer BQD31Sb7L8WH63Qu8xQqZHCE-Ur_u6B4Miw0pYbEK2j3s2-MR9sfZLtyMcxD9VqCYLQeo4AYE2KDHCifsSDXMhfo_k08piRzk2PKkRNexa6b0C2wi1tVi00y6_U_UN3GHq81nuJb-RJIHHh57dK2uWRRFTz0Un4MDwrJPNdCLN7Q\"\n",
    "url = \"https://api.spotify.com/v1/tracks/3FeufAV1f6fajILIQuAXMw\""
   ]
  },
  {
   "cell_type": "code",
   "execution_count": null,
   "metadata": {},
   "outputs": [],
   "source": []
  },
  {
   "cell_type": "code",
   "execution_count": 284,
   "metadata": {},
   "outputs": [],
   "source": [
    "date_of_release = requests.get(url, headers={\"Authorization\": token}).json()"
   ]
  },
  {
   "cell_type": "code",
   "execution_count": 287,
   "metadata": {},
   "outputs": [
    {
     "data": {
      "text/plain": [
       "'2018-08-03'"
      ]
     },
     "execution_count": 287,
     "metadata": {},
     "output_type": "execute_result"
    }
   ],
   "source": [
    "date_of_release['album']['release_date']"
   ]
  },
  {
   "cell_type": "code",
   "execution_count": null,
   "metadata": {},
   "outputs": [],
   "source": [
    "# add this one date of release to the df2 frame\n",
    "\n",
    "\n",
    "# once that works, then put the code above into the loop below"
   ]
  },
  {
   "cell_type": "code",
   "execution_count": null,
   "metadata": {},
   "outputs": [],
   "source": [
    "df2.head()"
   ]
  },
  {
   "cell_type": "code",
   "execution_count": null,
   "metadata": {},
   "outputs": [],
   "source": [
    "# Create an empty list\n",
    "\n",
    "# Go through the for loop\n",
    "\n",
    "# Append date_of_release to list\n",
    "\n",
    "# Create new column with date list"
   ]
  },
  {
   "cell_type": "code",
   "execution_count": 296,
   "metadata": {},
   "outputs": [],
   "source": [
    "from tqdm import tqdm\n",
    "from time import sleep"
   ]
  },
  {
   "cell_type": "code",
   "execution_count": 294,
   "metadata": {},
   "outputs": [],
   "source": [
    "!pip install tqdm -q"
   ]
  },
  {
   "cell_type": "code",
   "execution_count": 297,
   "metadata": {},
   "outputs": [
    {
     "name": "stderr",
     "output_type": "stream",
     "text": [
      "270.78160621761657it [07:05,  1.57s/it]                                   \n"
     ]
    },
    {
     "ename": "KeyboardInterrupt",
     "evalue": "",
     "output_type": "error",
     "traceback": [
      "\u001b[0;31m---------------------------------------------------------------------------\u001b[0m",
      "\u001b[0;31mKeyboardInterrupt\u001b[0m                         Traceback (most recent call last)",
      "\u001b[0;32m<ipython-input-297-a6d8290ee4db>\u001b[0m in \u001b[0;36m<module>\u001b[0;34m\u001b[0m\n\u001b[1;32m      7\u001b[0m         \u001b[0mtrack_id\u001b[0m \u001b[0;34m=\u001b[0m \u001b[0mtracks\u001b[0m\u001b[0;34m[\u001b[0m\u001b[0mi\u001b[0m\u001b[0;34m]\u001b[0m\u001b[0;34m\u001b[0m\u001b[0;34m\u001b[0m\u001b[0m\n\u001b[1;32m      8\u001b[0m         \u001b[0murl\u001b[0m \u001b[0;34m=\u001b[0m \u001b[0;34mf\"https://api.spotify.com/v1/tracks/{track_id}\"\u001b[0m\u001b[0;34m\u001b[0m\u001b[0;34m\u001b[0m\u001b[0m\n\u001b[0;32m----> 9\u001b[0;31m         \u001b[0mres\u001b[0m \u001b[0;34m=\u001b[0m \u001b[0mrequests\u001b[0m\u001b[0;34m.\u001b[0m\u001b[0mget\u001b[0m\u001b[0;34m(\u001b[0m\u001b[0murl\u001b[0m\u001b[0;34m,\u001b[0m \u001b[0mheaders\u001b[0m\u001b[0;34m=\u001b[0m\u001b[0;34m{\u001b[0m\u001b[0;34m\"Authorization\"\u001b[0m\u001b[0;34m:\u001b[0m \u001b[0mtoken\u001b[0m\u001b[0;34m}\u001b[0m\u001b[0;34m)\u001b[0m\u001b[0;34m.\u001b[0m\u001b[0mjson\u001b[0m\u001b[0;34m(\u001b[0m\u001b[0;34m)\u001b[0m\u001b[0;34m\u001b[0m\u001b[0;34m\u001b[0m\u001b[0m\n\u001b[0m\u001b[1;32m     10\u001b[0m         \u001b[0;32mtry\u001b[0m\u001b[0;34m:\u001b[0m\u001b[0;34m\u001b[0m\u001b[0;34m\u001b[0m\u001b[0m\n\u001b[1;32m     11\u001b[0m             \u001b[0mdate_of_release\u001b[0m \u001b[0;34m=\u001b[0m \u001b[0mres\u001b[0m\u001b[0;34m[\u001b[0m\u001b[0;34m'album'\u001b[0m\u001b[0;34m]\u001b[0m\u001b[0;34m[\u001b[0m\u001b[0;34m'release_date'\u001b[0m\u001b[0;34m]\u001b[0m\u001b[0;34m\u001b[0m\u001b[0;34m\u001b[0m\u001b[0m\n",
      "\u001b[0;32m~/opt/anaconda3/envs/learn-env/lib/python3.8/site-packages/requests/api.py\u001b[0m in \u001b[0;36mget\u001b[0;34m(url, params, **kwargs)\u001b[0m\n\u001b[1;32m     74\u001b[0m \u001b[0;34m\u001b[0m\u001b[0m\n\u001b[1;32m     75\u001b[0m     \u001b[0mkwargs\u001b[0m\u001b[0;34m.\u001b[0m\u001b[0msetdefault\u001b[0m\u001b[0;34m(\u001b[0m\u001b[0;34m'allow_redirects'\u001b[0m\u001b[0;34m,\u001b[0m \u001b[0;32mTrue\u001b[0m\u001b[0;34m)\u001b[0m\u001b[0;34m\u001b[0m\u001b[0;34m\u001b[0m\u001b[0m\n\u001b[0;32m---> 76\u001b[0;31m     \u001b[0;32mreturn\u001b[0m \u001b[0mrequest\u001b[0m\u001b[0;34m(\u001b[0m\u001b[0;34m'get'\u001b[0m\u001b[0;34m,\u001b[0m \u001b[0murl\u001b[0m\u001b[0;34m,\u001b[0m \u001b[0mparams\u001b[0m\u001b[0;34m=\u001b[0m\u001b[0mparams\u001b[0m\u001b[0;34m,\u001b[0m \u001b[0;34m**\u001b[0m\u001b[0mkwargs\u001b[0m\u001b[0;34m)\u001b[0m\u001b[0;34m\u001b[0m\u001b[0;34m\u001b[0m\u001b[0m\n\u001b[0m\u001b[1;32m     77\u001b[0m \u001b[0;34m\u001b[0m\u001b[0m\n\u001b[1;32m     78\u001b[0m \u001b[0;34m\u001b[0m\u001b[0m\n",
      "\u001b[0;32m~/opt/anaconda3/envs/learn-env/lib/python3.8/site-packages/requests/api.py\u001b[0m in \u001b[0;36mrequest\u001b[0;34m(method, url, **kwargs)\u001b[0m\n\u001b[1;32m     59\u001b[0m     \u001b[0;31m# cases, and look like a memory leak in others.\u001b[0m\u001b[0;34m\u001b[0m\u001b[0;34m\u001b[0m\u001b[0;34m\u001b[0m\u001b[0m\n\u001b[1;32m     60\u001b[0m     \u001b[0;32mwith\u001b[0m \u001b[0msessions\u001b[0m\u001b[0;34m.\u001b[0m\u001b[0mSession\u001b[0m\u001b[0;34m(\u001b[0m\u001b[0;34m)\u001b[0m \u001b[0;32mas\u001b[0m \u001b[0msession\u001b[0m\u001b[0;34m:\u001b[0m\u001b[0;34m\u001b[0m\u001b[0;34m\u001b[0m\u001b[0m\n\u001b[0;32m---> 61\u001b[0;31m         \u001b[0;32mreturn\u001b[0m \u001b[0msession\u001b[0m\u001b[0;34m.\u001b[0m\u001b[0mrequest\u001b[0m\u001b[0;34m(\u001b[0m\u001b[0mmethod\u001b[0m\u001b[0;34m=\u001b[0m\u001b[0mmethod\u001b[0m\u001b[0;34m,\u001b[0m \u001b[0murl\u001b[0m\u001b[0;34m=\u001b[0m\u001b[0murl\u001b[0m\u001b[0;34m,\u001b[0m \u001b[0;34m**\u001b[0m\u001b[0mkwargs\u001b[0m\u001b[0;34m)\u001b[0m\u001b[0;34m\u001b[0m\u001b[0;34m\u001b[0m\u001b[0m\n\u001b[0m\u001b[1;32m     62\u001b[0m \u001b[0;34m\u001b[0m\u001b[0m\n\u001b[1;32m     63\u001b[0m \u001b[0;34m\u001b[0m\u001b[0m\n",
      "\u001b[0;32m~/opt/anaconda3/envs/learn-env/lib/python3.8/site-packages/requests/sessions.py\u001b[0m in \u001b[0;36mrequest\u001b[0;34m(self, method, url, params, data, headers, cookies, files, auth, timeout, allow_redirects, proxies, hooks, stream, verify, cert, json)\u001b[0m\n\u001b[1;32m    528\u001b[0m         }\n\u001b[1;32m    529\u001b[0m         \u001b[0msend_kwargs\u001b[0m\u001b[0;34m.\u001b[0m\u001b[0mupdate\u001b[0m\u001b[0;34m(\u001b[0m\u001b[0msettings\u001b[0m\u001b[0;34m)\u001b[0m\u001b[0;34m\u001b[0m\u001b[0;34m\u001b[0m\u001b[0m\n\u001b[0;32m--> 530\u001b[0;31m         \u001b[0mresp\u001b[0m \u001b[0;34m=\u001b[0m \u001b[0mself\u001b[0m\u001b[0;34m.\u001b[0m\u001b[0msend\u001b[0m\u001b[0;34m(\u001b[0m\u001b[0mprep\u001b[0m\u001b[0;34m,\u001b[0m \u001b[0;34m**\u001b[0m\u001b[0msend_kwargs\u001b[0m\u001b[0;34m)\u001b[0m\u001b[0;34m\u001b[0m\u001b[0;34m\u001b[0m\u001b[0m\n\u001b[0m\u001b[1;32m    531\u001b[0m \u001b[0;34m\u001b[0m\u001b[0m\n\u001b[1;32m    532\u001b[0m         \u001b[0;32mreturn\u001b[0m \u001b[0mresp\u001b[0m\u001b[0;34m\u001b[0m\u001b[0;34m\u001b[0m\u001b[0m\n",
      "\u001b[0;32m~/opt/anaconda3/envs/learn-env/lib/python3.8/site-packages/requests/sessions.py\u001b[0m in \u001b[0;36msend\u001b[0;34m(self, request, **kwargs)\u001b[0m\n\u001b[1;32m    641\u001b[0m \u001b[0;34m\u001b[0m\u001b[0m\n\u001b[1;32m    642\u001b[0m         \u001b[0;31m# Send the request\u001b[0m\u001b[0;34m\u001b[0m\u001b[0;34m\u001b[0m\u001b[0;34m\u001b[0m\u001b[0m\n\u001b[0;32m--> 643\u001b[0;31m         \u001b[0mr\u001b[0m \u001b[0;34m=\u001b[0m \u001b[0madapter\u001b[0m\u001b[0;34m.\u001b[0m\u001b[0msend\u001b[0m\u001b[0;34m(\u001b[0m\u001b[0mrequest\u001b[0m\u001b[0;34m,\u001b[0m \u001b[0;34m**\u001b[0m\u001b[0mkwargs\u001b[0m\u001b[0;34m)\u001b[0m\u001b[0;34m\u001b[0m\u001b[0;34m\u001b[0m\u001b[0m\n\u001b[0m\u001b[1;32m    644\u001b[0m \u001b[0;34m\u001b[0m\u001b[0m\n\u001b[1;32m    645\u001b[0m         \u001b[0;31m# Total elapsed time of the request (approximately)\u001b[0m\u001b[0;34m\u001b[0m\u001b[0;34m\u001b[0m\u001b[0;34m\u001b[0m\u001b[0m\n",
      "\u001b[0;32m~/opt/anaconda3/envs/learn-env/lib/python3.8/site-packages/requests/adapters.py\u001b[0m in \u001b[0;36msend\u001b[0;34m(self, request, stream, timeout, verify, cert, proxies)\u001b[0m\n\u001b[1;32m    437\u001b[0m         \u001b[0;32mtry\u001b[0m\u001b[0;34m:\u001b[0m\u001b[0;34m\u001b[0m\u001b[0;34m\u001b[0m\u001b[0m\n\u001b[1;32m    438\u001b[0m             \u001b[0;32mif\u001b[0m \u001b[0;32mnot\u001b[0m \u001b[0mchunked\u001b[0m\u001b[0;34m:\u001b[0m\u001b[0;34m\u001b[0m\u001b[0;34m\u001b[0m\u001b[0m\n\u001b[0;32m--> 439\u001b[0;31m                 resp = conn.urlopen(\n\u001b[0m\u001b[1;32m    440\u001b[0m                     \u001b[0mmethod\u001b[0m\u001b[0;34m=\u001b[0m\u001b[0mrequest\u001b[0m\u001b[0;34m.\u001b[0m\u001b[0mmethod\u001b[0m\u001b[0;34m,\u001b[0m\u001b[0;34m\u001b[0m\u001b[0;34m\u001b[0m\u001b[0m\n\u001b[1;32m    441\u001b[0m                     \u001b[0murl\u001b[0m\u001b[0;34m=\u001b[0m\u001b[0murl\u001b[0m\u001b[0;34m,\u001b[0m\u001b[0;34m\u001b[0m\u001b[0;34m\u001b[0m\u001b[0m\n",
      "\u001b[0;32m~/opt/anaconda3/envs/learn-env/lib/python3.8/site-packages/urllib3/connectionpool.py\u001b[0m in \u001b[0;36murlopen\u001b[0;34m(self, method, url, body, headers, retries, redirect, assert_same_host, timeout, pool_timeout, release_conn, chunked, body_pos, **response_kw)\u001b[0m\n\u001b[1;32m    668\u001b[0m \u001b[0;34m\u001b[0m\u001b[0m\n\u001b[1;32m    669\u001b[0m             \u001b[0;31m# Make the request on the httplib connection object.\u001b[0m\u001b[0;34m\u001b[0m\u001b[0;34m\u001b[0m\u001b[0;34m\u001b[0m\u001b[0m\n\u001b[0;32m--> 670\u001b[0;31m             httplib_response = self._make_request(\n\u001b[0m\u001b[1;32m    671\u001b[0m                 \u001b[0mconn\u001b[0m\u001b[0;34m,\u001b[0m\u001b[0;34m\u001b[0m\u001b[0;34m\u001b[0m\u001b[0m\n\u001b[1;32m    672\u001b[0m                 \u001b[0mmethod\u001b[0m\u001b[0;34m,\u001b[0m\u001b[0;34m\u001b[0m\u001b[0;34m\u001b[0m\u001b[0m\n",
      "\u001b[0;32m~/opt/anaconda3/envs/learn-env/lib/python3.8/site-packages/urllib3/connectionpool.py\u001b[0m in \u001b[0;36m_make_request\u001b[0;34m(self, conn, method, url, timeout, chunked, **httplib_request_kw)\u001b[0m\n\u001b[1;32m    424\u001b[0m                     \u001b[0;31m# Python 3 (including for exceptions like SystemExit).\u001b[0m\u001b[0;34m\u001b[0m\u001b[0;34m\u001b[0m\u001b[0;34m\u001b[0m\u001b[0m\n\u001b[1;32m    425\u001b[0m                     \u001b[0;31m# Otherwise it looks like a bug in the code.\u001b[0m\u001b[0;34m\u001b[0m\u001b[0;34m\u001b[0m\u001b[0;34m\u001b[0m\u001b[0m\n\u001b[0;32m--> 426\u001b[0;31m                     \u001b[0msix\u001b[0m\u001b[0;34m.\u001b[0m\u001b[0mraise_from\u001b[0m\u001b[0;34m(\u001b[0m\u001b[0me\u001b[0m\u001b[0;34m,\u001b[0m \u001b[0;32mNone\u001b[0m\u001b[0;34m)\u001b[0m\u001b[0;34m\u001b[0m\u001b[0;34m\u001b[0m\u001b[0m\n\u001b[0m\u001b[1;32m    427\u001b[0m         \u001b[0;32mexcept\u001b[0m \u001b[0;34m(\u001b[0m\u001b[0mSocketTimeout\u001b[0m\u001b[0;34m,\u001b[0m \u001b[0mBaseSSLError\u001b[0m\u001b[0;34m,\u001b[0m \u001b[0mSocketError\u001b[0m\u001b[0;34m)\u001b[0m \u001b[0;32mas\u001b[0m \u001b[0me\u001b[0m\u001b[0;34m:\u001b[0m\u001b[0;34m\u001b[0m\u001b[0;34m\u001b[0m\u001b[0m\n\u001b[1;32m    428\u001b[0m             \u001b[0mself\u001b[0m\u001b[0;34m.\u001b[0m\u001b[0m_raise_timeout\u001b[0m\u001b[0;34m(\u001b[0m\u001b[0merr\u001b[0m\u001b[0;34m=\u001b[0m\u001b[0me\u001b[0m\u001b[0;34m,\u001b[0m \u001b[0murl\u001b[0m\u001b[0;34m=\u001b[0m\u001b[0murl\u001b[0m\u001b[0;34m,\u001b[0m \u001b[0mtimeout_value\u001b[0m\u001b[0;34m=\u001b[0m\u001b[0mread_timeout\u001b[0m\u001b[0;34m)\u001b[0m\u001b[0;34m\u001b[0m\u001b[0;34m\u001b[0m\u001b[0m\n",
      "\u001b[0;32m~/opt/anaconda3/envs/learn-env/lib/python3.8/site-packages/urllib3/packages/six.py\u001b[0m in \u001b[0;36mraise_from\u001b[0;34m(value, from_value)\u001b[0m\n",
      "\u001b[0;32m~/opt/anaconda3/envs/learn-env/lib/python3.8/site-packages/urllib3/connectionpool.py\u001b[0m in \u001b[0;36m_make_request\u001b[0;34m(self, conn, method, url, timeout, chunked, **httplib_request_kw)\u001b[0m\n\u001b[1;32m    419\u001b[0m                 \u001b[0;31m# Python 3\u001b[0m\u001b[0;34m\u001b[0m\u001b[0;34m\u001b[0m\u001b[0;34m\u001b[0m\u001b[0m\n\u001b[1;32m    420\u001b[0m                 \u001b[0;32mtry\u001b[0m\u001b[0;34m:\u001b[0m\u001b[0;34m\u001b[0m\u001b[0;34m\u001b[0m\u001b[0m\n\u001b[0;32m--> 421\u001b[0;31m                     \u001b[0mhttplib_response\u001b[0m \u001b[0;34m=\u001b[0m \u001b[0mconn\u001b[0m\u001b[0;34m.\u001b[0m\u001b[0mgetresponse\u001b[0m\u001b[0;34m(\u001b[0m\u001b[0;34m)\u001b[0m\u001b[0;34m\u001b[0m\u001b[0;34m\u001b[0m\u001b[0m\n\u001b[0m\u001b[1;32m    422\u001b[0m                 \u001b[0;32mexcept\u001b[0m \u001b[0mBaseException\u001b[0m \u001b[0;32mas\u001b[0m \u001b[0me\u001b[0m\u001b[0;34m:\u001b[0m\u001b[0;34m\u001b[0m\u001b[0;34m\u001b[0m\u001b[0m\n\u001b[1;32m    423\u001b[0m                     \u001b[0;31m# Remove the TypeError from the exception chain in\u001b[0m\u001b[0;34m\u001b[0m\u001b[0;34m\u001b[0m\u001b[0;34m\u001b[0m\u001b[0m\n",
      "\u001b[0;32m~/opt/anaconda3/envs/learn-env/lib/python3.8/http/client.py\u001b[0m in \u001b[0;36mgetresponse\u001b[0;34m(self)\u001b[0m\n\u001b[1;32m   1345\u001b[0m         \u001b[0;32mtry\u001b[0m\u001b[0;34m:\u001b[0m\u001b[0;34m\u001b[0m\u001b[0;34m\u001b[0m\u001b[0m\n\u001b[1;32m   1346\u001b[0m             \u001b[0;32mtry\u001b[0m\u001b[0;34m:\u001b[0m\u001b[0;34m\u001b[0m\u001b[0;34m\u001b[0m\u001b[0m\n\u001b[0;32m-> 1347\u001b[0;31m                 \u001b[0mresponse\u001b[0m\u001b[0;34m.\u001b[0m\u001b[0mbegin\u001b[0m\u001b[0;34m(\u001b[0m\u001b[0;34m)\u001b[0m\u001b[0;34m\u001b[0m\u001b[0;34m\u001b[0m\u001b[0m\n\u001b[0m\u001b[1;32m   1348\u001b[0m             \u001b[0;32mexcept\u001b[0m \u001b[0mConnectionError\u001b[0m\u001b[0;34m:\u001b[0m\u001b[0;34m\u001b[0m\u001b[0;34m\u001b[0m\u001b[0m\n\u001b[1;32m   1349\u001b[0m                 \u001b[0mself\u001b[0m\u001b[0;34m.\u001b[0m\u001b[0mclose\u001b[0m\u001b[0;34m(\u001b[0m\u001b[0;34m)\u001b[0m\u001b[0;34m\u001b[0m\u001b[0;34m\u001b[0m\u001b[0m\n",
      "\u001b[0;32m~/opt/anaconda3/envs/learn-env/lib/python3.8/http/client.py\u001b[0m in \u001b[0;36mbegin\u001b[0;34m(self)\u001b[0m\n\u001b[1;32m    305\u001b[0m         \u001b[0;31m# read until we get a non-100 response\u001b[0m\u001b[0;34m\u001b[0m\u001b[0;34m\u001b[0m\u001b[0;34m\u001b[0m\u001b[0m\n\u001b[1;32m    306\u001b[0m         \u001b[0;32mwhile\u001b[0m \u001b[0;32mTrue\u001b[0m\u001b[0;34m:\u001b[0m\u001b[0;34m\u001b[0m\u001b[0;34m\u001b[0m\u001b[0m\n\u001b[0;32m--> 307\u001b[0;31m             \u001b[0mversion\u001b[0m\u001b[0;34m,\u001b[0m \u001b[0mstatus\u001b[0m\u001b[0;34m,\u001b[0m \u001b[0mreason\u001b[0m \u001b[0;34m=\u001b[0m \u001b[0mself\u001b[0m\u001b[0;34m.\u001b[0m\u001b[0m_read_status\u001b[0m\u001b[0;34m(\u001b[0m\u001b[0;34m)\u001b[0m\u001b[0;34m\u001b[0m\u001b[0;34m\u001b[0m\u001b[0m\n\u001b[0m\u001b[1;32m    308\u001b[0m             \u001b[0;32mif\u001b[0m \u001b[0mstatus\u001b[0m \u001b[0;34m!=\u001b[0m \u001b[0mCONTINUE\u001b[0m\u001b[0;34m:\u001b[0m\u001b[0;34m\u001b[0m\u001b[0;34m\u001b[0m\u001b[0m\n\u001b[1;32m    309\u001b[0m                 \u001b[0;32mbreak\u001b[0m\u001b[0;34m\u001b[0m\u001b[0;34m\u001b[0m\u001b[0m\n",
      "\u001b[0;32m~/opt/anaconda3/envs/learn-env/lib/python3.8/http/client.py\u001b[0m in \u001b[0;36m_read_status\u001b[0;34m(self)\u001b[0m\n\u001b[1;32m    266\u001b[0m \u001b[0;34m\u001b[0m\u001b[0m\n\u001b[1;32m    267\u001b[0m     \u001b[0;32mdef\u001b[0m \u001b[0m_read_status\u001b[0m\u001b[0;34m(\u001b[0m\u001b[0mself\u001b[0m\u001b[0;34m)\u001b[0m\u001b[0;34m:\u001b[0m\u001b[0;34m\u001b[0m\u001b[0;34m\u001b[0m\u001b[0m\n\u001b[0;32m--> 268\u001b[0;31m         \u001b[0mline\u001b[0m \u001b[0;34m=\u001b[0m \u001b[0mstr\u001b[0m\u001b[0;34m(\u001b[0m\u001b[0mself\u001b[0m\u001b[0;34m.\u001b[0m\u001b[0mfp\u001b[0m\u001b[0;34m.\u001b[0m\u001b[0mreadline\u001b[0m\u001b[0;34m(\u001b[0m\u001b[0m_MAXLINE\u001b[0m \u001b[0;34m+\u001b[0m \u001b[0;36m1\u001b[0m\u001b[0;34m)\u001b[0m\u001b[0;34m,\u001b[0m \u001b[0;34m\"iso-8859-1\"\u001b[0m\u001b[0;34m)\u001b[0m\u001b[0;34m\u001b[0m\u001b[0;34m\u001b[0m\u001b[0m\n\u001b[0m\u001b[1;32m    269\u001b[0m         \u001b[0;32mif\u001b[0m \u001b[0mlen\u001b[0m\u001b[0;34m(\u001b[0m\u001b[0mline\u001b[0m\u001b[0;34m)\u001b[0m \u001b[0;34m>\u001b[0m \u001b[0m_MAXLINE\u001b[0m\u001b[0;34m:\u001b[0m\u001b[0;34m\u001b[0m\u001b[0;34m\u001b[0m\u001b[0m\n\u001b[1;32m    270\u001b[0m             \u001b[0;32mraise\u001b[0m \u001b[0mLineTooLong\u001b[0m\u001b[0;34m(\u001b[0m\u001b[0;34m\"status line\"\u001b[0m\u001b[0;34m)\u001b[0m\u001b[0;34m\u001b[0m\u001b[0;34m\u001b[0m\u001b[0m\n",
      "\u001b[0;32m~/opt/anaconda3/envs/learn-env/lib/python3.8/socket.py\u001b[0m in \u001b[0;36mreadinto\u001b[0;34m(self, b)\u001b[0m\n\u001b[1;32m    667\u001b[0m         \u001b[0;32mwhile\u001b[0m \u001b[0;32mTrue\u001b[0m\u001b[0;34m:\u001b[0m\u001b[0;34m\u001b[0m\u001b[0;34m\u001b[0m\u001b[0m\n\u001b[1;32m    668\u001b[0m             \u001b[0;32mtry\u001b[0m\u001b[0;34m:\u001b[0m\u001b[0;34m\u001b[0m\u001b[0;34m\u001b[0m\u001b[0m\n\u001b[0;32m--> 669\u001b[0;31m                 \u001b[0;32mreturn\u001b[0m \u001b[0mself\u001b[0m\u001b[0;34m.\u001b[0m\u001b[0m_sock\u001b[0m\u001b[0;34m.\u001b[0m\u001b[0mrecv_into\u001b[0m\u001b[0;34m(\u001b[0m\u001b[0mb\u001b[0m\u001b[0;34m)\u001b[0m\u001b[0;34m\u001b[0m\u001b[0;34m\u001b[0m\u001b[0m\n\u001b[0m\u001b[1;32m    670\u001b[0m             \u001b[0;32mexcept\u001b[0m \u001b[0mtimeout\u001b[0m\u001b[0;34m:\u001b[0m\u001b[0;34m\u001b[0m\u001b[0;34m\u001b[0m\u001b[0m\n\u001b[1;32m    671\u001b[0m                 \u001b[0mself\u001b[0m\u001b[0;34m.\u001b[0m\u001b[0m_timeout_occurred\u001b[0m \u001b[0;34m=\u001b[0m \u001b[0;32mTrue\u001b[0m\u001b[0;34m\u001b[0m\u001b[0;34m\u001b[0m\u001b[0m\n",
      "\u001b[0;32m~/opt/anaconda3/envs/learn-env/lib/python3.8/ssl.py\u001b[0m in \u001b[0;36mrecv_into\u001b[0;34m(self, buffer, nbytes, flags)\u001b[0m\n\u001b[1;32m   1239\u001b[0m                   \u001b[0;34m\"non-zero flags not allowed in calls to recv_into() on %s\"\u001b[0m \u001b[0;34m%\u001b[0m\u001b[0;34m\u001b[0m\u001b[0;34m\u001b[0m\u001b[0m\n\u001b[1;32m   1240\u001b[0m                   self.__class__)\n\u001b[0;32m-> 1241\u001b[0;31m             \u001b[0;32mreturn\u001b[0m \u001b[0mself\u001b[0m\u001b[0;34m.\u001b[0m\u001b[0mread\u001b[0m\u001b[0;34m(\u001b[0m\u001b[0mnbytes\u001b[0m\u001b[0;34m,\u001b[0m \u001b[0mbuffer\u001b[0m\u001b[0;34m)\u001b[0m\u001b[0;34m\u001b[0m\u001b[0;34m\u001b[0m\u001b[0m\n\u001b[0m\u001b[1;32m   1242\u001b[0m         \u001b[0;32melse\u001b[0m\u001b[0;34m:\u001b[0m\u001b[0;34m\u001b[0m\u001b[0;34m\u001b[0m\u001b[0m\n\u001b[1;32m   1243\u001b[0m             \u001b[0;32mreturn\u001b[0m \u001b[0msuper\u001b[0m\u001b[0;34m(\u001b[0m\u001b[0;34m)\u001b[0m\u001b[0;34m.\u001b[0m\u001b[0mrecv_into\u001b[0m\u001b[0;34m(\u001b[0m\u001b[0mbuffer\u001b[0m\u001b[0;34m,\u001b[0m \u001b[0mnbytes\u001b[0m\u001b[0;34m,\u001b[0m \u001b[0mflags\u001b[0m\u001b[0;34m)\u001b[0m\u001b[0;34m\u001b[0m\u001b[0;34m\u001b[0m\u001b[0m\n",
      "\u001b[0;32m~/opt/anaconda3/envs/learn-env/lib/python3.8/ssl.py\u001b[0m in \u001b[0;36mread\u001b[0;34m(self, len, buffer)\u001b[0m\n\u001b[1;32m   1097\u001b[0m         \u001b[0;32mtry\u001b[0m\u001b[0;34m:\u001b[0m\u001b[0;34m\u001b[0m\u001b[0;34m\u001b[0m\u001b[0m\n\u001b[1;32m   1098\u001b[0m             \u001b[0;32mif\u001b[0m \u001b[0mbuffer\u001b[0m \u001b[0;32mis\u001b[0m \u001b[0;32mnot\u001b[0m \u001b[0;32mNone\u001b[0m\u001b[0;34m:\u001b[0m\u001b[0;34m\u001b[0m\u001b[0;34m\u001b[0m\u001b[0m\n\u001b[0;32m-> 1099\u001b[0;31m                 \u001b[0;32mreturn\u001b[0m \u001b[0mself\u001b[0m\u001b[0;34m.\u001b[0m\u001b[0m_sslobj\u001b[0m\u001b[0;34m.\u001b[0m\u001b[0mread\u001b[0m\u001b[0;34m(\u001b[0m\u001b[0mlen\u001b[0m\u001b[0;34m,\u001b[0m \u001b[0mbuffer\u001b[0m\u001b[0;34m)\u001b[0m\u001b[0;34m\u001b[0m\u001b[0;34m\u001b[0m\u001b[0m\n\u001b[0m\u001b[1;32m   1100\u001b[0m             \u001b[0;32melse\u001b[0m\u001b[0;34m:\u001b[0m\u001b[0;34m\u001b[0m\u001b[0;34m\u001b[0m\u001b[0m\n\u001b[1;32m   1101\u001b[0m                 \u001b[0;32mreturn\u001b[0m \u001b[0mself\u001b[0m\u001b[0;34m.\u001b[0m\u001b[0m_sslobj\u001b[0m\u001b[0;34m.\u001b[0m\u001b[0mread\u001b[0m\u001b[0;34m(\u001b[0m\u001b[0mlen\u001b[0m\u001b[0;34m)\u001b[0m\u001b[0;34m\u001b[0m\u001b[0;34m\u001b[0m\u001b[0m\n",
      "\u001b[0;31mKeyboardInterrupt\u001b[0m: "
     ]
    }
   ],
   "source": [
    "dates = []\n",
    "broken = []\n",
    "tracks = list(df2.track_id)\n",
    "num_tracks = len(tracks)\n",
    "with tqdm(total=100) as pbar:\n",
    "    for i in range(num_tracks):\n",
    "        track_id = tracks[i]\n",
    "        url = f\"https://api.spotify.com/v1/tracks/{track_id}\"\n",
    "        res = requests.get(url, headers={\"Authorization\": token}).json()\n",
    "        try:\n",
    "            date_of_release = res['album']['release_date']\n",
    "            dates.append(date_of_release)\n",
    "        except:\n",
    "            broken.append(res)\n",
    "        pbar.update(i/num_tracks)"
   ]
  },
  {
   "cell_type": "code",
   "execution_count": null,
   "metadata": {},
   "outputs": [],
   "source": [
    "df2['release_dates']=dates"
   ]
  },
  {
   "cell_type": "code",
   "execution_count": 233,
   "metadata": {},
   "outputs": [
    {
     "data": {
      "text/html": [
       "<div>\n",
       "<style scoped>\n",
       "    .dataframe tbody tr th:only-of-type {\n",
       "        vertical-align: middle;\n",
       "    }\n",
       "\n",
       "    .dataframe tbody tr th {\n",
       "        vertical-align: top;\n",
       "    }\n",
       "\n",
       "    .dataframe thead th {\n",
       "        text-align: right;\n",
       "    }\n",
       "</style>\n",
       "<table border=\"1\" class=\"dataframe\">\n",
       "  <thead>\n",
       "    <tr style=\"text-align: right;\">\n",
       "      <th></th>\n",
       "      <th>track_title</th>\n",
       "      <th>artist_name</th>\n",
       "      <th>track_id</th>\n",
       "      <th>duration_ms</th>\n",
       "      <th>energy</th>\n",
       "      <th>key</th>\n",
       "      <th>mode</th>\n",
       "      <th>time_signature</th>\n",
       "      <th>acousticness</th>\n",
       "      <th>danceability</th>\n",
       "      <th>instrumentalness</th>\n",
       "      <th>liveness</th>\n",
       "      <th>loudness</th>\n",
       "      <th>speechiness</th>\n",
       "      <th>valence</th>\n",
       "      <th>tempo</th>\n",
       "      <th>On_chart</th>\n",
       "    </tr>\n",
       "  </thead>\n",
       "  <tbody>\n",
       "    <tr>\n",
       "      <th>0</th>\n",
       "      <td>Red Planet - Red Planet Radio</td>\n",
       "      <td>Joe</td>\n",
       "      <td>3FeufAV1f6fajILIQuAXMw</td>\n",
       "      <td>256080</td>\n",
       "      <td>0.96800</td>\n",
       "      <td>7</td>\n",
       "      <td>0</td>\n",
       "      <td>4</td>\n",
       "      <td>0.02150</td>\n",
       "      <td>0.698</td>\n",
       "      <td>0.862000</td>\n",
       "      <td>0.1110</td>\n",
       "      <td>-11.012</td>\n",
       "      <td>0.0337</td>\n",
       "      <td>0.3900</td>\n",
       "      <td>136.884</td>\n",
       "      <td>0</td>\n",
       "    </tr>\n",
       "    <tr>\n",
       "      <th>1</th>\n",
       "      <td>Red Planet - Red Planet Extended</td>\n",
       "      <td>Joe</td>\n",
       "      <td>2o7oYjZuo3S2QitY4R5dII</td>\n",
       "      <td>395442</td>\n",
       "      <td>0.97000</td>\n",
       "      <td>2</td>\n",
       "      <td>1</td>\n",
       "      <td>4</td>\n",
       "      <td>0.00339</td>\n",
       "      <td>0.724</td>\n",
       "      <td>0.896000</td>\n",
       "      <td>0.1060</td>\n",
       "      <td>-8.415</td>\n",
       "      <td>0.0358</td>\n",
       "      <td>0.4320</td>\n",
       "      <td>136.868</td>\n",
       "      <td>0</td>\n",
       "    </tr>\n",
       "    <tr>\n",
       "      <th>2</th>\n",
       "      <td>Basejump</td>\n",
       "      <td>Robin Schulz</td>\n",
       "      <td>6nWoNNkfffbmHU9z3kGPao</td>\n",
       "      <td>391680</td>\n",
       "      <td>0.40600</td>\n",
       "      <td>5</td>\n",
       "      <td>0</td>\n",
       "      <td>4</td>\n",
       "      <td>0.00433</td>\n",
       "      <td>0.803</td>\n",
       "      <td>0.825000</td>\n",
       "      <td>0.0948</td>\n",
       "      <td>-9.444</td>\n",
       "      <td>0.0608</td>\n",
       "      <td>0.0769</td>\n",
       "      <td>125.014</td>\n",
       "      <td>0</td>\n",
       "    </tr>\n",
       "    <tr>\n",
       "      <th>3</th>\n",
       "      <td>Goldberg Variations, BWV 988 (Arr. for Accordi...</td>\n",
       "      <td>Johann Sebastian Bach</td>\n",
       "      <td>5Zg1UOcmee5oiRw3gbXna0</td>\n",
       "      <td>347840</td>\n",
       "      <td>0.00267</td>\n",
       "      <td>7</td>\n",
       "      <td>0</td>\n",
       "      <td>5</td>\n",
       "      <td>0.91000</td>\n",
       "      <td>0.150</td>\n",
       "      <td>0.028700</td>\n",
       "      <td>0.1250</td>\n",
       "      <td>-24.701</td>\n",
       "      <td>0.0434</td>\n",
       "      <td>0.1050</td>\n",
       "      <td>135.652</td>\n",
       "      <td>0</td>\n",
       "    </tr>\n",
       "    <tr>\n",
       "      <th>4</th>\n",
       "      <td>Goldberg Variations, BWV 988 (Arr. for Accordi...</td>\n",
       "      <td>Johann Sebastian Bach</td>\n",
       "      <td>2ZWmWGoZS2OTGZSnMhck7Q</td>\n",
       "      <td>181733</td>\n",
       "      <td>0.22600</td>\n",
       "      <td>7</td>\n",
       "      <td>1</td>\n",
       "      <td>4</td>\n",
       "      <td>0.76800</td>\n",
       "      <td>0.290</td>\n",
       "      <td>0.000002</td>\n",
       "      <td>0.1050</td>\n",
       "      <td>-14.990</td>\n",
       "      <td>0.0385</td>\n",
       "      <td>0.4700</td>\n",
       "      <td>98.348</td>\n",
       "      <td>0</td>\n",
       "    </tr>\n",
       "  </tbody>\n",
       "</table>\n",
       "</div>"
      ],
      "text/plain": [
       "                                         track_title            artist_name  \\\n",
       "0                      Red Planet - Red Planet Radio                    Joe   \n",
       "1                   Red Planet - Red Planet Extended                    Joe   \n",
       "2                                           Basejump           Robin Schulz   \n",
       "3  Goldberg Variations, BWV 988 (Arr. for Accordi...  Johann Sebastian Bach   \n",
       "4  Goldberg Variations, BWV 988 (Arr. for Accordi...  Johann Sebastian Bach   \n",
       "\n",
       "                 track_id  duration_ms   energy  key  mode  time_signature  \\\n",
       "0  3FeufAV1f6fajILIQuAXMw       256080  0.96800    7     0               4   \n",
       "1  2o7oYjZuo3S2QitY4R5dII       395442  0.97000    2     1               4   \n",
       "2  6nWoNNkfffbmHU9z3kGPao       391680  0.40600    5     0               4   \n",
       "3  5Zg1UOcmee5oiRw3gbXna0       347840  0.00267    7     0               5   \n",
       "4  2ZWmWGoZS2OTGZSnMhck7Q       181733  0.22600    7     1               4   \n",
       "\n",
       "   acousticness  danceability  instrumentalness  liveness  loudness  \\\n",
       "0       0.02150         0.698          0.862000    0.1110   -11.012   \n",
       "1       0.00339         0.724          0.896000    0.1060    -8.415   \n",
       "2       0.00433         0.803          0.825000    0.0948    -9.444   \n",
       "3       0.91000         0.150          0.028700    0.1250   -24.701   \n",
       "4       0.76800         0.290          0.000002    0.1050   -14.990   \n",
       "\n",
       "   speechiness  valence    tempo  On_chart  \n",
       "0       0.0337   0.3900  136.884         0  \n",
       "1       0.0358   0.4320  136.868         0  \n",
       "2       0.0608   0.0769  125.014         0  \n",
       "3       0.0434   0.1050  135.652         0  \n",
       "4       0.0385   0.4700   98.348         0  "
      ]
     },
     "execution_count": 233,
     "metadata": {},
     "output_type": "execute_result"
    }
   ],
   "source": [
    "df2.head()"
   ]
  },
  {
   "cell_type": "code",
   "execution_count": 215,
   "metadata": {},
   "outputs": [
    {
     "name": "stdout",
     "output_type": "stream",
     "text": [
      "<class 'pandas.core.frame.DataFrame'>\n",
      "RangeIndex: 586672 entries, 0 to 586671\n",
      "Data columns (total 20 columns):\n",
      " #   Column            Non-Null Count   Dtype  \n",
      "---  ------            --------------   -----  \n",
      " 0   id                586672 non-null  object \n",
      " 1   name              586601 non-null  object \n",
      " 2   popularity        586672 non-null  int64  \n",
      " 3   duration_ms       586672 non-null  int64  \n",
      " 4   explicit          586672 non-null  int64  \n",
      " 5   artists           586672 non-null  object \n",
      " 6   id_artists        586672 non-null  object \n",
      " 7   release_date      586672 non-null  object \n",
      " 8   danceability      586672 non-null  float64\n",
      " 9   energy            586672 non-null  float64\n",
      " 10  key               586672 non-null  int64  \n",
      " 11  loudness          586672 non-null  float64\n",
      " 12  mode              586672 non-null  int64  \n",
      " 13  speechiness       586672 non-null  float64\n",
      " 14  acousticness      586672 non-null  float64\n",
      " 15  instrumentalness  586672 non-null  float64\n",
      " 16  liveness          586672 non-null  float64\n",
      " 17  valence           586672 non-null  float64\n",
      " 18  tempo             586672 non-null  float64\n",
      " 19  time_signature    586672 non-null  int64  \n",
      "dtypes: float64(9), int64(6), object(5)\n",
      "memory usage: 89.5+ MB\n"
     ]
    }
   ],
   "source": [
    "tracks.info()"
   ]
  },
  {
   "cell_type": "code",
   "execution_count": 230,
   "metadata": {},
   "outputs": [
    {
     "name": "stdout",
     "output_type": "stream",
     "text": [
      "<class 'pandas.core.frame.DataFrame'>\n",
      "Int64Index: 34740 entries, 0 to 34739\n",
      "Data columns (total 19 columns):\n",
      " #   Column            Non-Null Count  Dtype  \n",
      "---  ------            --------------  -----  \n",
      " 0   track_title       34739 non-null  object \n",
      " 1   artist_name       34739 non-null  object \n",
      " 2   track_id          34740 non-null  object \n",
      " 3   duration_ms       34740 non-null  int64  \n",
      " 4   energy            34740 non-null  float64\n",
      " 5   key               34740 non-null  int64  \n",
      " 6   mode              34740 non-null  int64  \n",
      " 7   time_signature    34740 non-null  int64  \n",
      " 8   acousticness      34740 non-null  float64\n",
      " 9   danceability      34740 non-null  float64\n",
      " 10  instrumentalness  34740 non-null  float64\n",
      " 11  liveness          34740 non-null  float64\n",
      " 12  loudness          34740 non-null  float64\n",
      " 13  speechiness       34740 non-null  float64\n",
      " 14  valence           34740 non-null  float64\n",
      " 15  tempo             34740 non-null  float64\n",
      " 16  On_chart          34740 non-null  int64  \n",
      " 17  year              10881 non-null  float64\n",
      " 18  id                10881 non-null  object \n",
      "dtypes: float64(10), int64(5), object(4)\n",
      "memory usage: 5.3+ MB\n"
     ]
    }
   ],
   "source": [
    "merged_df = pd.merge(df2, data[['year', 'id']], how='left', left_on='track_id', right_on='id')\n",
    "merged_df.info()"
   ]
  },
  {
   "cell_type": "code",
   "execution_count": 199,
   "metadata": {},
   "outputs": [],
   "source": [
    "years = merged_df['year'] > 2010"
   ]
  },
  {
   "cell_type": "code",
   "execution_count": 200,
   "metadata": {},
   "outputs": [
    {
     "data": {
      "text/html": [
       "<div>\n",
       "<style scoped>\n",
       "    .dataframe tbody tr th:only-of-type {\n",
       "        vertical-align: middle;\n",
       "    }\n",
       "\n",
       "    .dataframe tbody tr th {\n",
       "        vertical-align: top;\n",
       "    }\n",
       "\n",
       "    .dataframe thead th {\n",
       "        text-align: right;\n",
       "    }\n",
       "</style>\n",
       "<table border=\"1\" class=\"dataframe\">\n",
       "  <thead>\n",
       "    <tr style=\"text-align: right;\">\n",
       "      <th></th>\n",
       "      <th>track_title</th>\n",
       "      <th>artist_name</th>\n",
       "      <th>track_id</th>\n",
       "      <th>duration_ms</th>\n",
       "      <th>energy</th>\n",
       "      <th>key</th>\n",
       "      <th>mode</th>\n",
       "      <th>time_signature</th>\n",
       "      <th>acousticness</th>\n",
       "      <th>danceability</th>\n",
       "      <th>instrumentalness</th>\n",
       "      <th>liveness</th>\n",
       "      <th>loudness</th>\n",
       "      <th>speechiness</th>\n",
       "      <th>valence</th>\n",
       "      <th>tempo</th>\n",
       "      <th>On_chart</th>\n",
       "      <th>year</th>\n",
       "      <th>id</th>\n",
       "    </tr>\n",
       "  </thead>\n",
       "  <tbody>\n",
       "    <tr>\n",
       "      <th>0</th>\n",
       "      <td>Red Planet - Red Planet Radio</td>\n",
       "      <td>Joe</td>\n",
       "      <td>3FeufAV1f6fajILIQuAXMw</td>\n",
       "      <td>256080</td>\n",
       "      <td>0.96800</td>\n",
       "      <td>7</td>\n",
       "      <td>0</td>\n",
       "      <td>4</td>\n",
       "      <td>0.02150</td>\n",
       "      <td>0.698</td>\n",
       "      <td>0.862000</td>\n",
       "      <td>0.1110</td>\n",
       "      <td>-11.012</td>\n",
       "      <td>0.0337</td>\n",
       "      <td>0.3900</td>\n",
       "      <td>136.884</td>\n",
       "      <td>0</td>\n",
       "      <td>NaN</td>\n",
       "      <td>NaN</td>\n",
       "    </tr>\n",
       "    <tr>\n",
       "      <th>1</th>\n",
       "      <td>Red Planet - Red Planet Extended</td>\n",
       "      <td>Joe</td>\n",
       "      <td>2o7oYjZuo3S2QitY4R5dII</td>\n",
       "      <td>395442</td>\n",
       "      <td>0.97000</td>\n",
       "      <td>2</td>\n",
       "      <td>1</td>\n",
       "      <td>4</td>\n",
       "      <td>0.00339</td>\n",
       "      <td>0.724</td>\n",
       "      <td>0.896000</td>\n",
       "      <td>0.1060</td>\n",
       "      <td>-8.415</td>\n",
       "      <td>0.0358</td>\n",
       "      <td>0.4320</td>\n",
       "      <td>136.868</td>\n",
       "      <td>0</td>\n",
       "      <td>NaN</td>\n",
       "      <td>NaN</td>\n",
       "    </tr>\n",
       "    <tr>\n",
       "      <th>2</th>\n",
       "      <td>Basejump</td>\n",
       "      <td>Robin Schulz</td>\n",
       "      <td>6nWoNNkfffbmHU9z3kGPao</td>\n",
       "      <td>391680</td>\n",
       "      <td>0.40600</td>\n",
       "      <td>5</td>\n",
       "      <td>0</td>\n",
       "      <td>4</td>\n",
       "      <td>0.00433</td>\n",
       "      <td>0.803</td>\n",
       "      <td>0.825000</td>\n",
       "      <td>0.0948</td>\n",
       "      <td>-9.444</td>\n",
       "      <td>0.0608</td>\n",
       "      <td>0.0769</td>\n",
       "      <td>125.014</td>\n",
       "      <td>0</td>\n",
       "      <td>NaN</td>\n",
       "      <td>NaN</td>\n",
       "    </tr>\n",
       "    <tr>\n",
       "      <th>3</th>\n",
       "      <td>Goldberg Variations, BWV 988 (Arr. for Accordi...</td>\n",
       "      <td>Johann Sebastian Bach</td>\n",
       "      <td>5Zg1UOcmee5oiRw3gbXna0</td>\n",
       "      <td>347840</td>\n",
       "      <td>0.00267</td>\n",
       "      <td>7</td>\n",
       "      <td>0</td>\n",
       "      <td>5</td>\n",
       "      <td>0.91000</td>\n",
       "      <td>0.150</td>\n",
       "      <td>0.028700</td>\n",
       "      <td>0.1250</td>\n",
       "      <td>-24.701</td>\n",
       "      <td>0.0434</td>\n",
       "      <td>0.1050</td>\n",
       "      <td>135.652</td>\n",
       "      <td>0</td>\n",
       "      <td>NaN</td>\n",
       "      <td>NaN</td>\n",
       "    </tr>\n",
       "    <tr>\n",
       "      <th>4</th>\n",
       "      <td>Goldberg Variations, BWV 988 (Arr. for Accordi...</td>\n",
       "      <td>Johann Sebastian Bach</td>\n",
       "      <td>2ZWmWGoZS2OTGZSnMhck7Q</td>\n",
       "      <td>181733</td>\n",
       "      <td>0.22600</td>\n",
       "      <td>7</td>\n",
       "      <td>1</td>\n",
       "      <td>4</td>\n",
       "      <td>0.76800</td>\n",
       "      <td>0.290</td>\n",
       "      <td>0.000002</td>\n",
       "      <td>0.1050</td>\n",
       "      <td>-14.990</td>\n",
       "      <td>0.0385</td>\n",
       "      <td>0.4700</td>\n",
       "      <td>98.348</td>\n",
       "      <td>0</td>\n",
       "      <td>NaN</td>\n",
       "      <td>NaN</td>\n",
       "    </tr>\n",
       "  </tbody>\n",
       "</table>\n",
       "</div>"
      ],
      "text/plain": [
       "                                         track_title            artist_name  \\\n",
       "0                      Red Planet - Red Planet Radio                    Joe   \n",
       "1                   Red Planet - Red Planet Extended                    Joe   \n",
       "2                                           Basejump           Robin Schulz   \n",
       "3  Goldberg Variations, BWV 988 (Arr. for Accordi...  Johann Sebastian Bach   \n",
       "4  Goldberg Variations, BWV 988 (Arr. for Accordi...  Johann Sebastian Bach   \n",
       "\n",
       "                 track_id  duration_ms   energy  key  mode  time_signature  \\\n",
       "0  3FeufAV1f6fajILIQuAXMw       256080  0.96800    7     0               4   \n",
       "1  2o7oYjZuo3S2QitY4R5dII       395442  0.97000    2     1               4   \n",
       "2  6nWoNNkfffbmHU9z3kGPao       391680  0.40600    5     0               4   \n",
       "3  5Zg1UOcmee5oiRw3gbXna0       347840  0.00267    7     0               5   \n",
       "4  2ZWmWGoZS2OTGZSnMhck7Q       181733  0.22600    7     1               4   \n",
       "\n",
       "   acousticness  danceability  instrumentalness  liveness  loudness  \\\n",
       "0       0.02150         0.698          0.862000    0.1110   -11.012   \n",
       "1       0.00339         0.724          0.896000    0.1060    -8.415   \n",
       "2       0.00433         0.803          0.825000    0.0948    -9.444   \n",
       "3       0.91000         0.150          0.028700    0.1250   -24.701   \n",
       "4       0.76800         0.290          0.000002    0.1050   -14.990   \n",
       "\n",
       "   speechiness  valence    tempo  On_chart  year   id  \n",
       "0       0.0337   0.3900  136.884         0   NaN  NaN  \n",
       "1       0.0358   0.4320  136.868         0   NaN  NaN  \n",
       "2       0.0608   0.0769  125.014         0   NaN  NaN  \n",
       "3       0.0434   0.1050  135.652         0   NaN  NaN  \n",
       "4       0.0385   0.4700   98.348         0   NaN  NaN  "
      ]
     },
     "execution_count": 200,
     "metadata": {},
     "output_type": "execute_result"
    }
   ],
   "source": [
    "merged_df.head()"
   ]
  },
  {
   "cell_type": "code",
   "execution_count": 201,
   "metadata": {},
   "outputs": [
    {
     "name": "stdout",
     "output_type": "stream",
     "text": [
      "<class 'pandas.core.frame.DataFrame'>\n",
      "Int64Index: 2778 entries, 17316 to 34739\n",
      "Data columns (total 19 columns):\n",
      " #   Column            Non-Null Count  Dtype  \n",
      "---  ------            --------------  -----  \n",
      " 0   track_title       2778 non-null   object \n",
      " 1   artist_name       2778 non-null   object \n",
      " 2   track_id          2778 non-null   object \n",
      " 3   duration_ms       2778 non-null   int64  \n",
      " 4   energy            2778 non-null   float64\n",
      " 5   key               2778 non-null   int64  \n",
      " 6   mode              2778 non-null   int64  \n",
      " 7   time_signature    2778 non-null   int64  \n",
      " 8   acousticness      2778 non-null   float64\n",
      " 9   danceability      2778 non-null   float64\n",
      " 10  instrumentalness  2778 non-null   float64\n",
      " 11  liveness          2778 non-null   float64\n",
      " 12  loudness          2778 non-null   float64\n",
      " 13  speechiness       2778 non-null   float64\n",
      " 14  valence           2778 non-null   float64\n",
      " 15  tempo             2778 non-null   float64\n",
      " 16  On_chart          2778 non-null   int64  \n",
      " 17  year              2778 non-null   float64\n",
      " 18  id                2778 non-null   object \n",
      "dtypes: float64(10), int64(5), object(4)\n",
      "memory usage: 434.1+ KB\n"
     ]
    }
   ],
   "source": [
    "final_df = merged_df[years]\n",
    "#merged_df[merged_df['year'] > 2010]\n",
    "final_df.info()"
   ]
  },
  {
   "cell_type": "code",
   "execution_count": 190,
   "metadata": {},
   "outputs": [],
   "source": [
    "y = final_df['On_chart']\n",
    "X = final_df.drop(['On_chart', 'track_title', 'artist_name', 'track_id', 'id'], axis=1)"
   ]
  },
  {
   "cell_type": "code",
   "execution_count": 191,
   "metadata": {},
   "outputs": [],
   "source": [
    "X_train, X_test, y_train, y_test = train_test_split(X, y, random_state=42)"
   ]
  },
  {
   "cell_type": "code",
   "execution_count": 192,
   "metadata": {},
   "outputs": [
    {
     "data": {
      "text/plain": [
       "1    2083\n",
       "Name: On_chart, dtype: int64"
      ]
     },
     "execution_count": 192,
     "metadata": {},
     "output_type": "execute_result"
    }
   ],
   "source": [
    "y_train.value_counts()"
   ]
  },
  {
   "cell_type": "code",
   "execution_count": 175,
   "metadata": {},
   "outputs": [
    {
     "name": "stdout",
     "output_type": "stream",
     "text": [
      "Training Accuracy: 100.0%\n",
      "Validation accuracy: 100.0%\n"
     ]
    }
   ],
   "source": [
    "# Instantiate XGBClassifier\n",
    "clf = XGBClassifier()\n",
    "\n",
    "# Fit XGBClassifier\n",
    "clf.fit(X_train, y_train)\n",
    "\n",
    "# Predict on training and test sets\n",
    "training_preds = clf.predict(X_train)\n",
    "test_preds = clf.predict(X_test)\n",
    "\n",
    "# Accuracy of training and test sets\n",
    "training_accuracy = accuracy_score(y_train, training_preds)\n",
    "test_accuracy = accuracy_score(y_test, test_preds)\n",
    "\n",
    "print('Training Accuracy: {:.4}%'.format(training_accuracy * 100))\n",
    "print('Validation accuracy: {:.4}%'.format(test_accuracy * 100))"
   ]
  },
  {
   "cell_type": "code",
   "execution_count": 159,
   "metadata": {},
   "outputs": [],
   "source": [
    "param_grid = {\n",
    "    'learning_rate': [0.1, 0.2],\n",
    "    'max_depth': [6],\n",
    "    'min_child_weight': [1, 2],\n",
    "    'subsample': [0.5, 0.7],\n",
    "    'n_estimators': [100],\n",
    "}"
   ]
  },
  {
   "cell_type": "code",
   "execution_count": 160,
   "metadata": {},
   "outputs": [
    {
     "name": "stdout",
     "output_type": "stream",
     "text": [
      "Grid Search found the following optimal parameters: \n",
      "learning_rate: 0.1\n",
      "max_depth: 6\n",
      "min_child_weight: 1\n",
      "n_estimators: 100\n",
      "subsample: 0.5\n",
      "\n",
      "Training Accuracy: 100.0%\n",
      "Validation accuracy: 100.0%\n"
     ]
    }
   ],
   "source": [
    "grid_clf = GridSearchCV(clf, param_grid, scoring='accuracy', cv=None, n_jobs=1)\n",
    "grid_clf.fit(X_train, y_train)\n",
    "\n",
    "best_parameters = grid_clf.best_params_\n",
    "\n",
    "print('Grid Search found the following optimal parameters: ')\n",
    "for param_name in sorted(best_parameters.keys()):\n",
    "    print('%s: %r' % (param_name, best_parameters[param_name]))\n",
    "\n",
    "training_preds = grid_clf.predict(X_train)\n",
    "test_preds = grid_clf.predict(X_test)\n",
    "training_accuracy = accuracy_score(y_train, training_preds)\n",
    "test_accuracy = accuracy_score(y_test, test_preds)\n",
    "\n",
    "print('')\n",
    "print('Training Accuracy: {:.4}%'.format(training_accuracy * 100))\n",
    "print('Validation accuracy: {:.4}%'.format(test_accuracy * 100))"
   ]
  },
  {
   "cell_type": "code",
   "execution_count": 184,
   "metadata": {},
   "outputs": [
    {
     "data": {
      "text/html": [
       "<div>\n",
       "<style scoped>\n",
       "    .dataframe tbody tr th:only-of-type {\n",
       "        vertical-align: middle;\n",
       "    }\n",
       "\n",
       "    .dataframe tbody tr th {\n",
       "        vertical-align: top;\n",
       "    }\n",
       "\n",
       "    .dataframe thead th {\n",
       "        text-align: right;\n",
       "    }\n",
       "</style>\n",
       "<table border=\"1\" class=\"dataframe\">\n",
       "  <thead>\n",
       "    <tr style=\"text-align: right;\">\n",
       "      <th></th>\n",
       "      <th>track_title</th>\n",
       "      <th>artist_name</th>\n",
       "      <th>track_id</th>\n",
       "      <th>duration_ms</th>\n",
       "      <th>energy</th>\n",
       "      <th>key</th>\n",
       "      <th>mode</th>\n",
       "      <th>time_signature</th>\n",
       "      <th>acousticness</th>\n",
       "      <th>danceability</th>\n",
       "      <th>instrumentalness</th>\n",
       "      <th>liveness</th>\n",
       "      <th>loudness</th>\n",
       "      <th>speechiness</th>\n",
       "      <th>valence</th>\n",
       "      <th>tempo</th>\n",
       "      <th>On_chart</th>\n",
       "    </tr>\n",
       "  </thead>\n",
       "  <tbody>\n",
       "    <tr>\n",
       "      <th>0</th>\n",
       "      <td>Red Planet - Red Planet Radio</td>\n",
       "      <td>Joe</td>\n",
       "      <td>3FeufAV1f6fajILIQuAXMw</td>\n",
       "      <td>256080</td>\n",
       "      <td>0.96800</td>\n",
       "      <td>7</td>\n",
       "      <td>0</td>\n",
       "      <td>4</td>\n",
       "      <td>0.02150</td>\n",
       "      <td>0.698</td>\n",
       "      <td>0.862000</td>\n",
       "      <td>0.1110</td>\n",
       "      <td>-11.012</td>\n",
       "      <td>0.0337</td>\n",
       "      <td>0.3900</td>\n",
       "      <td>136.884</td>\n",
       "      <td>0</td>\n",
       "    </tr>\n",
       "    <tr>\n",
       "      <th>1</th>\n",
       "      <td>Red Planet - Red Planet Extended</td>\n",
       "      <td>Joe</td>\n",
       "      <td>2o7oYjZuo3S2QitY4R5dII</td>\n",
       "      <td>395442</td>\n",
       "      <td>0.97000</td>\n",
       "      <td>2</td>\n",
       "      <td>1</td>\n",
       "      <td>4</td>\n",
       "      <td>0.00339</td>\n",
       "      <td>0.724</td>\n",
       "      <td>0.896000</td>\n",
       "      <td>0.1060</td>\n",
       "      <td>-8.415</td>\n",
       "      <td>0.0358</td>\n",
       "      <td>0.4320</td>\n",
       "      <td>136.868</td>\n",
       "      <td>0</td>\n",
       "    </tr>\n",
       "    <tr>\n",
       "      <th>2</th>\n",
       "      <td>Basejump</td>\n",
       "      <td>Robin Schulz</td>\n",
       "      <td>6nWoNNkfffbmHU9z3kGPao</td>\n",
       "      <td>391680</td>\n",
       "      <td>0.40600</td>\n",
       "      <td>5</td>\n",
       "      <td>0</td>\n",
       "      <td>4</td>\n",
       "      <td>0.00433</td>\n",
       "      <td>0.803</td>\n",
       "      <td>0.825000</td>\n",
       "      <td>0.0948</td>\n",
       "      <td>-9.444</td>\n",
       "      <td>0.0608</td>\n",
       "      <td>0.0769</td>\n",
       "      <td>125.014</td>\n",
       "      <td>0</td>\n",
       "    </tr>\n",
       "    <tr>\n",
       "      <th>3</th>\n",
       "      <td>Goldberg Variations, BWV 988 (Arr. for Accordi...</td>\n",
       "      <td>Johann Sebastian Bach</td>\n",
       "      <td>5Zg1UOcmee5oiRw3gbXna0</td>\n",
       "      <td>347840</td>\n",
       "      <td>0.00267</td>\n",
       "      <td>7</td>\n",
       "      <td>0</td>\n",
       "      <td>5</td>\n",
       "      <td>0.91000</td>\n",
       "      <td>0.150</td>\n",
       "      <td>0.028700</td>\n",
       "      <td>0.1250</td>\n",
       "      <td>-24.701</td>\n",
       "      <td>0.0434</td>\n",
       "      <td>0.1050</td>\n",
       "      <td>135.652</td>\n",
       "      <td>0</td>\n",
       "    </tr>\n",
       "    <tr>\n",
       "      <th>4</th>\n",
       "      <td>Goldberg Variations, BWV 988 (Arr. for Accordi...</td>\n",
       "      <td>Johann Sebastian Bach</td>\n",
       "      <td>2ZWmWGoZS2OTGZSnMhck7Q</td>\n",
       "      <td>181733</td>\n",
       "      <td>0.22600</td>\n",
       "      <td>7</td>\n",
       "      <td>1</td>\n",
       "      <td>4</td>\n",
       "      <td>0.76800</td>\n",
       "      <td>0.290</td>\n",
       "      <td>0.000002</td>\n",
       "      <td>0.1050</td>\n",
       "      <td>-14.990</td>\n",
       "      <td>0.0385</td>\n",
       "      <td>0.4700</td>\n",
       "      <td>98.348</td>\n",
       "      <td>0</td>\n",
       "    </tr>\n",
       "  </tbody>\n",
       "</table>\n",
       "</div>"
      ],
      "text/plain": [
       "                                         track_title            artist_name  \\\n",
       "0                      Red Planet - Red Planet Radio                    Joe   \n",
       "1                   Red Planet - Red Planet Extended                    Joe   \n",
       "2                                           Basejump           Robin Schulz   \n",
       "3  Goldberg Variations, BWV 988 (Arr. for Accordi...  Johann Sebastian Bach   \n",
       "4  Goldberg Variations, BWV 988 (Arr. for Accordi...  Johann Sebastian Bach   \n",
       "\n",
       "                 track_id  duration_ms   energy  key  mode  time_signature  \\\n",
       "0  3FeufAV1f6fajILIQuAXMw       256080  0.96800    7     0               4   \n",
       "1  2o7oYjZuo3S2QitY4R5dII       395442  0.97000    2     1               4   \n",
       "2  6nWoNNkfffbmHU9z3kGPao       391680  0.40600    5     0               4   \n",
       "3  5Zg1UOcmee5oiRw3gbXna0       347840  0.00267    7     0               5   \n",
       "4  2ZWmWGoZS2OTGZSnMhck7Q       181733  0.22600    7     1               4   \n",
       "\n",
       "   acousticness  danceability  instrumentalness  liveness  loudness  \\\n",
       "0       0.02150         0.698          0.862000    0.1110   -11.012   \n",
       "1       0.00339         0.724          0.896000    0.1060    -8.415   \n",
       "2       0.00433         0.803          0.825000    0.0948    -9.444   \n",
       "3       0.91000         0.150          0.028700    0.1250   -24.701   \n",
       "4       0.76800         0.290          0.000002    0.1050   -14.990   \n",
       "\n",
       "   speechiness  valence    tempo  On_chart  \n",
       "0       0.0337   0.3900  136.884         0  \n",
       "1       0.0358   0.4320  136.868         0  \n",
       "2       0.0608   0.0769  125.014         0  \n",
       "3       0.0434   0.1050  135.652         0  \n",
       "4       0.0385   0.4700   98.348         0  "
      ]
     },
     "execution_count": 184,
     "metadata": {},
     "output_type": "execute_result"
    }
   ],
   "source": [
    "df2.head()"
   ]
  },
  {
   "cell_type": "code",
   "execution_count": 193,
   "metadata": {},
   "outputs": [
    {
     "data": {
      "text/plain": [
       "1    17424\n",
       "0    17315\n",
       "Name: On_chart, dtype: int64"
      ]
     },
     "execution_count": 193,
     "metadata": {},
     "output_type": "execute_result"
    }
   ],
   "source": [
    "df['On_chart'].value_counts()"
   ]
  },
  {
   "cell_type": "code",
   "execution_count": 207,
   "metadata": {},
   "outputs": [
    {
     "data": {
      "text/plain": [
       "1    4914\n",
       "Name: On_chart, dtype: int64"
      ]
     },
     "execution_count": 207,
     "metadata": {},
     "output_type": "execute_result"
    }
   ],
   "source": [
    "merged_df[merged_df['year'] > 2000]['On_chart'].value_counts()"
   ]
  },
  {
   "cell_type": "code",
   "execution_count": 208,
   "metadata": {},
   "outputs": [
    {
     "data": {
      "text/plain": [
       "5779"
      ]
     },
     "execution_count": 208,
     "metadata": {},
     "output_type": "execute_result"
    }
   ],
   "source": [
    "len(merged_df[merged_df['year'] < 2000])"
   ]
  },
  {
   "cell_type": "code",
   "execution_count": 211,
   "metadata": {},
   "outputs": [
    {
     "data": {
      "text/plain": [
       "0"
      ]
     },
     "execution_count": 211,
     "metadata": {},
     "output_type": "execute_result"
    }
   ],
   "source": []
  },
  {
   "cell_type": "code",
   "execution_count": null,
   "metadata": {},
   "outputs": [],
   "source": []
  },
  {
   "cell_type": "code",
   "execution_count": null,
   "metadata": {},
   "outputs": [],
   "source": []
  },
  {
   "cell_type": "code",
   "execution_count": null,
   "metadata": {},
   "outputs": [],
   "source": []
  },
  {
   "cell_type": "markdown",
   "metadata": {},
   "source": [
    "remake model based on last decade\n",
    "call a 2021 song from spotify api and pass thru model and see how it preforms"
   ]
  },
  {
   "cell_type": "markdown",
   "metadata": {},
   "source": [
    "inner join the data sets together\n",
    "get rid of everything from before 2010"
   ]
  },
  {
   "cell_type": "code",
   "execution_count": null,
   "metadata": {},
   "outputs": [],
   "source": []
  },
  {
   "cell_type": "markdown",
   "metadata": {},
   "source": [
    "intro\n",
    "clustering/lorins model and predictions\n",
    "feature importance\n",
    "neural network attempt\n",
    "(talk about possibly doing the 2010 thing, idk yet)\n",
    "XGBoost best model so far\n",
    "example of song in model\n",
    "if it was right or not\n",
    "final suggestions\n",
    "(what a song should look like for a top 100 hit)\n",
    "(a model that predicts top 100)"
   ]
  },
  {
   "cell_type": "code",
   "execution_count": null,
   "metadata": {},
   "outputs": [],
   "source": []
  },
  {
   "cell_type": "code",
   "execution_count": null,
   "metadata": {},
   "outputs": [],
   "source": []
  }
 ],
 "metadata": {
  "kernelspec": {
   "display_name": "Python 3",
   "language": "python",
   "name": "python3"
  },
  "language_info": {
   "codemirror_mode": {
    "name": "ipython",
    "version": 3
   },
   "file_extension": ".py",
   "mimetype": "text/x-python",
   "name": "python",
   "nbconvert_exporter": "python",
   "pygments_lexer": "ipython3",
   "version": "3.8.5"
  }
 },
 "nbformat": 4,
 "nbformat_minor": 4
}
